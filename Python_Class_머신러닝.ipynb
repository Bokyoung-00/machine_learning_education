{
  "nbformat": 4,
  "nbformat_minor": 0,
  "metadata": {
    "colab": {
      "name": "Python_Class_머신러닝.ipynb",
      "provenance": [],
      "toc_visible": true,
      "authorship_tag": "ABX9TyP87eCCMiD6S15u2znDhcHg",
      "include_colab_link": true
    },
    "kernelspec": {
      "name": "python3",
      "display_name": "Python 3"
    }
  },
  "cells": [
    {
      "cell_type": "markdown",
      "metadata": {
        "id": "view-in-github",
        "colab_type": "text"
      },
      "source": [
        "<a href=\"https://colab.research.google.com/github/Bokyoung-00/machine_learning_education/blob/master/Python_Class_%EB%A8%B8%EC%8B%A0%EB%9F%AC%EB%8B%9D.ipynb\" target=\"_parent\"><img src=\"https://colab.research.google.com/assets/colab-badge.svg\" alt=\"Open In Colab\"/></a>"
      ]
    },
    {
      "cell_type": "markdown",
      "metadata": {
        "id": "80I0YNx-MxhB",
        "colab_type": "text"
      },
      "source": [
        "### (1) Class 가 필요한 이유"
      ]
    },
    {
      "cell_type": "markdown",
      "metadata": {
        "id": "rSYKYZr1Lsvx",
        "colab_type": "text"
      },
      "source": [
        "- 계산기 두 개를 한 번에 사용하고자 함 \n"
      ]
    },
    {
      "cell_type": "code",
      "metadata": {
        "id": "Ac_TgArKKRyr",
        "colab_type": "code",
        "colab": {
          "base_uri": "https://localhost:8080/",
          "height": 35
        },
        "outputId": "9db2d132-d8d6-4349-dd05-2cb7b2c2a700"
      },
      "source": [
        "# 리스트 형태로 return\n",
        "\n",
        "result1 = 0\n",
        "result2 = 0\n",
        "\n",
        "def add(num):\n",
        "  global result1\n",
        "  global result2\n",
        "  result1 += num\n",
        "  result2 += num\n",
        "  return [result1, result2]\n",
        "\n",
        "print(add(10))"
      ],
      "execution_count": 3,
      "outputs": [
        {
          "output_type": "stream",
          "text": [
            "[10, 10]\n"
          ],
          "name": "stdout"
        }
      ]
    },
    {
      "cell_type": "markdown",
      "metadata": {
        "id": "Ax3ywshgMklp",
        "colab_type": "text"
      },
      "source": [
        "- 결과 값을 두 개 만들기 위해서 똑같은 기능의 함수 2개 써야한다"
      ]
    },
    {
      "cell_type": "code",
      "metadata": {
        "id": "IYXPLoRKL67e",
        "colab_type": "code",
        "colab": {}
      },
      "source": [
        "result1 = 0\n",
        "result2 = 0\n",
        "\n",
        "def add1(num):\n",
        "  global result1\n",
        "  result1 += num\n",
        "  return result1\n",
        "\n",
        "def add2(num):\n",
        "  global result2\n",
        "  result2 += num\n",
        "  return result2\n",
        "\n",
        "print(add1(10))\n",
        "print(add2(20)) #100개 값을 구할 때는 힘들어진다"
      ],
      "execution_count": null,
      "outputs": []
    },
    {
      "cell_type": "markdown",
      "metadata": {
        "id": "cbvfm6kBMepl",
        "colab_type": "text"
      },
      "source": [
        "- 프로그래밍에서 반복 작업은 불필요하다\n",
        "- Class 를 사용하면 편리하다"
      ]
    },
    {
      "cell_type": "markdown",
      "metadata": {
        "id": "S-nOnGsqM7Mo",
        "colab_type": "text"
      },
      "source": [
        "### (2) 사람 클래스\n",
        "- 사람의 특징\n",
        "  + 이름, 나이, 취미, 등....\n",
        "- 사람의 행동\n",
        "  + 잠자는 행동, 밥 먹는 행동 등...\n",
        "\n",
        "#### 1. 프로그래밍\n",
        "- 사람의 대한 변수\n",
        "  + name = \"rain\" & age = 20, wife_name = \"김태희\"\n",
        "- \"비\" 가 하는 행동\n",
        "  + def sleep():, def eat(): ...\n",
        "\n"
      ]
    },
    {
      "cell_type": "code",
      "metadata": {
        "id": "QAA8BnSGMWsw",
        "colab_type": "code",
        "colab": {}
      },
      "source": [
        "class Human:\n",
        "  \n",
        "  #사람에 대한 특징\n",
        "  name = \"Rain\"\n",
        "  # name = NULL 이라고 표현 가능\n",
        "  age = 30\n",
        "\n",
        "  #사람에 대한 행동\n",
        "  def exercise(self):\n",
        "    print(\"운동합니다\")"
      ],
      "execution_count": 4,
      "outputs": []
    },
    {
      "cell_type": "code",
      "metadata": {
        "id": "Tt1OB-4fOfFC",
        "colab_type": "code",
        "colab": {
          "base_uri": "https://localhost:8080/",
          "height": 71
        },
        "outputId": "0de6d8ec-6362-4f0b-830a-9690524b155b"
      },
      "source": [
        "rain = Human()\n",
        "print(rain.name)\n",
        "print(rain.age)\n",
        "rain.exercise()"
      ],
      "execution_count": 5,
      "outputs": [
        {
          "output_type": "stream",
          "text": [
            "Rain\n",
            "30\n",
            "운동합니다\n"
          ],
          "name": "stdout"
        }
      ]
    },
    {
      "cell_type": "markdown",
      "metadata": {
        "id": "xrrXSmyZO0g2",
        "colab_type": "text"
      },
      "source": [
        "#### 2. 일반적인 형태의 Class"
      ]
    },
    {
      "cell_type": "code",
      "metadata": {
        "id": "uIKufJ7jO8NB",
        "colab_type": "code",
        "colab": {
          "base_uri": "https://localhost:8080/",
          "height": 71
        },
        "outputId": "f953c0a5-099a-4ee4-c448-a94363db1446"
      },
      "source": [
        "class Human:\n",
        "  def __init__(self, name, age, hobby, degree):  # 변수 리스트 \n",
        "    self.name = name\n",
        "    self.age = age\n",
        "    self.hobby = hobby\n",
        "    self.degree = degree\n",
        "  \n",
        "  def describe(self):\n",
        "    return f\"{self.name}의 나이는 {self.age} 이다\"\n",
        "\n",
        "\n",
        "evan = Human(\"Evan\", 30, \"축구\", \"고졸\")\n",
        "hannah = Human(\"Hannah\", 20, \"프로그래밍\", \"대졸\")\n",
        "man_1= Human(\"man\",10,\"g\",\"-\")\n",
        "\n",
        "print(evan.name, evan.hobby,\",\",evan.describe())\n",
        "print(man_1.name, man_1.hobby,\",\",man_1.describe())\n",
        "print(hannah.age, hannah.degree, \",\",hannah.describe())"
      ],
      "execution_count": 16,
      "outputs": [
        {
          "output_type": "stream",
          "text": [
            "Evan 축구 , Evan의 나이는 30 이다\n",
            "man g , man의 나이는 10 이다\n",
            "20 대졸 , Hannah의 나이는 20 이다\n"
          ],
          "name": "stdout"
        }
      ]
    },
    {
      "cell_type": "markdown",
      "metadata": {
        "id": "d3ImbQnTRHci",
        "colab_type": "text"
      },
      "source": [
        "## (3) 상속"
      ]
    },
    {
      "cell_type": "code",
      "metadata": {
        "id": "SOO6Jm2kRSM-",
        "colab_type": "code",
        "colab": {
          "base_uri": "https://localhost:8080/",
          "height": 35
        },
        "outputId": "3ce58371-0662-4342-d2dd-3c60091e72a9"
      },
      "source": [
        "class Human:\n",
        "  def __init__(self, name, age):  # 변수 리스트 \n",
        "    self.name = name\n",
        "    self.age = age\n",
        "  def describe(self):\n",
        "      return f\"{self.name}의 나이는 {self.age} 이다\"\n",
        "  def skinColor(self, color):\n",
        "      return f\"{self.name}의 피부 색상은 {color}이다\"\n",
        "\n",
        "class Asian(Human):\n",
        "  pass\n",
        "\n",
        "evan = Asian(\"Jihoon\", 9)\n",
        "print(evan.skinColor(\"Yellow\"))\n"
      ],
      "execution_count": 18,
      "outputs": [
        {
          "output_type": "stream",
          "text": [
            "Jihoon의 피부 색상은 Yellow이다\n"
          ],
          "name": "stdout"
        }
      ]
    },
    {
      "cell_type": "markdown",
      "metadata": {
        "id": "UYdEt1_gZpIt",
        "colab_type": "text"
      },
      "source": [
        "## (4) 머신러닝 클래스\n",
        "\n",
        "- data: data-20200826T055710Z-001.zip (단톡방)\n"
      ]
    },
    {
      "cell_type": "markdown",
      "metadata": {
        "id": "006Pdo5earQ_",
        "colab_type": "text"
      },
      "source": [
        "- 데이터 구글 드라이브에서 불러오기"
      ]
    },
    {
      "cell_type": "code",
      "metadata": {
        "id": "lkFPAfR6aEtv",
        "colab_type": "code",
        "colab": {
          "base_uri": "https://localhost:8080/",
          "height": 145
        },
        "outputId": "d58384e9-f6f7-4b38-c649-a42f8ece5c4b"
      },
      "source": [
        "# Mount Google Drive\n",
        "from google.colab import drive # import drive from google colab\n",
        "from os.path import join\n",
        "\n",
        "ROOT = \"/content/drive\"     # default location for the drive\n",
        "print(ROOT)                 # print content of ROOT (Optional)\n",
        "drive.mount(ROOT)  "
      ],
      "execution_count": 19,
      "outputs": [
        {
          "output_type": "stream",
          "text": [
            "/content/drive\n",
            "Go to this URL in a browser: https://accounts.google.com/o/oauth2/auth?client_id=947318989803-6bn6qk8qdgf4n4g3pfee6491hc0brc4i.apps.googleusercontent.com&redirect_uri=urn%3aietf%3awg%3aoauth%3a2.0%3aoob&scope=email%20https%3a%2f%2fwww.googleapis.com%2fauth%2fdocs.test%20https%3a%2f%2fwww.googleapis.com%2fauth%2fdrive%20https%3a%2f%2fwww.googleapis.com%2fauth%2fdrive.photos.readonly%20https%3a%2f%2fwww.googleapis.com%2fauth%2fpeopleapi.readonly&response_type=code\n",
            "\n",
            "Enter your authorization code:\n",
            "··········\n",
            "Mounted at /content/drive\n"
          ],
          "name": "stdout"
        }
      ]
    },
    {
      "cell_type": "code",
      "metadata": {
        "id": "A3HNe1AwaMVC",
        "colab_type": "code",
        "colab": {
          "base_uri": "https://localhost:8080/",
          "height": 35
        },
        "outputId": "a1324abe-7f12-422e-a7b0-8afe9d9a67f6"
      },
      "source": [
        "MY_GOOGLE_DRIVE_PATH = 'My Drive/Colab Notebooks/data-20200826T055710Z-001/data/' # 프로젝트 경로\n",
        "PROJECT_PATH = join(ROOT, MY_GOOGLE_DRIVE_PATH) # 프로젝트 경로\n",
        "print(PROJECT_PATH)"
      ],
      "execution_count": 23,
      "outputs": [
        {
          "output_type": "stream",
          "text": [
            "/content/drive/My Drive/Colab Notebooks/data-20200826T055710Z-001/data/\n"
          ],
          "name": "stdout"
        }
      ]
    },
    {
      "cell_type": "code",
      "metadata": {
        "id": "s44ifextab7u",
        "colab_type": "code",
        "colab": {
          "base_uri": "https://localhost:8080/",
          "height": 53
        },
        "outputId": "07bcc702-d77f-4069-acbd-87d492ce1f5f"
      },
      "source": [
        "%cd \"{PROJECT_PATH}\"\n",
        "%ls"
      ],
      "execution_count": 26,
      "outputs": [
        {
          "output_type": "stream",
          "text": [
            "/content/drive/My Drive/Colab Notebooks/data-20200826T055710Z-001/data\n",
            "weather2.csv  weather.csv\n"
          ],
          "name": "stdout"
        }
      ]
    },
    {
      "cell_type": "code",
      "metadata": {
        "id": "EQsp2owNadau",
        "colab_type": "code",
        "colab": {}
      },
      "source": [
        "import pandas as pd\n",
        "\n",
        "data= pd.read_csv(\"weather.csv\")\n",
        "data2= pd.read_csv(\"weather2.csv\")"
      ],
      "execution_count": 28,
      "outputs": []
    },
    {
      "cell_type": "code",
      "metadata": {
        "id": "bpGh3-8KbXLX",
        "colab_type": "code",
        "colab": {
          "base_uri": "https://localhost:8080/",
          "height": 359
        },
        "outputId": "cd14f93f-3f88-4f91-b662-a1f93509bfe2"
      },
      "source": [
        "data.info()"
      ],
      "execution_count": 29,
      "outputs": [
        {
          "output_type": "stream",
          "text": [
            "<class 'pandas.core.frame.DataFrame'>\n",
            "RangeIndex: 96453 entries, 0 to 96452\n",
            "Data columns (total 12 columns):\n",
            " #   Column                    Non-Null Count  Dtype  \n",
            "---  ------                    --------------  -----  \n",
            " 0   Formatted Date            96453 non-null  object \n",
            " 1   Summary                   96453 non-null  object \n",
            " 2   Precip Type               95936 non-null  object \n",
            " 3   Temperature (C)           96453 non-null  float64\n",
            " 4   Apparent Temperature (C)  96453 non-null  float64\n",
            " 5   Humidity                  96453 non-null  float64\n",
            " 6   Wind Speed (km/h)         96453 non-null  float64\n",
            " 7   Wind Bearing (degrees)    96453 non-null  float64\n",
            " 8   Visibility (km)           96453 non-null  float64\n",
            " 9   Loud Cover                96453 non-null  float64\n",
            " 10  Pressure (millibars)      96453 non-null  float64\n",
            " 11  Daily Summary             96453 non-null  object \n",
            "dtypes: float64(8), object(4)\n",
            "memory usage: 8.8+ MB\n"
          ],
          "name": "stdout"
        }
      ]
    },
    {
      "cell_type": "code",
      "metadata": {
        "id": "x4IRZo3qbY6R",
        "colab_type": "code",
        "colab": {
          "base_uri": "https://localhost:8080/",
          "height": 359
        },
        "outputId": "0056f40c-0cbb-4353-d655-9b30516b2646"
      },
      "source": [
        "data2.info()"
      ],
      "execution_count": 30,
      "outputs": [
        {
          "output_type": "stream",
          "text": [
            "<class 'pandas.core.frame.DataFrame'>\n",
            "RangeIndex: 10000 entries, 0 to 9999\n",
            "Data columns (total 12 columns):\n",
            " #   Column                    Non-Null Count  Dtype  \n",
            "---  ------                    --------------  -----  \n",
            " 0   Formatted.Date            10000 non-null  object \n",
            " 1   Summary                   10000 non-null  object \n",
            " 2   Precip.Type               10000 non-null  object \n",
            " 3   Temperature..C.           10000 non-null  float64\n",
            " 4   Apparent.Temperature..C.  10000 non-null  float64\n",
            " 5   Humidity                  10000 non-null  float64\n",
            " 6   Wind.Speed..km.h.         10000 non-null  float64\n",
            " 7   Wind.Bearing..degrees.    10000 non-null  int64  \n",
            " 8   Visibility..km.           10000 non-null  float64\n",
            " 9   Loud.Cover                10000 non-null  int64  \n",
            " 10  Pressure..millibars.      10000 non-null  float64\n",
            " 11  Daily.Summary             10000 non-null  object \n",
            "dtypes: float64(6), int64(2), object(4)\n",
            "memory usage: 937.6+ KB\n"
          ],
          "name": "stdout"
        }
      ]
    },
    {
      "cell_type": "markdown",
      "metadata": {
        "id": "u0XmNAe-bd7y",
        "colab_type": "text"
      },
      "source": [
        "- 데이터 불러오는 것의 반복이 발생\n",
        "- 반복을 막고자 class 를 생성한다"
      ]
    },
    {
      "cell_type": "code",
      "metadata": {
        "id": "OiDOI5KkbghK",
        "colab_type": "code",
        "colab": {}
      },
      "source": [
        "from sklearn.ensemble import RandomForestRegressor\n",
        "from sklearn.linear_model import LinearRegression\n",
        "from sklearn.model_selection import train_test_split\n",
        "import numpy as np\n",
        "import pandas as pd\n",
        "\n",
        "\n",
        "class Model:\n",
        "    def __init__(self, datafile, model_type = None):\n",
        "       self.datafile = datafile\n",
        "       self.df = pd.read_csv(datafile)\n",
        "       data_columns = ['Formatted Date', 'Summary', 'Precip Type', \n",
        "                       'Temperature (C)', 'Apparent Temperature (C)', \n",
        "                       'Humidity', 'Wind Speed (km/h)', 'Wind Bearing (degrees)',\n",
        "                       'Visibility (km)', 'Loud Cover', 'Pressure (millibars)','Daily Summary']\n",
        "       self.df.columns = data_columns\n",
        "\n",
        "       if model_type == 'rf':\n",
        "            self.user_defined_model = RandomForestRegressor() \n",
        "       else:\n",
        "            self.user_defined_model = LinearRegression()\n",
        "\n",
        "    # 데이터셋 분리        \n",
        "    def split(self, test_size):\n",
        "        X = np.array(self.df[['Humidity', 'Pressure (millibars)']])\n",
        "        y = np.array(self.df['Temperature (C)'])\n",
        "        self.X_train, self.X_test, self.y_train, self.y_test = train_test_split(X, y, test_size = test_size, random_state = 42)\n",
        "        \n",
        "    # 모형\n",
        "    def fit(self):\n",
        "        self.model = self.user_defined_model.fit(self.X_train, self.y_train)\n",
        "\n",
        "    # 예측\n",
        "    def predict(self, input_value):\n",
        "        if input_value == None:\n",
        "            result = self.user_defined_model.predict(self.X_test)\n",
        "        else: \n",
        "            result = self.user_defined_model.predict(np.array([input_value]))\n",
        "        return result"
      ],
      "execution_count": 33,
      "outputs": []
    },
    {
      "cell_type": "code",
      "metadata": {
        "id": "HzD1DICBcrXn",
        "colab_type": "code",
        "colab": {
          "base_uri": "https://localhost:8080/",
          "height": 53
        },
        "outputId": "08ff77e5-62a8-4e8f-94bb-74ce6b7676b9"
      },
      "source": [
        "if __name__ == '__main__':\n",
        "    a_model = Model(datafile=\"weather.csv\", model_type=None)\n",
        "    a_model.split(0.2)\n",
        "    a_model.fit()    \n",
        "    print(a_model.predict([.9, 1000]))\n",
        "    print(\"Accuracy: \", a_model.model.score(a_model.X_test, a_model.y_test))"
      ],
      "execution_count": 34,
      "outputs": [
        {
          "output_type": "stream",
          "text": [
            "[6.83625473]\n",
            "Accuracy:  0.39578560465686424\n"
          ],
          "name": "stdout"
        }
      ]
    }
  ]
}