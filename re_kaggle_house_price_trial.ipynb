{
  "nbformat": 4,
  "nbformat_minor": 0,
  "metadata": {
    "colab": {
      "name": "re_kaggle-house-price-trial.ipynb",
      "provenance": [],
      "mount_file_id": "1mmEc-woDi5tz2ezpZLTRwKUTwjI3Sigg",
      "authorship_tag": "ABX9TyM8hBaO1pFIDsra/by5qsN4",
      "include_colab_link": true
    },
    "kernelspec": {
      "name": "python3",
      "display_name": "Python 3"
    }
  },
  "cells": [
    {
      "cell_type": "markdown",
      "metadata": {
        "id": "view-in-github",
        "colab_type": "text"
      },
      "source": [
        "<a href=\"https://colab.research.google.com/github/Bokyoung-00/machine_learning_education/blob/master/re_kaggle_house_price_trial.ipynb\" target=\"_parent\"><img src=\"https://colab.research.google.com/assets/colab-badge.svg\" alt=\"Open In Colab\"/></a>"
      ]
    },
    {
      "cell_type": "markdown",
      "metadata": {
        "id": "NK9YF1Evs1_-",
        "colab_type": "text"
      },
      "source": [
        "### (1) 주요 패키지 불러오기\n",
        "- 이제 주요 패키지를 불러온다."
      ]
    },
    {
      "cell_type": "code",
      "metadata": {
        "id": "f7_lIy77sf6N",
        "colab_type": "code",
        "colab": {}
      },
      "source": [
        "import pandas as pd\n",
        "import math\n",
        "import numpy as np\n",
        "import pandas as pd\n",
        "import matplotlib.pyplot as plt\n",
        "%matplotlib inline\n",
        "import seaborn as sns\n",
        "from scipy.stats import norm\n",
        "import lightgbm as lgb\n",
        "from sklearn.model_selection import train_test_split\n",
        "from sklearn.metrics import mean_squared_log_error\n",
        "from sklearn import preprocessing\n",
        "from sklearn.preprocessing import StandardScaler\n",
        "from sklearn.model_selection import cross_val_score, cross_val_predict"
      ],
      "execution_count": 189,
      "outputs": []
    },
    {
      "cell_type": "markdown",
      "metadata": {
        "id": "lWWeUly_s7Kd",
        "colab_type": "text"
      },
      "source": [
        "### (2) 데이터 불러오기"
      ]
    },
    {
      "cell_type": "code",
      "metadata": {
        "id": "qA1VOzXssoyV",
        "colab_type": "code",
        "colab": {
          "base_uri": "https://localhost:8080/",
          "height": 35
        },
        "outputId": "4215969f-54d6-46ce-ee9b-91b3530c22d1"
      },
      "source": [
        "from google.colab import auth\n",
        "auth.authenticate_user()\n",
        "print('Authenticated')"
      ],
      "execution_count": 190,
      "outputs": [
        {
          "output_type": "stream",
          "text": [
            "Authenticated\n"
          ],
          "name": "stdout"
        }
      ]
    },
    {
      "cell_type": "code",
      "metadata": {
        "id": "eSa7Pi2Ts9cO",
        "colab_type": "code",
        "colab": {}
      },
      "source": [
        "# 구글 인증 라이브러리\n",
        "from google.colab import auth\n",
        "\n",
        "# 빅쿼리 관련 라이브러리\n",
        "from google.cloud import bigquery\n",
        "from tabulate import tabulate\n",
        "import pandas as pd"
      ],
      "execution_count": 191,
      "outputs": []
    },
    {
      "cell_type": "markdown",
      "metadata": {
        "id": "7WVh8mxnsobl",
        "colab_type": "text"
      },
      "source": [
        "- 훈련 데이터를 불러온다."
      ]
    },
    {
      "cell_type": "code",
      "metadata": {
        "id": "Nn9w4oE3tHXF",
        "colab_type": "code",
        "colab": {
          "base_uri": "https://localhost:8080/",
          "height": 73
        },
        "outputId": "afa59bec-31de-4798-e96a-d789bec0e7d8"
      },
      "source": [
        "from google.cloud import bigquery\n",
        "from tabulate import tabulate\n",
        "import pandas as pd\n",
        "import warnings\n",
        "def ignore_warn(*args, **kwargs):\n",
        "  pass\n",
        "warnings.warn = ignore_warn # ignore annoying warning from sklearn and seaborn\n",
        "\n",
        "from scipy import stats\n",
        "from scipy.stats import norm, skew # for some statistics\n",
        "\n",
        "pd.set_option('display.float_format', lambda x: '{:.3f}'.format(x))  \n",
        "#limiting floats out put to 3 decimal points\n",
        "\n",
        "project_id = 'eminent-prism-286912'\n",
        "client = bigquery.Client(project=project_id)\n",
        "\n",
        "df_train = client.query('''\n",
        "  SELECT \n",
        "      * \n",
        "  FROM `eminent-prism-286912.house_price.train`\n",
        "  ''').to_dataframe()\n",
        "\n",
        "df_train.shape"
      ],
      "execution_count": 227,
      "outputs": [
        {
          "output_type": "stream",
          "text": [
            "WARNING:google.auth._default:No project ID could be determined. Consider running `gcloud config set project` or setting the GOOGLE_CLOUD_PROJECT environment variable\n"
          ],
          "name": "stderr"
        },
        {
          "output_type": "execute_result",
          "data": {
            "text/plain": [
              "(1460, 81)"
            ]
          },
          "metadata": {
            "tags": []
          },
          "execution_count": 227
        }
      ]
    },
    {
      "cell_type": "markdown",
      "metadata": {
        "id": "iVxHlUS2tu0d",
        "colab_type": "text"
      },
      "source": [
        "- 테스트 데이터 불러온다"
      ]
    },
    {
      "cell_type": "code",
      "metadata": {
        "id": "AyGaA_aGtxBF",
        "colab_type": "code",
        "colab": {
          "base_uri": "https://localhost:8080/",
          "height": 35
        },
        "outputId": "f83d16e1-d0c6-4d51-9ee4-9e17838353d5"
      },
      "source": [
        "df_test = client.query('''\n",
        "  SELECT \n",
        "      * \n",
        "  FROM `eminent-prism-286912.house_price.test`\n",
        "  ''').to_dataframe()\n",
        "\n",
        "df_test.shape"
      ],
      "execution_count": 228,
      "outputs": [
        {
          "output_type": "execute_result",
          "data": {
            "text/plain": [
              "(1459, 80)"
            ]
          },
          "metadata": {
            "tags": []
          },
          "execution_count": 228
        }
      ]
    },
    {
      "cell_type": "code",
      "metadata": {
        "id": "-sW8KqWqt1at",
        "colab_type": "code",
        "colab": {
          "base_uri": "https://localhost:8080/",
          "height": 317
        },
        "outputId": "f8c9fb1a-5dd2-43f4-82f7-153eef3f68f8"
      },
      "source": [
        "pd.options.display.max_columns = None \n",
        "df_train.describe()"
      ],
      "execution_count": 229,
      "outputs": [
        {
          "output_type": "execute_result",
          "data": {
            "text/html": [
              "<div>\n",
              "<style scoped>\n",
              "    .dataframe tbody tr th:only-of-type {\n",
              "        vertical-align: middle;\n",
              "    }\n",
              "\n",
              "    .dataframe tbody tr th {\n",
              "        vertical-align: top;\n",
              "    }\n",
              "\n",
              "    .dataframe thead th {\n",
              "        text-align: right;\n",
              "    }\n",
              "</style>\n",
              "<table border=\"1\" class=\"dataframe\">\n",
              "  <thead>\n",
              "    <tr style=\"text-align: right;\">\n",
              "      <th></th>\n",
              "      <th>Id</th>\n",
              "      <th>MSSubClass</th>\n",
              "      <th>LotFrontage</th>\n",
              "      <th>LotArea</th>\n",
              "      <th>OverallQual</th>\n",
              "      <th>OverallCond</th>\n",
              "      <th>YearBuilt</th>\n",
              "      <th>YearRemodAdd</th>\n",
              "      <th>MasVnrArea</th>\n",
              "      <th>BsmtFinSF1</th>\n",
              "      <th>BsmtFinSF2</th>\n",
              "      <th>BsmtUnfSF</th>\n",
              "      <th>TotalBsmtSF</th>\n",
              "      <th>my1stFlrSF</th>\n",
              "      <th>my2ndFlrSF</th>\n",
              "      <th>LowQualFinSF</th>\n",
              "      <th>GrLivArea</th>\n",
              "      <th>BsmtFullBath</th>\n",
              "      <th>BsmtHalfBath</th>\n",
              "      <th>FullBath</th>\n",
              "      <th>HalfBath</th>\n",
              "      <th>BedroomAbvGr</th>\n",
              "      <th>KitchenAbvGr</th>\n",
              "      <th>TotRmsAbvGrd</th>\n",
              "      <th>Fireplaces</th>\n",
              "      <th>GarageYrBlt</th>\n",
              "      <th>GarageCars</th>\n",
              "      <th>GarageArea</th>\n",
              "      <th>WoodDeckSF</th>\n",
              "      <th>OpenPorchSF</th>\n",
              "      <th>EnclosedPorch</th>\n",
              "      <th>my3SsnPorch</th>\n",
              "      <th>ScreenPorch</th>\n",
              "      <th>PoolArea</th>\n",
              "      <th>MiscVal</th>\n",
              "      <th>MoSold</th>\n",
              "      <th>YrSold</th>\n",
              "      <th>SalePrice</th>\n",
              "    </tr>\n",
              "  </thead>\n",
              "  <tbody>\n",
              "    <tr>\n",
              "      <th>count</th>\n",
              "      <td>1460.000</td>\n",
              "      <td>1460.000</td>\n",
              "      <td>1201.000</td>\n",
              "      <td>1460.000</td>\n",
              "      <td>1460.000</td>\n",
              "      <td>1460.000</td>\n",
              "      <td>1460.000</td>\n",
              "      <td>1460.000</td>\n",
              "      <td>1452.000</td>\n",
              "      <td>1460.000</td>\n",
              "      <td>1460.000</td>\n",
              "      <td>1460.000</td>\n",
              "      <td>1460.000</td>\n",
              "      <td>1460.000</td>\n",
              "      <td>1460.000</td>\n",
              "      <td>1460.000</td>\n",
              "      <td>1460.000</td>\n",
              "      <td>1460.000</td>\n",
              "      <td>1460.000</td>\n",
              "      <td>1460.000</td>\n",
              "      <td>1460.000</td>\n",
              "      <td>1460.000</td>\n",
              "      <td>1460.000</td>\n",
              "      <td>1460.000</td>\n",
              "      <td>1460.000</td>\n",
              "      <td>1379.000</td>\n",
              "      <td>1460.000</td>\n",
              "      <td>1460.000</td>\n",
              "      <td>1460.000</td>\n",
              "      <td>1460.000</td>\n",
              "      <td>1460.000</td>\n",
              "      <td>1460.000</td>\n",
              "      <td>1460.000</td>\n",
              "      <td>1460.000</td>\n",
              "      <td>1460.000</td>\n",
              "      <td>1460.000</td>\n",
              "      <td>1460.000</td>\n",
              "      <td>1460.000</td>\n",
              "    </tr>\n",
              "    <tr>\n",
              "      <th>mean</th>\n",
              "      <td>730.500</td>\n",
              "      <td>56.897</td>\n",
              "      <td>70.050</td>\n",
              "      <td>10516.828</td>\n",
              "      <td>6.099</td>\n",
              "      <td>5.575</td>\n",
              "      <td>1971.268</td>\n",
              "      <td>1984.866</td>\n",
              "      <td>103.685</td>\n",
              "      <td>443.640</td>\n",
              "      <td>46.549</td>\n",
              "      <td>567.240</td>\n",
              "      <td>1057.429</td>\n",
              "      <td>1162.627</td>\n",
              "      <td>346.992</td>\n",
              "      <td>5.845</td>\n",
              "      <td>1515.464</td>\n",
              "      <td>0.425</td>\n",
              "      <td>0.058</td>\n",
              "      <td>1.565</td>\n",
              "      <td>0.383</td>\n",
              "      <td>2.866</td>\n",
              "      <td>1.047</td>\n",
              "      <td>6.518</td>\n",
              "      <td>0.613</td>\n",
              "      <td>1978.506</td>\n",
              "      <td>1.767</td>\n",
              "      <td>472.980</td>\n",
              "      <td>94.245</td>\n",
              "      <td>46.660</td>\n",
              "      <td>21.954</td>\n",
              "      <td>3.410</td>\n",
              "      <td>15.061</td>\n",
              "      <td>2.759</td>\n",
              "      <td>43.489</td>\n",
              "      <td>6.322</td>\n",
              "      <td>2007.816</td>\n",
              "      <td>180921.196</td>\n",
              "    </tr>\n",
              "    <tr>\n",
              "      <th>std</th>\n",
              "      <td>421.610</td>\n",
              "      <td>42.301</td>\n",
              "      <td>24.285</td>\n",
              "      <td>9981.265</td>\n",
              "      <td>1.383</td>\n",
              "      <td>1.113</td>\n",
              "      <td>30.203</td>\n",
              "      <td>20.645</td>\n",
              "      <td>181.066</td>\n",
              "      <td>456.098</td>\n",
              "      <td>161.319</td>\n",
              "      <td>441.867</td>\n",
              "      <td>438.705</td>\n",
              "      <td>386.588</td>\n",
              "      <td>436.528</td>\n",
              "      <td>48.623</td>\n",
              "      <td>525.480</td>\n",
              "      <td>0.519</td>\n",
              "      <td>0.239</td>\n",
              "      <td>0.551</td>\n",
              "      <td>0.503</td>\n",
              "      <td>0.816</td>\n",
              "      <td>0.220</td>\n",
              "      <td>1.625</td>\n",
              "      <td>0.645</td>\n",
              "      <td>24.690</td>\n",
              "      <td>0.747</td>\n",
              "      <td>213.805</td>\n",
              "      <td>125.339</td>\n",
              "      <td>66.256</td>\n",
              "      <td>61.119</td>\n",
              "      <td>29.317</td>\n",
              "      <td>55.757</td>\n",
              "      <td>40.177</td>\n",
              "      <td>496.123</td>\n",
              "      <td>2.704</td>\n",
              "      <td>1.328</td>\n",
              "      <td>79442.503</td>\n",
              "    </tr>\n",
              "    <tr>\n",
              "      <th>min</th>\n",
              "      <td>1.000</td>\n",
              "      <td>20.000</td>\n",
              "      <td>21.000</td>\n",
              "      <td>1300.000</td>\n",
              "      <td>1.000</td>\n",
              "      <td>1.000</td>\n",
              "      <td>1872.000</td>\n",
              "      <td>1950.000</td>\n",
              "      <td>0.000</td>\n",
              "      <td>0.000</td>\n",
              "      <td>0.000</td>\n",
              "      <td>0.000</td>\n",
              "      <td>0.000</td>\n",
              "      <td>334.000</td>\n",
              "      <td>0.000</td>\n",
              "      <td>0.000</td>\n",
              "      <td>334.000</td>\n",
              "      <td>0.000</td>\n",
              "      <td>0.000</td>\n",
              "      <td>0.000</td>\n",
              "      <td>0.000</td>\n",
              "      <td>0.000</td>\n",
              "      <td>0.000</td>\n",
              "      <td>2.000</td>\n",
              "      <td>0.000</td>\n",
              "      <td>1900.000</td>\n",
              "      <td>0.000</td>\n",
              "      <td>0.000</td>\n",
              "      <td>0.000</td>\n",
              "      <td>0.000</td>\n",
              "      <td>0.000</td>\n",
              "      <td>0.000</td>\n",
              "      <td>0.000</td>\n",
              "      <td>0.000</td>\n",
              "      <td>0.000</td>\n",
              "      <td>1.000</td>\n",
              "      <td>2006.000</td>\n",
              "      <td>34900.000</td>\n",
              "    </tr>\n",
              "    <tr>\n",
              "      <th>25%</th>\n",
              "      <td>365.750</td>\n",
              "      <td>20.000</td>\n",
              "      <td>59.000</td>\n",
              "      <td>7553.500</td>\n",
              "      <td>5.000</td>\n",
              "      <td>5.000</td>\n",
              "      <td>1954.000</td>\n",
              "      <td>1967.000</td>\n",
              "      <td>0.000</td>\n",
              "      <td>0.000</td>\n",
              "      <td>0.000</td>\n",
              "      <td>223.000</td>\n",
              "      <td>795.750</td>\n",
              "      <td>882.000</td>\n",
              "      <td>0.000</td>\n",
              "      <td>0.000</td>\n",
              "      <td>1129.500</td>\n",
              "      <td>0.000</td>\n",
              "      <td>0.000</td>\n",
              "      <td>1.000</td>\n",
              "      <td>0.000</td>\n",
              "      <td>2.000</td>\n",
              "      <td>1.000</td>\n",
              "      <td>5.000</td>\n",
              "      <td>0.000</td>\n",
              "      <td>1961.000</td>\n",
              "      <td>1.000</td>\n",
              "      <td>334.500</td>\n",
              "      <td>0.000</td>\n",
              "      <td>0.000</td>\n",
              "      <td>0.000</td>\n",
              "      <td>0.000</td>\n",
              "      <td>0.000</td>\n",
              "      <td>0.000</td>\n",
              "      <td>0.000</td>\n",
              "      <td>5.000</td>\n",
              "      <td>2007.000</td>\n",
              "      <td>129975.000</td>\n",
              "    </tr>\n",
              "    <tr>\n",
              "      <th>50%</th>\n",
              "      <td>730.500</td>\n",
              "      <td>50.000</td>\n",
              "      <td>69.000</td>\n",
              "      <td>9478.500</td>\n",
              "      <td>6.000</td>\n",
              "      <td>5.000</td>\n",
              "      <td>1973.000</td>\n",
              "      <td>1994.000</td>\n",
              "      <td>0.000</td>\n",
              "      <td>383.500</td>\n",
              "      <td>0.000</td>\n",
              "      <td>477.500</td>\n",
              "      <td>991.500</td>\n",
              "      <td>1087.000</td>\n",
              "      <td>0.000</td>\n",
              "      <td>0.000</td>\n",
              "      <td>1464.000</td>\n",
              "      <td>0.000</td>\n",
              "      <td>0.000</td>\n",
              "      <td>2.000</td>\n",
              "      <td>0.000</td>\n",
              "      <td>3.000</td>\n",
              "      <td>1.000</td>\n",
              "      <td>6.000</td>\n",
              "      <td>1.000</td>\n",
              "      <td>1980.000</td>\n",
              "      <td>2.000</td>\n",
              "      <td>480.000</td>\n",
              "      <td>0.000</td>\n",
              "      <td>25.000</td>\n",
              "      <td>0.000</td>\n",
              "      <td>0.000</td>\n",
              "      <td>0.000</td>\n",
              "      <td>0.000</td>\n",
              "      <td>0.000</td>\n",
              "      <td>6.000</td>\n",
              "      <td>2008.000</td>\n",
              "      <td>163000.000</td>\n",
              "    </tr>\n",
              "    <tr>\n",
              "      <th>75%</th>\n",
              "      <td>1095.250</td>\n",
              "      <td>70.000</td>\n",
              "      <td>80.000</td>\n",
              "      <td>11601.500</td>\n",
              "      <td>7.000</td>\n",
              "      <td>6.000</td>\n",
              "      <td>2000.000</td>\n",
              "      <td>2004.000</td>\n",
              "      <td>166.000</td>\n",
              "      <td>712.250</td>\n",
              "      <td>0.000</td>\n",
              "      <td>808.000</td>\n",
              "      <td>1298.250</td>\n",
              "      <td>1391.250</td>\n",
              "      <td>728.000</td>\n",
              "      <td>0.000</td>\n",
              "      <td>1776.750</td>\n",
              "      <td>1.000</td>\n",
              "      <td>0.000</td>\n",
              "      <td>2.000</td>\n",
              "      <td>1.000</td>\n",
              "      <td>3.000</td>\n",
              "      <td>1.000</td>\n",
              "      <td>7.000</td>\n",
              "      <td>1.000</td>\n",
              "      <td>2002.000</td>\n",
              "      <td>2.000</td>\n",
              "      <td>576.000</td>\n",
              "      <td>168.000</td>\n",
              "      <td>68.000</td>\n",
              "      <td>0.000</td>\n",
              "      <td>0.000</td>\n",
              "      <td>0.000</td>\n",
              "      <td>0.000</td>\n",
              "      <td>0.000</td>\n",
              "      <td>8.000</td>\n",
              "      <td>2009.000</td>\n",
              "      <td>214000.000</td>\n",
              "    </tr>\n",
              "    <tr>\n",
              "      <th>max</th>\n",
              "      <td>1460.000</td>\n",
              "      <td>190.000</td>\n",
              "      <td>313.000</td>\n",
              "      <td>215245.000</td>\n",
              "      <td>10.000</td>\n",
              "      <td>9.000</td>\n",
              "      <td>2010.000</td>\n",
              "      <td>2010.000</td>\n",
              "      <td>1600.000</td>\n",
              "      <td>5644.000</td>\n",
              "      <td>1474.000</td>\n",
              "      <td>2336.000</td>\n",
              "      <td>6110.000</td>\n",
              "      <td>4692.000</td>\n",
              "      <td>2065.000</td>\n",
              "      <td>572.000</td>\n",
              "      <td>5642.000</td>\n",
              "      <td>3.000</td>\n",
              "      <td>2.000</td>\n",
              "      <td>3.000</td>\n",
              "      <td>2.000</td>\n",
              "      <td>8.000</td>\n",
              "      <td>3.000</td>\n",
              "      <td>14.000</td>\n",
              "      <td>3.000</td>\n",
              "      <td>2010.000</td>\n",
              "      <td>4.000</td>\n",
              "      <td>1418.000</td>\n",
              "      <td>857.000</td>\n",
              "      <td>547.000</td>\n",
              "      <td>552.000</td>\n",
              "      <td>508.000</td>\n",
              "      <td>480.000</td>\n",
              "      <td>738.000</td>\n",
              "      <td>15500.000</td>\n",
              "      <td>12.000</td>\n",
              "      <td>2010.000</td>\n",
              "      <td>755000.000</td>\n",
              "    </tr>\n",
              "  </tbody>\n",
              "</table>\n",
              "</div>"
            ],
            "text/plain": [
              "            Id  MSSubClass  LotFrontage    LotArea  OverallQual  OverallCond  \\\n",
              "count 1460.000    1460.000     1201.000   1460.000     1460.000     1460.000   \n",
              "mean   730.500      56.897       70.050  10516.828        6.099        5.575   \n",
              "std    421.610      42.301       24.285   9981.265        1.383        1.113   \n",
              "min      1.000      20.000       21.000   1300.000        1.000        1.000   \n",
              "25%    365.750      20.000       59.000   7553.500        5.000        5.000   \n",
              "50%    730.500      50.000       69.000   9478.500        6.000        5.000   \n",
              "75%   1095.250      70.000       80.000  11601.500        7.000        6.000   \n",
              "max   1460.000     190.000      313.000 215245.000       10.000        9.000   \n",
              "\n",
              "       YearBuilt  YearRemodAdd  MasVnrArea  BsmtFinSF1  BsmtFinSF2  BsmtUnfSF  \\\n",
              "count   1460.000      1460.000    1452.000    1460.000    1460.000   1460.000   \n",
              "mean    1971.268      1984.866     103.685     443.640      46.549    567.240   \n",
              "std       30.203        20.645     181.066     456.098     161.319    441.867   \n",
              "min     1872.000      1950.000       0.000       0.000       0.000      0.000   \n",
              "25%     1954.000      1967.000       0.000       0.000       0.000    223.000   \n",
              "50%     1973.000      1994.000       0.000     383.500       0.000    477.500   \n",
              "75%     2000.000      2004.000     166.000     712.250       0.000    808.000   \n",
              "max     2010.000      2010.000    1600.000    5644.000    1474.000   2336.000   \n",
              "\n",
              "       TotalBsmtSF  my1stFlrSF  my2ndFlrSF  LowQualFinSF  GrLivArea  \\\n",
              "count     1460.000    1460.000    1460.000      1460.000   1460.000   \n",
              "mean      1057.429    1162.627     346.992         5.845   1515.464   \n",
              "std        438.705     386.588     436.528        48.623    525.480   \n",
              "min          0.000     334.000       0.000         0.000    334.000   \n",
              "25%        795.750     882.000       0.000         0.000   1129.500   \n",
              "50%        991.500    1087.000       0.000         0.000   1464.000   \n",
              "75%       1298.250    1391.250     728.000         0.000   1776.750   \n",
              "max       6110.000    4692.000    2065.000       572.000   5642.000   \n",
              "\n",
              "       BsmtFullBath  BsmtHalfBath  FullBath  HalfBath  BedroomAbvGr  \\\n",
              "count      1460.000      1460.000  1460.000  1460.000      1460.000   \n",
              "mean          0.425         0.058     1.565     0.383         2.866   \n",
              "std           0.519         0.239     0.551     0.503         0.816   \n",
              "min           0.000         0.000     0.000     0.000         0.000   \n",
              "25%           0.000         0.000     1.000     0.000         2.000   \n",
              "50%           0.000         0.000     2.000     0.000         3.000   \n",
              "75%           1.000         0.000     2.000     1.000         3.000   \n",
              "max           3.000         2.000     3.000     2.000         8.000   \n",
              "\n",
              "       KitchenAbvGr  TotRmsAbvGrd  Fireplaces  GarageYrBlt  GarageCars  \\\n",
              "count      1460.000      1460.000    1460.000     1379.000    1460.000   \n",
              "mean          1.047         6.518       0.613     1978.506       1.767   \n",
              "std           0.220         1.625       0.645       24.690       0.747   \n",
              "min           0.000         2.000       0.000     1900.000       0.000   \n",
              "25%           1.000         5.000       0.000     1961.000       1.000   \n",
              "50%           1.000         6.000       1.000     1980.000       2.000   \n",
              "75%           1.000         7.000       1.000     2002.000       2.000   \n",
              "max           3.000        14.000       3.000     2010.000       4.000   \n",
              "\n",
              "       GarageArea  WoodDeckSF  OpenPorchSF  EnclosedPorch  my3SsnPorch  \\\n",
              "count    1460.000    1460.000     1460.000       1460.000     1460.000   \n",
              "mean      472.980      94.245       46.660         21.954        3.410   \n",
              "std       213.805     125.339       66.256         61.119       29.317   \n",
              "min         0.000       0.000        0.000          0.000        0.000   \n",
              "25%       334.500       0.000        0.000          0.000        0.000   \n",
              "50%       480.000       0.000       25.000          0.000        0.000   \n",
              "75%       576.000     168.000       68.000          0.000        0.000   \n",
              "max      1418.000     857.000      547.000        552.000      508.000   \n",
              "\n",
              "       ScreenPorch  PoolArea   MiscVal   MoSold   YrSold  SalePrice  \n",
              "count     1460.000  1460.000  1460.000 1460.000 1460.000   1460.000  \n",
              "mean        15.061     2.759    43.489    6.322 2007.816 180921.196  \n",
              "std         55.757    40.177   496.123    2.704    1.328  79442.503  \n",
              "min          0.000     0.000     0.000    1.000 2006.000  34900.000  \n",
              "25%          0.000     0.000     0.000    5.000 2007.000 129975.000  \n",
              "50%          0.000     0.000     0.000    6.000 2008.000 163000.000  \n",
              "75%          0.000     0.000     0.000    8.000 2009.000 214000.000  \n",
              "max        480.000   738.000 15500.000   12.000 2010.000 755000.000  "
            ]
          },
          "metadata": {
            "tags": []
          },
          "execution_count": 229
        }
      ]
    },
    {
      "cell_type": "code",
      "metadata": {
        "id": "JEfWLJNNGykp",
        "colab_type": "code",
        "colab": {}
      },
      "source": [
        "# ID 를 드럽하는 과정\n",
        "\n",
        "train_ID = df_train['Id']\n",
        "test_ID = df_test['Id']\n",
        "\n",
        "# 이제 ID drop\n",
        "df_train.drop(\"Id\", axis=1, inplace = True)\n",
        "df_test.drop(\"Id\", axis=1, inplace = True)\n"
      ],
      "execution_count": 230,
      "outputs": []
    },
    {
      "cell_type": "markdown",
      "metadata": {
        "id": "X4J6xFjp5-0k",
        "colab_type": "text"
      },
      "source": [
        "### 데이터 시각화"
      ]
    },
    {
      "cell_type": "code",
      "metadata": {
        "id": "Q-XSwfhy59xL",
        "colab_type": "code",
        "colab": {
          "base_uri": "https://localhost:8080/",
          "height": 282
        },
        "outputId": "569d8fdc-e5ed-4764-c572-59b274521ad7"
      },
      "source": [
        "\n",
        "fig, ax= plt.subplots()\n",
        "ax.scatter(x= df_train['GrLivArea'], y=df_train['SalePrice'])\n",
        "plt.ylabel('SalePrice', fontsize=13)\n",
        "plt.xlabel('GrLivArea', fontsize=13)\n",
        "plt.show()"
      ],
      "execution_count": 196,
      "outputs": [
        {
          "output_type": "display_data",
          "data": {
            "image/png": "[encoded data removed]",
            "text/plain": [
              "<Figure size 432x288 with 1 Axes>"
            ]
          },
          "metadata": {
            "tags": [],
            "needs_background": "light"
          }
        }
      ]
    },
    {
      "cell_type": "markdown",
      "metadata": {
        "id": "FKmMkhw59e9q",
        "colab_type": "text"
      },
      "source": [
        "### 타깃 변수"
      ]
    },
    {
      "cell_type": "code",
      "metadata": {
        "id": "r0s4pQa29h_P",
        "colab_type": "code",
        "colab": {
          "base_uri": "https://localhost:8080/",
          "height": 367
        },
        "outputId": "79916715-0907-48fa-813a-e178669ee6d6"
      },
      "source": [
        "  sns.distplot(df_train['SalePrice'], fit=norm)\n",
        "\n",
        "(mu, sigma) = norm.fit(df_train['SalePrice'])\n",
        "print ('\\n mu = {:.2f} and sigma = {:.2f}\\n'.format(mu, sigma))\n",
        "\n",
        "# plot the distribution\n",
        "\n",
        "plt.legend(['Normal dist. ($\\ mu=$ {:.2f} and $\\sigma=$ {:.2f} )'.format(mu, sigma)],\n",
        "            loc='best')\n",
        "plt.ylabel('Frequency')\n",
        "plt.title('SalePrice distribution')"
      ],
      "execution_count": 197,
      "outputs": [
        {
          "output_type": "stream",
          "text": [
            "\n",
            " mu = 180921.20 and sigma = 79415.29\n",
            "\n"
          ],
          "name": "stdout"
        },
        {
          "output_type": "execute_result",
          "data": {
            "text/plain": [
              "Text(0.5, 1.0, 'SalePrice distribution')"
            ]
          },
          "metadata": {
            "tags": []
          },
          "execution_count": 197
        },
        {
          "output_type": "display_data",
          "data": {
            "image/png": "[encoded data removed]",
            "text/plain": [
              "<Figure size 432x288 with 1 Axes>"
            ]
          },
          "metadata": {
            "tags": [],
            "needs_background": "light"
          }
        }
      ]
    },
    {
      "cell_type": "code",
      "metadata": {
        "id": "fbA_wSKy95Ra",
        "colab_type": "code",
        "colab": {
          "base_uri": "https://localhost:8080/",
          "height": 295
        },
        "outputId": "20de26f2-0c2a-42dc-bad5-c723f5c2fc33"
      },
      "source": [
        "# QQ-plot \n",
        "fig = plt.figure()\n",
        "res = stats.probplot(df_train['SalePrice'], plot=plt)\n",
        "plt.show()"
      ],
      "execution_count": 198,
      "outputs": [
        {
          "output_type": "display_data",
          "data": {
            "image/png": "[encoded data removed]",
            "text/plain": [
              "<Figure size 432x288 with 1 Axes>"
            ]
          },
          "metadata": {
            "tags": [],
            "needs_background": "light"
          }
        }
      ]
    },
    {
      "cell_type": "markdown",
      "metadata": {
        "id": "rnxP1_06_kE4",
        "colab_type": "text"
      },
      "source": [
        "Log- Transformation of the target variable"
      ]
    },
    {
      "cell_type": "code",
      "metadata": {
        "id": "6nd7qhKq_oFW",
        "colab_type": "code",
        "colab": {
          "base_uri": "https://localhost:8080/",
          "height": 627
        },
        "outputId": "8773c655-e8a5-4eeb-cb15-38d95e5b3cac"
      },
      "source": [
        "df_train['SalePrice']=np.log1p(df_train['SalePrice'])\n",
        "\n",
        "sns.distplot(df_train['SalePrice'], fit=norm)\n",
        "\n",
        "(mu, sigma) = norm.fit(df_train['SalePrice'])\n",
        "print('\\n mu = {:.2f} and sigma= {:.2f}\\n'.format(mu, sigma))\n",
        "\n",
        "#plot the distribution\n",
        "plt.legend(['Normal dist. ($\\mu=$ {:.2f} and $\\sigma=$ {:.2f})'.format(mu, sigma)],\n",
        "           loc='best')\n",
        "plt.ylabel('Frequency')\n",
        "plt.title(\"SalePrice Distribution\")\n",
        "\n",
        "#QQ-plot\n",
        "fig = plt.figure()\n",
        "res= stats.probplot(df_train['SalePrice'], plot=plt)\n",
        "plt.show()"
      ],
      "execution_count": 231,
      "outputs": [
        {
          "output_type": "stream",
          "text": [
            "\n",
            " mu = 12.02 and sigma= 0.40\n",
            "\n"
          ],
          "name": "stdout"
        },
        {
          "output_type": "display_data",
          "data": {
            "image/png": "[encoded data removed]",
            "text/plain": [
              "<Figure size 432x288 with 1 Axes>"
            ]
          },
          "metadata": {
            "tags": [],
            "needs_background": "light"
          }
        },
        {
          "output_type": "display_data",
          "data": {
            "image/png": "[encoded data removed]",
            "text/plain": [
              "<Figure size 432x288 with 1 Axes>"
            ]
          },
          "metadata": {
            "tags": [],
            "needs_background": "light"
          }
        }
      ]
    },
    {
      "cell_type": "markdown",
      "metadata": {
        "id": "1fEn4QOZBQRh",
        "colab_type": "text"
      },
      "source": [
        "Features engineering"
      ]
    },
    {
      "cell_type": "code",
      "metadata": {
        "id": "mh6Ac_9dBSsy",
        "colab_type": "code",
        "colab": {
          "base_uri": "https://localhost:8080/",
          "height": 35
        },
        "outputId": "2cfc1fe6-7bd4-4a2b-e23a-e30fc7d6a325"
      },
      "source": [
        "ntrain = df_train.shape[0]\n",
        "ntest = df_test.shape[0]\n",
        "y_train = df_train.SalePrice.values\n",
        "all_data = pd.concat((df_train, df_test)).reset_index(drop=True)\n",
        "all_data.drop(['SalePrice'], axis=1, inplace=True)\n",
        "print(\"all_data size is : {}\".format(all_data.shape))"
      ],
      "execution_count": 233,
      "outputs": [
        {
          "output_type": "stream",
          "text": [
            "all_data size is : (2919, 79)\n"
          ],
          "name": "stdout"
        }
      ]
    },
    {
      "cell_type": "markdown",
      "metadata": {
        "id": "_98_hzpVt4VW",
        "colab_type": "text"
      },
      "source": [
        "### (3) 결측 데이터 확인"
      ]
    },
    {
      "cell_type": "code",
      "metadata": {
        "id": "V8SK0w0Ct5kt",
        "colab_type": "code",
        "colab": {
          "base_uri": "https://localhost:8080/",
          "height": 647
        },
        "outputId": "d657369b-8e57-4262-99f5-179464865513"
      },
      "source": [
        "# data set의 Percent 구하는 함수를 짜보자. \n",
        "def check_fill_na(data):\n",
        "  new_df = data.copy()\n",
        "  new_df_na = (new_df.isnull().sum() / len(new_df)) * 100\n",
        "  new_df_na.sort_values(ascending=False).reset_index(drop=True)\n",
        "  new_df_na = new_df_na.drop(new_df_na[new_df_na == 0].index).sort_values(ascending=False)\n",
        "  return new_df_na\n",
        "\n",
        "check_fill_na(all_data)"
      ],
      "execution_count": 234,
      "outputs": [
        {
          "output_type": "execute_result",
          "data": {
            "text/plain": [
              "PoolQC         99.657\n",
              "MiscFeature    96.403\n",
              "Alley          93.217\n",
              "Fence          80.439\n",
              "FireplaceQu    48.647\n",
              "LotFrontage    16.650\n",
              "GarageFinish    5.447\n",
              "GarageYrBlt     5.447\n",
              "GarageQual      5.447\n",
              "GarageCond      5.447\n",
              "GarageType      5.379\n",
              "BsmtExposure    2.809\n",
              "BsmtCond        2.809\n",
              "BsmtQual        2.775\n",
              "BsmtFinType2    2.741\n",
              "BsmtFinType1    2.706\n",
              "MasVnrType      0.822\n",
              "MasVnrArea      0.788\n",
              "MSZoning        0.137\n",
              "BsmtFullBath    0.069\n",
              "BsmtHalfBath    0.069\n",
              "Utilities       0.069\n",
              "Functional      0.069\n",
              "Exterior2nd     0.034\n",
              "Exterior1st     0.034\n",
              "SaleType        0.034\n",
              "BsmtFinSF1      0.034\n",
              "BsmtFinSF2      0.034\n",
              "BsmtUnfSF       0.034\n",
              "Electrical      0.034\n",
              "KitchenQual     0.034\n",
              "GarageCars      0.034\n",
              "GarageArea      0.034\n",
              "TotalBsmtSF     0.034\n",
              "dtype: float64"
            ]
          },
          "metadata": {
            "tags": []
          },
          "execution_count": 234
        }
      ]
    },
    {
      "cell_type": "markdown",
      "metadata": {
        "id": "5SyMhkvLt9Nu",
        "colab_type": "text"
      },
      "source": [
        "### (4) 주요 함수 정의\n",
        "- 수치형과 범주형 데이터 결측치의 보간에 관한 함수를 정의한다. "
      ]
    },
    {
      "cell_type": "code",
      "metadata": {
        "id": "VLPPmfazt8Su",
        "colab_type": "code",
        "colab": {}
      },
      "source": [
        "def fill_missing(df, cols, val):\n",
        "    \"\"\" val 입력값을 넣는다. \"\"\"\n",
        "    for col in cols:\n",
        "        df[col] = df[col].fillna(val)\n",
        "\n",
        "def fill_missing_with_mode(df, cols):\n",
        "    \"\"\" 최대 빈도수를 넣는다. \"\"\"\n",
        "    for col in cols:\n",
        "        df[col] = df[col].fillna(df[col].mode()[0])\n",
        "        \n",
        "def addlogs(res, cols):\n",
        "    \"\"\" 로그 변환 \"\"\"\n",
        "    m = res.shape[1]\n",
        "    for c in cols:\n",
        "        res = res.assign(newcol=pd.Series(np.log(1.01+res[c])).values)   \n",
        "        res.columns.values[m] = c + '_log'\n",
        "        m += 1\n",
        "    return res"
      ],
      "execution_count": 202,
      "outputs": []
    },
    {
      "cell_type": "markdown",
      "metadata": {
        "id": "QfnAy7DIEBlj",
        "colab_type": "text"
      },
      "source": [
        "Transforming categorical values into str"
      ]
    },
    {
      "cell_type": "code",
      "metadata": {
        "id": "p_6eMSHwEHRe",
        "colab_type": "code",
        "colab": {}
      },
      "source": [
        "all_data['MSSubClass'] = all_data['MSSubClass'].apply(str)\n",
        "\n",
        "\n",
        "#Changing OverallCond into a categorical variable\n",
        "all_data['OverallCond'] = all_data['OverallCond'].astype(str)\n",
        "\n",
        "\n",
        "#Year and month sold are transformed into categorical features.\n",
        "all_data['YrSold'] = all_data['YrSold'].astype(str)\n",
        "all_data['MoSold'] = all_data['MoSold'].astype(str)"
      ],
      "execution_count": 235,
      "outputs": []
    },
    {
      "cell_type": "markdown",
      "metadata": {
        "id": "LRgveuSUuCgn",
        "colab_type": "text"
      },
      "source": [
        "### (5) 전체 면적 데이터 추가\n",
        "- 가정의 전체 면적을 더해서 추가 변수를 만든다."
      ]
    },
    {
      "cell_type": "code",
      "metadata": {
        "id": "DQN4BEWLuDNV",
        "colab_type": "code",
        "colab": {}
      },
      "source": [
        "df_train['TotalSF'] = df_train['TotalBsmtSF'] + df_train['my1stFlrSF'] + df_train['my2ndFlrSF']"
      ],
      "execution_count": 236,
      "outputs": []
    },
    {
      "cell_type": "markdown",
      "metadata": {
        "id": "b24LntOpuFki",
        "colab_type": "text"
      },
      "source": [
        "- 전체 수치형 데이터에 `log transformation`을 해준다."
      ]
    },
    {
      "cell_type": "code",
      "metadata": {
        "id": "QAWlTY3puGNF",
        "colab_type": "code",
        "colab": {}
      },
      "source": [
        "loglist = ['LotFrontage','LotArea','MasVnrArea','BsmtFinSF1','BsmtFinSF2','BsmtUnfSF',\n",
        "            'TotalBsmtSF','my1stFlrSF','my2ndFlrSF','LowQualFinSF','GrLivArea',\n",
        "            'BsmtFullBath','BsmtHalfBath','FullBath','HalfBath','BedroomAbvGr','KitchenAbvGr',\n",
        "            'TotRmsAbvGrd','Fireplaces','GarageCars','GarageArea','WoodDeckSF','OpenPorchSF',\n",
        "            'EnclosedPorch','my3SsnPorch','ScreenPorch','PoolArea','MiscVal','YearRemodAdd','TotalSF']\n",
        "\n",
        "df_train = addlogs(df_train, loglist)"
      ],
      "execution_count": 237,
      "outputs": []
    },
    {
      "cell_type": "markdown",
      "metadata": {
        "id": "0ClvOECKuMIr",
        "colab_type": "text"
      },
      "source": [
        "### (7) 결측치 데이터 보간\n",
        "- 결측치 데이터를 보간한다. "
      ]
    },
    {
      "cell_type": "code",
      "metadata": {
        "id": "IUHGqekRuND9",
        "colab_type": "code",
        "colab": {}
      },
      "source": [
        "# 우선, 결측치가 있는 것 중, 범주형 데이터는 \"None\"으로 확인\n",
        "fill_missing(df_train, [\"PoolQC\", \"MiscFeature\", \"Alley\", \"Fence\", \"FireplaceQu\", \n",
        "                        \"GarageType\", \"GarageFinish\", \"GarageQual\", \"GarageCond\",\n",
        "                       'BsmtQual', 'BsmtCond', 'BsmtExposure', 'BsmtFinType1', 'BsmtFinType2',\n",
        "                       \"MasVnrType\", \"MSSubClass\"], \"None\") \n",
        "\n",
        "# 수치형 데이터는 0으로 보간\n",
        "fill_missing(df_train, [\"GarageYrBlt\", \"GarageArea\", \"GarageCars\",\n",
        "                       'BsmtFinSF1', 'BsmtFinSF2', 'BsmtUnfSF','TotalBsmtSF', 'BsmtFullBath', 'BsmtHalfBath',\n",
        "                       \"MasVnrArea\"], 0)\n",
        "# 그 중, 일부는 빈도수로 채워 넣는다.  \n",
        "fill_missing_with_mode(df_train, [\"MSZoning\", \"KitchenQual\", \"Exterior1st\", \"Exterior2nd\", \"SaleType\"])\n",
        "fill_missing(df_train, [\"Functional\"],\"Typ\")"
      ],
      "execution_count": 238,
      "outputs": []
    },
    {
      "cell_type": "markdown",
      "metadata": {
        "id": "qa6fZ_NnuSsx",
        "colab_type": "text"
      },
      "source": [
        "### (9) 이상치 제거\n",
        "- 적은 데이터에서 상위 또는 하위 이상치가 발생하는 것은 좋지 않다. 따라서, 해당 관측치는 제거한다. "
      ]
    },
    {
      "cell_type": "code",
      "metadata": {
        "id": "UPcEYJjHuTbF",
        "colab_type": "code",
        "colab": {}
      },
      "source": [
        "df_train.drop(df_train[(df_train['OverallQual']<5) & (df_train['SalePrice']>200000)].index, inplace=True)\n",
        "df_train.drop(df_train[(df_train['GrLivArea']>4000) & (df_train['SalePrice']<300000)].index, inplace=True)\n",
        "df_train.reset_index(drop=True, inplace=True)"
      ],
      "execution_count": 239,
      "outputs": []
    },
    {
      "cell_type": "code",
      "metadata": {
        "id": "TG61M0B7E-fK",
        "colab_type": "code",
        "colab": {
          "base_uri": "https://localhost:8080/",
          "height": 35
        },
        "outputId": "e274406b-eba0-4ef2-be6a-c9bd65ebafe5"
      },
      "source": [
        "all_data=pd.get_dummies(all_data)\n",
        "print(all_data.shape)"
      ],
      "execution_count": 240,
      "outputs": [
        {
          "output_type": "stream",
          "text": [
            "(2919, 326)\n"
          ],
          "name": "stdout"
        }
      ]
    },
    {
      "cell_type": "code",
      "metadata": {
        "id": "lqILaHUPFFX4",
        "colab_type": "code",
        "colab": {}
      },
      "source": [
        "train= all_data[:ntrain]\n",
        "test=all_data[ntrain:]"
      ],
      "execution_count": 242,
      "outputs": []
    },
    {
      "cell_type": "markdown",
      "metadata": {
        "id": "diIx9pf6usWO",
        "colab_type": "text"
      },
      "source": [
        "### (11) 범주형 데이터 다루기\n",
        "- 이제 범주형 데이터를 원핫 인코딩으로 변환한다. \n",
        "- 원핫 인코딩으로 변환하는 이유는, 알고리즘은 수치형으로 되어 있기 때문에 그렇다. "
      ]
    },
    {
      "cell_type": "code",
      "metadata": {
        "id": "-vk-uk0xxI4X",
        "colab_type": "code",
        "colab": {}
      },
      "source": [
        "\n",
        "def fix_missing_cols(in_train, in_test):\n",
        "    missing_cols = set(in_train.columns) - set(in_test.columns)\n",
        "    # 테스트 데이터와 훈련 데이터의 컬럼을 동일하게 하는 코드는 작성한다. \n",
        "    for c in missing_cols:\n",
        "        in_test[c] = 0\n",
        "    # 순서를 동일하게 만든다. \n",
        "    in_test = in_test[in_train.columns]\n",
        "    return in_test\n",
        "\n",
        "def dummy_encode(in_df_train, in_df_test):\n",
        "    df_train = in_df_train\n",
        "    df_test = in_df_test\n",
        "    categorical_feats = [\n",
        "        f for f in df_train.columns if df_train[f].dtype == 'object'\n",
        "    ]\n",
        "    print(categorical_feats)\n",
        "    for f_ in categorical_feats:\n",
        "        prefix = f_\n",
        "        df_train = pd.concat([df_train, pd.get_dummies(df_train[f_], prefix=prefix)], axis=1).drop(f_, axis=1)\n",
        "        df_test = pd.concat([df_test, pd.get_dummies(df_test[f_], prefix=prefix)], axis=1).drop(f_, axis=1)\n",
        "        df_test = fix_missing_cols(df_train, df_test)\n",
        "    return df_train, df_test"
      ],
      "execution_count": 241,
      "outputs": []
    },
    {
      "cell_type": "markdown",
      "metadata": {
        "id": "oGf8I44muvot",
        "colab_type": "text"
      },
      "source": [
        "- 훈련 데이터와 테스트 데이터의 크기가 다르면 예측 시, 에러가 발생한다. "
      ]
    },
    {
      "cell_type": "code",
      "metadata": {
        "id": "2rXOqhwiuxNN",
        "colab_type": "code",
        "colab": {
          "base_uri": "https://localhost:8080/",
          "height": 73
        },
        "outputId": "7c1ab15c-2b28-49a0-8698-2a7f7729a186"
      },
      "source": [
        "df_train, df_test = dummy_encode(df_train, df_test)\n",
        "print(\"Shape train: %s, test: %s\" % (df_train.shape, df_test.shape))"
      ],
      "execution_count": 243,
      "outputs": [
        {
          "output_type": "stream",
          "text": [
            "['MSZoning', 'Street', 'Alley', 'LotShape', 'LandContour', 'Utilities', 'LotConfig', 'LandSlope', 'Neighborhood', 'Condition1', 'Condition2', 'BldgType', 'HouseStyle', 'RoofStyle', 'RoofMatl', 'Exterior1st', 'Exterior2nd', 'MasVnrType', 'ExterQual', 'ExterCond', 'Foundation', 'BsmtQual', 'BsmtCond', 'BsmtExposure', 'BsmtFinType1', 'BsmtFinType2', 'Heating', 'HeatingQC', 'CentralAir', 'Electrical', 'KitchenQual', 'Functional', 'FireplaceQu', 'GarageType', 'GarageFinish', 'GarageQual', 'GarageCond', 'PavedDrive', 'PoolQC', 'Fence', 'MiscFeature', 'SaleType', 'SaleCondition']\n",
            "Shape train: (1456, 333), test: (1459, 333)\n"
          ],
          "name": "stdout"
        }
      ]
    },
    {
      "cell_type": "code",
      "metadata": {
        "id": "MDIZNt55Fjb3",
        "colab_type": "code",
        "colab": {}
      },
      "source": [
        "from sklearn.linear_model import ElasticNet, Lasso,  BayesianRidge, LassoLarsIC\n",
        "from sklearn.ensemble import RandomForestRegressor,  GradientBoostingRegressor\n",
        "from sklearn.kernel_ridge import KernelRidge\n",
        "from sklearn.pipeline import make_pipeline\n",
        "from sklearn.preprocessing import RobustScaler\n",
        "from sklearn.base import BaseEstimator, TransformerMixin, RegressorMixin, clone\n",
        "from sklearn.model_selection import KFold, cross_val_score, train_test_split\n",
        "from sklearn.metrics import mean_squared_error\n",
        "import xgboost as xgb\n",
        "import lightgbm as lgb"
      ],
      "execution_count": 244,
      "outputs": []
    },
    {
      "cell_type": "markdown",
      "metadata": {
        "id": "Ku4aSTmgFlHA",
        "colab_type": "text"
      },
      "source": [
        "cross validation stradegy"
      ]
    },
    {
      "cell_type": "code",
      "metadata": {
        "id": "oKudqduwFoFv",
        "colab_type": "code",
        "colab": {}
      },
      "source": [
        "#Validation function\n",
        "n_folds = 5\n",
        "\n",
        "def rmsle_cv(model):\n",
        "  kf= KFold(n_folds, shuffle=True, random_state=42).get_n_splits(train.values)\n",
        "  rmse= np.sqrt(-cross_val_score(model, train.values, y_train, scoring=\"neg_mean_squared_error\", cv=kf))\n",
        "  return(rmse)"
      ],
      "execution_count": 245,
      "outputs": []
    },
    {
      "cell_type": "markdown",
      "metadata": {
        "id": "BRB1ypoDu1VZ",
        "colab_type": "text"
      },
      "source": [
        "## III. 머신러닝 모형 개발\n",
        "- 이제 `LightGBM`을 활용하여 머신러닝 모형을 개발한다. \n",
        "- 유투브 강의를 보도록 한다. \n"
      ]
    },
    {
      "cell_type": "markdown",
      "metadata": {
        "id": "7MFxH2Uou5Hj",
        "colab_type": "text"
      },
      "source": [
        "### (1) 종속변수 처리\n",
        "- 종속변수를 `y` 객체로 저장한다. "
      ]
    },
    {
      "cell_type": "code",
      "metadata": {
        "id": "dBmpKrD8u2Q9",
        "colab_type": "code",
        "colab": {
          "base_uri": "https://localhost:8080/",
          "height": 89
        },
        "outputId": "afd5b2ca-a029-46bd-d0d8-ca79e9387a36"
      },
      "source": [
        "y = df_train[\"SalePrice\"]\n",
        "y.sample(3)"
      ],
      "execution_count": 246,
      "outputs": [
        {
          "output_type": "execute_result",
          "data": {
            "text/plain": [
              "36    10.933\n",
              "812   12.367\n",
              "668   11.736\n",
              "Name: SalePrice, dtype: float64"
            ]
          },
          "metadata": {
            "tags": []
          },
          "execution_count": 246
        }
      ]
    },
    {
      "cell_type": "markdown",
      "metadata": {
        "id": "HUhN4WzPu7-T",
        "colab_type": "text"
      },
      "source": [
        "- 훈련 및 테스트 데이터의 변수를 삭제한다. "
      ]
    },
    {
      "cell_type": "code",
      "metadata": {
        "id": "7ER2sR_au83-",
        "colab_type": "code",
        "colab": {
          "base_uri": "https://localhost:8080/",
          "height": 35
        },
        "outputId": "aa267a5e-3681-45c5-b562-dfddeb61a7f4"
      },
      "source": [
        "df_train.drop([\"SalePrice\"], axis=1, inplace=True)\n",
        "df_test.drop([\"SalePrice\"], axis=1, inplace=True)\n",
        "\n",
        "print(\"Shape train: %s, test: %s\" % (df_train.shape, df_test.shape))"
      ],
      "execution_count": 247,
      "outputs": [
        {
          "output_type": "stream",
          "text": [
            "Shape train: (1456, 332), test: (1459, 332)\n"
          ],
          "name": "stdout"
        }
      ]
    },
    {
      "cell_type": "markdown",
      "metadata": {
        "id": "z0ze-K2ju-z7",
        "colab_type": "text"
      },
      "source": [
        "### (2) 데이터셋 분리\n",
        "- 데이터셋을 분리한다. "
      ]
    },
    {
      "cell_type": "code",
      "metadata": {
        "id": "fpgIHwBuvARl",
        "colab_type": "code",
        "colab": {}
      },
      "source": [
        "X_train, X_test, y_train, y_test = train_test_split( df_train, y, test_size=0.2, random_state=42)"
      ],
      "execution_count": 248,
      "outputs": []
    },
    {
      "cell_type": "markdown",
      "metadata": {
        "id": "loVO88LGvE8n",
        "colab_type": "text"
      },
      "source": [
        "### (3) LightGBM 파라미터 정의\n",
        "- `LightGBM` 파라미터 정의는 다음 메뉴얼을 읽고 적용한다.\n",
        "- [LightGBM 파라미터 메뉴얼](https://lightgbm.readthedocs.io/en/latest/Parameters.html)"
      ]
    },
    {
      "cell_type": "code",
      "metadata": {
        "id": "i58YDHIYvFlI",
        "colab_type": "code",
        "colab": {}
      },
      "source": [
        "hyper_params = {\n",
        "    'task': 'train',\n",
        "    'boosting_type': 'gbdt',\n",
        "    'objective': 'regression',\n",
        "    'metric': ['l2', 'auc'],\n",
        "    'learning_rate': 0.005,\n",
        "    'feature_fraction': 0.9,\n",
        "    'bagging_fraction': 0.7,\n",
        "    'bagging_freq': 10,\n",
        "    'verbose': 0,\n",
        "    \"max_depth\": 8,\n",
        "    \"num_leaves\": 128,  \n",
        "    \"max_bin\": 512,\n",
        "    \"num_iterations\": 100000,\n",
        "    \"n_estimators\": 1000\n",
        "}"
      ],
      "execution_count": 249,
      "outputs": []
    },
    {
      "cell_type": "markdown",
      "metadata": {
        "id": "kPoqArl_vI_W",
        "colab_type": "text"
      },
      "source": [
        "### (4) 모델 정의\n",
        "- 이제 모델을 정의한다. "
      ]
    },
    {
      "cell_type": "code",
      "metadata": {
        "id": "hEYB8CHmvKD7",
        "colab_type": "code",
        "colab": {}
      },
      "source": [
        "gbm = lgb.LGBMRegressor(**hyper_params)"
      ],
      "execution_count": 250,
      "outputs": []
    },
    {
      "cell_type": "markdown",
      "metadata": {
        "id": "jgMpVRf-vNlc",
        "colab_type": "text"
      },
      "source": [
        "### (5) 모델 학습\n",
        "- 이제 모델을 학습한다. "
      ]
    },
    {
      "cell_type": "code",
      "metadata": {
        "id": "BSmqpNDgvO1-",
        "colab_type": "code",
        "colab": {
          "base_uri": "https://localhost:8080/",
          "height": 1000
        },
        "outputId": "9915ab4a-5413-4051-d037-da2ca44de90b"
      },
      "source": [
        "gbm.fit(X_train, y_train,\n",
        "        eval_set=[(X_test, y_test)],\n",
        "        eval_metric='l1',\n",
        "        early_stopping_rounds=1000)"
      ],
      "execution_count": 251,
      "outputs": [
        {
          "output_type": "stream",
          "text": [
            "[1]\tvalid_0's auc: 1\tvalid_0's l2: 0.186476\tvalid_0's l1: 0.333035\n",
            "Training until validation scores don't improve for 1000 rounds.\n",
            "[2]\tvalid_0's auc: 1\tvalid_0's l2: 0.18507\tvalid_0's l1: 0.3316\n",
            "[3]\tvalid_0's auc: 1\tvalid_0's l2: 0.183687\tvalid_0's l1: 0.330186\n",
            "[4]\tvalid_0's auc: 1\tvalid_0's l2: 0.18231\tvalid_0's l1: 0.328796\n",
            "[5]\tvalid_0's auc: 1\tvalid_0's l2: 0.180947\tvalid_0's l1: 0.327395\n",
            "[6]\tvalid_0's auc: 1\tvalid_0's l2: 0.179599\tvalid_0's l1: 0.326012\n",
            "[7]\tvalid_0's auc: 1\tvalid_0's l2: 0.17827\tvalid_0's l1: 0.324626\n",
            "[8]\tvalid_0's auc: 1\tvalid_0's l2: 0.176941\tvalid_0's l1: 0.323255\n",
            "[9]\tvalid_0's auc: 1\tvalid_0's l2: 0.175637\tvalid_0's l1: 0.321908\n",
            "[10]\tvalid_0's auc: 1\tvalid_0's l2: 0.174333\tvalid_0's l1: 0.320577\n",
            "[11]\tvalid_0's auc: 1\tvalid_0's l2: 0.173029\tvalid_0's l1: 0.31924\n",
            "[12]\tvalid_0's auc: 1\tvalid_0's l2: 0.171759\tvalid_0's l1: 0.317927\n",
            "[13]\tvalid_0's auc: 1\tvalid_0's l2: 0.170416\tvalid_0's l1: 0.316543\n",
            "[14]\tvalid_0's auc: 1\tvalid_0's l2: 0.16909\tvalid_0's l1: 0.315179\n",
            "[15]\tvalid_0's auc: 1\tvalid_0's l2: 0.16779\tvalid_0's l1: 0.313832\n",
            "[16]\tvalid_0's auc: 1\tvalid_0's l2: 0.16649\tvalid_0's l1: 0.312478\n",
            "[17]\tvalid_0's auc: 1\tvalid_0's l2: 0.165215\tvalid_0's l1: 0.311144\n",
            "[18]\tvalid_0's auc: 1\tvalid_0's l2: 0.163962\tvalid_0's l1: 0.309832\n",
            "[19]\tvalid_0's auc: 1\tvalid_0's l2: 0.162716\tvalid_0's l1: 0.308525\n",
            "[20]\tvalid_0's auc: 1\tvalid_0's l2: 0.161463\tvalid_0's l1: 0.307182\n",
            "[21]\tvalid_0's auc: 1\tvalid_0's l2: 0.160251\tvalid_0's l1: 0.305894\n",
            "[22]\tvalid_0's auc: 1\tvalid_0's l2: 0.159051\tvalid_0's l1: 0.304607\n",
            "[23]\tvalid_0's auc: 1\tvalid_0's l2: 0.157859\tvalid_0's l1: 0.30333\n",
            "[24]\tvalid_0's auc: 1\tvalid_0's l2: 0.156699\tvalid_0's l1: 0.302068\n",
            "[25]\tvalid_0's auc: 1\tvalid_0's l2: 0.15553\tvalid_0's l1: 0.300804\n",
            "[26]\tvalid_0's auc: 1\tvalid_0's l2: 0.154373\tvalid_0's l1: 0.299547\n",
            "[27]\tvalid_0's auc: 1\tvalid_0's l2: 0.153231\tvalid_0's l1: 0.298301\n",
            "[28]\tvalid_0's auc: 1\tvalid_0's l2: 0.152097\tvalid_0's l1: 0.297066\n",
            "[29]\tvalid_0's auc: 1\tvalid_0's l2: 0.150977\tvalid_0's l1: 0.295839\n",
            "[30]\tvalid_0's auc: 1\tvalid_0's l2: 0.149881\tvalid_0's l1: 0.294666\n",
            "[31]\tvalid_0's auc: 1\tvalid_0's l2: 0.148768\tvalid_0's l1: 0.293431\n",
            "[32]\tvalid_0's auc: 1\tvalid_0's l2: 0.147663\tvalid_0's l1: 0.292196\n",
            "[33]\tvalid_0's auc: 1\tvalid_0's l2: 0.146577\tvalid_0's l1: 0.29098\n",
            "[34]\tvalid_0's auc: 1\tvalid_0's l2: 0.145494\tvalid_0's l1: 0.289757\n",
            "[35]\tvalid_0's auc: 1\tvalid_0's l2: 0.144431\tvalid_0's l1: 0.288563\n",
            "[36]\tvalid_0's auc: 1\tvalid_0's l2: 0.143376\tvalid_0's l1: 0.287362\n",
            "[37]\tvalid_0's auc: 1\tvalid_0's l2: 0.142328\tvalid_0's l1: 0.286158\n",
            "[38]\tvalid_0's auc: 1\tvalid_0's l2: 0.141297\tvalid_0's l1: 0.284961\n",
            "[39]\tvalid_0's auc: 1\tvalid_0's l2: 0.140287\tvalid_0's l1: 0.283793\n",
            "[40]\tvalid_0's auc: 1\tvalid_0's l2: 0.139272\tvalid_0's l1: 0.282594\n",
            "[41]\tvalid_0's auc: 1\tvalid_0's l2: 0.1383\tvalid_0's l1: 0.281454\n",
            "[42]\tvalid_0's auc: 1\tvalid_0's l2: 0.137322\tvalid_0's l1: 0.280306\n",
            "[43]\tvalid_0's auc: 1\tvalid_0's l2: 0.136354\tvalid_0's l1: 0.279165\n",
            "[44]\tvalid_0's auc: 1\tvalid_0's l2: 0.135395\tvalid_0's l1: 0.27803\n",
            "[45]\tvalid_0's auc: 1\tvalid_0's l2: 0.134454\tvalid_0's l1: 0.276912\n",
            "[46]\tvalid_0's auc: 1\tvalid_0's l2: 0.133518\tvalid_0's l1: 0.275778\n",
            "[47]\tvalid_0's auc: 1\tvalid_0's l2: 0.132591\tvalid_0's l1: 0.274649\n",
            "[48]\tvalid_0's auc: 1\tvalid_0's l2: 0.131684\tvalid_0's l1: 0.27355\n",
            "[49]\tvalid_0's auc: 1\tvalid_0's l2: 0.130776\tvalid_0's l1: 0.272426\n",
            "[50]\tvalid_0's auc: 1\tvalid_0's l2: 0.129877\tvalid_0's l1: 0.271328\n",
            "[51]\tvalid_0's auc: 1\tvalid_0's l2: 0.128958\tvalid_0's l1: 0.270223\n",
            "[52]\tvalid_0's auc: 1\tvalid_0's l2: 0.128056\tvalid_0's l1: 0.269132\n",
            "[53]\tvalid_0's auc: 1\tvalid_0's l2: 0.127199\tvalid_0's l1: 0.268072\n",
            "[54]\tvalid_0's auc: 1\tvalid_0's l2: 0.126304\tvalid_0's l1: 0.26698\n",
            "[55]\tvalid_0's auc: 1\tvalid_0's l2: 0.125417\tvalid_0's l1: 0.265894\n",
            "[56]\tvalid_0's auc: 1\tvalid_0's l2: 0.124539\tvalid_0's l1: 0.264816\n",
            "[57]\tvalid_0's auc: 1\tvalid_0's l2: 0.123669\tvalid_0's l1: 0.263745\n",
            "[58]\tvalid_0's auc: 1\tvalid_0's l2: 0.122808\tvalid_0's l1: 0.262679\n",
            "[59]\tvalid_0's auc: 1\tvalid_0's l2: 0.121976\tvalid_0's l1: 0.26166\n",
            "[60]\tvalid_0's auc: 1\tvalid_0's l2: 0.121132\tvalid_0's l1: 0.260604\n",
            "[61]\tvalid_0's auc: 1\tvalid_0's l2: 0.120264\tvalid_0's l1: 0.259529\n",
            "[62]\tvalid_0's auc: 1\tvalid_0's l2: 0.119405\tvalid_0's l1: 0.258459\n",
            "[63]\tvalid_0's auc: 1\tvalid_0's l2: 0.118554\tvalid_0's l1: 0.257392\n",
            "[64]\tvalid_0's auc: 1\tvalid_0's l2: 0.117712\tvalid_0's l1: 0.256332\n",
            "[65]\tvalid_0's auc: 1\tvalid_0's l2: 0.116878\tvalid_0's l1: 0.255276\n",
            "[66]\tvalid_0's auc: 1\tvalid_0's l2: 0.116053\tvalid_0's l1: 0.254228\n",
            "[67]\tvalid_0's auc: 1\tvalid_0's l2: 0.11524\tvalid_0's l1: 0.253194\n",
            "[68]\tvalid_0's auc: 1\tvalid_0's l2: 0.114432\tvalid_0's l1: 0.252155\n",
            "[69]\tvalid_0's auc: 1\tvalid_0's l2: 0.113645\tvalid_0's l1: 0.251108\n",
            "[70]\tvalid_0's auc: 1\tvalid_0's l2: 0.11285\tvalid_0's l1: 0.250071\n",
            "[71]\tvalid_0's auc: 1\tvalid_0's l2: 0.112108\tvalid_0's l1: 0.249119\n",
            "[72]\tvalid_0's auc: 1\tvalid_0's l2: 0.111375\tvalid_0's l1: 0.248157\n",
            "[73]\tvalid_0's auc: 1\tvalid_0's l2: 0.11065\tvalid_0's l1: 0.247221\n",
            "[74]\tvalid_0's auc: 1\tvalid_0's l2: 0.109933\tvalid_0's l1: 0.246275\n",
            "[75]\tvalid_0's auc: 1\tvalid_0's l2: 0.109217\tvalid_0's l1: 0.245319\n",
            "[76]\tvalid_0's auc: 1\tvalid_0's l2: 0.108512\tvalid_0's l1: 0.244397\n",
            "[77]\tvalid_0's auc: 1\tvalid_0's l2: 0.107808\tvalid_0's l1: 0.243467\n",
            "[78]\tvalid_0's auc: 1\tvalid_0's l2: 0.107116\tvalid_0's l1: 0.242556\n",
            "[79]\tvalid_0's auc: 1\tvalid_0's l2: 0.10643\tvalid_0's l1: 0.241633\n",
            "[80]\tvalid_0's auc: 1\tvalid_0's l2: 0.105752\tvalid_0's l1: 0.240732\n",
            "[81]\tvalid_0's auc: 1\tvalid_0's l2: 0.105091\tvalid_0's l1: 0.239833\n",
            "[82]\tvalid_0's auc: 1\tvalid_0's l2: 0.104438\tvalid_0's l1: 0.238941\n",
            "[83]\tvalid_0's auc: 1\tvalid_0's l2: 0.103788\tvalid_0's l1: 0.238051\n",
            "[84]\tvalid_0's auc: 1\tvalid_0's l2: 0.103152\tvalid_0's l1: 0.237183\n",
            "[85]\tvalid_0's auc: 1\tvalid_0's l2: 0.102506\tvalid_0's l1: 0.236302\n",
            "[86]\tvalid_0's auc: 1\tvalid_0's l2: 0.101881\tvalid_0's l1: 0.235437\n",
            "[87]\tvalid_0's auc: 1\tvalid_0's l2: 0.101276\tvalid_0's l1: 0.234622\n",
            "[88]\tvalid_0's auc: 1\tvalid_0's l2: 0.100607\tvalid_0's l1: 0.233673\n",
            "[89]\tvalid_0's auc: 1\tvalid_0's l2: 0.0999455\tvalid_0's l1: 0.232733\n",
            "[90]\tvalid_0's auc: 1\tvalid_0's l2: 0.0993594\tvalid_0's l1: 0.231938\n",
            "[91]\tvalid_0's auc: 1\tvalid_0's l2: 0.0987578\tvalid_0's l1: 0.231104\n",
            "[92]\tvalid_0's auc: 1\tvalid_0's l2: 0.098162\tvalid_0's l1: 0.230275\n",
            "[93]\tvalid_0's auc: 1\tvalid_0's l2: 0.0975597\tvalid_0's l1: 0.229442\n",
            "[94]\tvalid_0's auc: 1\tvalid_0's l2: 0.0969754\tvalid_0's l1: 0.228621\n",
            "[95]\tvalid_0's auc: 1\tvalid_0's l2: 0.0963963\tvalid_0's l1: 0.227808\n",
            "[96]\tvalid_0's auc: 1\tvalid_0's l2: 0.0958255\tvalid_0's l1: 0.226998\n",
            "[97]\tvalid_0's auc: 1\tvalid_0's l2: 0.09524\tvalid_0's l1: 0.226133\n",
            "[98]\tvalid_0's auc: 1\tvalid_0's l2: 0.0946754\tvalid_0's l1: 0.225332\n",
            "[99]\tvalid_0's auc: 1\tvalid_0's l2: 0.0941144\tvalid_0's l1: 0.224533\n",
            "[100]\tvalid_0's auc: 1\tvalid_0's l2: 0.0935624\tvalid_0's l1: 0.223747\n",
            "[101]\tvalid_0's auc: 1\tvalid_0's l2: 0.093024\tvalid_0's l1: 0.222953\n",
            "[102]\tvalid_0's auc: 1\tvalid_0's l2: 0.0924723\tvalid_0's l1: 0.2222\n",
            "[103]\tvalid_0's auc: 1\tvalid_0's l2: 0.0919292\tvalid_0's l1: 0.221441\n",
            "[104]\tvalid_0's auc: 1\tvalid_0's l2: 0.0913917\tvalid_0's l1: 0.220686\n",
            "[105]\tvalid_0's auc: 1\tvalid_0's l2: 0.0908552\tvalid_0's l1: 0.219945\n",
            "[106]\tvalid_0's auc: 1\tvalid_0's l2: 0.0903273\tvalid_0's l1: 0.219195\n",
            "[107]\tvalid_0's auc: 1\tvalid_0's l2: 0.0898048\tvalid_0's l1: 0.218462\n",
            "[108]\tvalid_0's auc: 1\tvalid_0's l2: 0.0892876\tvalid_0's l1: 0.217733\n",
            "[109]\tvalid_0's auc: 1\tvalid_0's l2: 0.0887751\tvalid_0's l1: 0.217007\n",
            "[110]\tvalid_0's auc: 1\tvalid_0's l2: 0.0882679\tvalid_0's l1: 0.216285\n",
            "[111]\tvalid_0's auc: 1\tvalid_0's l2: 0.0877395\tvalid_0's l1: 0.215488\n",
            "[112]\tvalid_0's auc: 1\tvalid_0's l2: 0.0872295\tvalid_0's l1: 0.214716\n",
            "[113]\tvalid_0's auc: 1\tvalid_0's l2: 0.0867113\tvalid_0's l1: 0.213929\n",
            "[114]\tvalid_0's auc: 1\tvalid_0's l2: 0.0862168\tvalid_0's l1: 0.213189\n",
            "[115]\tvalid_0's auc: 1\tvalid_0's l2: 0.0857085\tvalid_0's l1: 0.212427\n",
            "[116]\tvalid_0's auc: 1\tvalid_0's l2: 0.0852195\tvalid_0's l1: 0.211699\n",
            "[117]\tvalid_0's auc: 1\tvalid_0's l2: 0.0847196\tvalid_0's l1: 0.210942\n",
            "[118]\tvalid_0's auc: 1\tvalid_0's l2: 0.0842435\tvalid_0's l1: 0.210222\n",
            "[119]\tvalid_0's auc: 1\tvalid_0's l2: 0.083767\tvalid_0's l1: 0.209495\n",
            "[120]\tvalid_0's auc: 1\tvalid_0's l2: 0.0832867\tvalid_0's l1: 0.208772\n",
            "[121]\tvalid_0's auc: 1\tvalid_0's l2: 0.082822\tvalid_0's l1: 0.208069\n",
            "[122]\tvalid_0's auc: 1\tvalid_0's l2: 0.0823619\tvalid_0's l1: 0.20737\n",
            "[123]\tvalid_0's auc: 1\tvalid_0's l2: 0.0819006\tvalid_0's l1: 0.206667\n",
            "[124]\tvalid_0's auc: 1\tvalid_0's l2: 0.0814451\tvalid_0's l1: 0.205976\n",
            "[125]\tvalid_0's auc: 1\tvalid_0's l2: 0.0809931\tvalid_0's l1: 0.20527\n",
            "[126]\tvalid_0's auc: 1\tvalid_0's l2: 0.0805425\tvalid_0's l1: 0.204544\n",
            "[127]\tvalid_0's auc: 1\tvalid_0's l2: 0.080096\tvalid_0's l1: 0.203847\n",
            "[128]\tvalid_0's auc: 1\tvalid_0's l2: 0.0796695\tvalid_0's l1: 0.203186\n",
            "[129]\tvalid_0's auc: 1\tvalid_0's l2: 0.0792419\tvalid_0's l1: 0.20252\n",
            "[130]\tvalid_0's auc: 1\tvalid_0's l2: 0.0788111\tvalid_0's l1: 0.201848\n",
            "[131]\tvalid_0's auc: 1\tvalid_0's l2: 0.0783899\tvalid_0's l1: 0.201196\n",
            "[132]\tvalid_0's auc: 1\tvalid_0's l2: 0.077968\tvalid_0's l1: 0.200542\n",
            "[133]\tvalid_0's auc: 1\tvalid_0's l2: 0.0775464\tvalid_0's l1: 0.199883\n",
            "[134]\tvalid_0's auc: 1\tvalid_0's l2: 0.0771423\tvalid_0's l1: 0.199248\n",
            "[135]\tvalid_0's auc: 1\tvalid_0's l2: 0.0767323\tvalid_0's l1: 0.198607\n",
            "[136]\tvalid_0's auc: 1\tvalid_0's l2: 0.0763359\tvalid_0's l1: 0.197979\n",
            "[137]\tvalid_0's auc: 1\tvalid_0's l2: 0.0759336\tvalid_0's l1: 0.197345\n",
            "[138]\tvalid_0's auc: 1\tvalid_0's l2: 0.075542\tvalid_0's l1: 0.196712\n",
            "[139]\tvalid_0's auc: 1\tvalid_0's l2: 0.0751466\tvalid_0's l1: 0.19608\n",
            "[140]\tvalid_0's auc: 1\tvalid_0's l2: 0.0747554\tvalid_0's l1: 0.195457\n",
            "[141]\tvalid_0's auc: 1\tvalid_0's l2: 0.0743306\tvalid_0's l1: 0.194788\n",
            "[142]\tvalid_0's auc: 1\tvalid_0's l2: 0.0739133\tvalid_0's l1: 0.194127\n",
            "[143]\tvalid_0's auc: 1\tvalid_0's l2: 0.0734994\tvalid_0's l1: 0.193478\n",
            "[144]\tvalid_0's auc: 1\tvalid_0's l2: 0.0730887\tvalid_0's l1: 0.192823\n",
            "[145]\tvalid_0's auc: 1\tvalid_0's l2: 0.0726803\tvalid_0's l1: 0.19217\n",
            "[146]\tvalid_0's auc: 1\tvalid_0's l2: 0.0722777\tvalid_0's l1: 0.191531\n",
            "[147]\tvalid_0's auc: 1\tvalid_0's l2: 0.071889\tvalid_0's l1: 0.190902\n",
            "[148]\tvalid_0's auc: 1\tvalid_0's l2: 0.0714964\tvalid_0's l1: 0.19029\n",
            "[149]\tvalid_0's auc: 1\tvalid_0's l2: 0.0711031\tvalid_0's l1: 0.189683\n",
            "[150]\tvalid_0's auc: 1\tvalid_0's l2: 0.0707292\tvalid_0's l1: 0.189091\n",
            "[151]\tvalid_0's auc: 1\tvalid_0's l2: 0.0703472\tvalid_0's l1: 0.188496\n",
            "[152]\tvalid_0's auc: 1\tvalid_0's l2: 0.0699726\tvalid_0's l1: 0.18792\n",
            "[153]\tvalid_0's auc: 1\tvalid_0's l2: 0.0696115\tvalid_0's l1: 0.187362\n",
            "[154]\tvalid_0's auc: 1\tvalid_0's l2: 0.0692481\tvalid_0's l1: 0.186796\n",
            "[155]\tvalid_0's auc: 1\tvalid_0's l2: 0.068883\tvalid_0's l1: 0.186225\n",
            "[156]\tvalid_0's auc: 1\tvalid_0's l2: 0.0685215\tvalid_0's l1: 0.185659\n",
            "[157]\tvalid_0's auc: 1\tvalid_0's l2: 0.0681695\tvalid_0's l1: 0.185112\n",
            "[158]\tvalid_0's auc: 1\tvalid_0's l2: 0.0678412\tvalid_0's l1: 0.184589\n",
            "[159]\tvalid_0's auc: 1\tvalid_0's l2: 0.0675034\tvalid_0's l1: 0.184045\n",
            "[160]\tvalid_0's auc: 1\tvalid_0's l2: 0.0671523\tvalid_0's l1: 0.183494\n",
            "[161]\tvalid_0's auc: 1\tvalid_0's l2: 0.0667981\tvalid_0's l1: 0.182932\n",
            "[162]\tvalid_0's auc: 1\tvalid_0's l2: 0.0664466\tvalid_0's l1: 0.182376\n",
            "[163]\tvalid_0's auc: 1\tvalid_0's l2: 0.0660991\tvalid_0's l1: 0.18183\n",
            "[164]\tvalid_0's auc: 1\tvalid_0's l2: 0.0657618\tvalid_0's l1: 0.181311\n",
            "[165]\tvalid_0's auc: 1\tvalid_0's l2: 0.0654207\tvalid_0's l1: 0.180774\n",
            "[166]\tvalid_0's auc: 1\tvalid_0's l2: 0.0650836\tvalid_0's l1: 0.180251\n",
            "[167]\tvalid_0's auc: 1\tvalid_0's l2: 0.0647467\tvalid_0's l1: 0.17971\n",
            "[168]\tvalid_0's auc: 1\tvalid_0's l2: 0.0644144\tvalid_0's l1: 0.179179\n",
            "[169]\tvalid_0's auc: 1\tvalid_0's l2: 0.0640852\tvalid_0's l1: 0.178656\n",
            "[170]\tvalid_0's auc: 1\tvalid_0's l2: 0.0637602\tvalid_0's l1: 0.178133\n",
            "[171]\tvalid_0's auc: 1\tvalid_0's l2: 0.0634434\tvalid_0's l1: 0.177613\n",
            "[172]\tvalid_0's auc: 1\tvalid_0's l2: 0.0631322\tvalid_0's l1: 0.177084\n",
            "[173]\tvalid_0's auc: 1\tvalid_0's l2: 0.0628236\tvalid_0's l1: 0.176583\n",
            "[174]\tvalid_0's auc: 1\tvalid_0's l2: 0.0625158\tvalid_0's l1: 0.176077\n",
            "[175]\tvalid_0's auc: 1\tvalid_0's l2: 0.062204\tvalid_0's l1: 0.175572\n",
            "[176]\tvalid_0's auc: 1\tvalid_0's l2: 0.0618951\tvalid_0's l1: 0.175059\n",
            "[177]\tvalid_0's auc: 1\tvalid_0's l2: 0.0615893\tvalid_0's l1: 0.174558\n",
            "[178]\tvalid_0's auc: 1\tvalid_0's l2: 0.0612926\tvalid_0's l1: 0.174061\n",
            "[179]\tvalid_0's auc: 1\tvalid_0's l2: 0.0609923\tvalid_0's l1: 0.173559\n",
            "[180]\tvalid_0's auc: 1\tvalid_0's l2: 0.0606946\tvalid_0's l1: 0.173062\n",
            "[181]\tvalid_0's auc: 1\tvalid_0's l2: 0.0603822\tvalid_0's l1: 0.172546\n",
            "[182]\tvalid_0's auc: 1\tvalid_0's l2: 0.0600723\tvalid_0's l1: 0.172038\n",
            "[183]\tvalid_0's auc: 1\tvalid_0's l2: 0.0597642\tvalid_0's l1: 0.171522\n",
            "[184]\tvalid_0's auc: 1\tvalid_0's l2: 0.0594642\tvalid_0's l1: 0.171029\n",
            "[185]\tvalid_0's auc: 1\tvalid_0's l2: 0.0591618\tvalid_0's l1: 0.170519\n",
            "[186]\tvalid_0's auc: 1\tvalid_0's l2: 0.0588682\tvalid_0's l1: 0.170028\n",
            "[187]\tvalid_0's auc: 1\tvalid_0's l2: 0.0585771\tvalid_0's l1: 0.169532\n",
            "[188]\tvalid_0's auc: 1\tvalid_0's l2: 0.0582872\tvalid_0's l1: 0.169045\n",
            "[189]\tvalid_0's auc: 1\tvalid_0's l2: 0.0580016\tvalid_0's l1: 0.168569\n",
            "[190]\tvalid_0's auc: 1\tvalid_0's l2: 0.0577109\tvalid_0's l1: 0.168069\n",
            "[191]\tvalid_0's auc: 1\tvalid_0's l2: 0.0574592\tvalid_0's l1: 0.167648\n",
            "[192]\tvalid_0's auc: 1\tvalid_0's l2: 0.0572062\tvalid_0's l1: 0.167215\n",
            "[193]\tvalid_0's auc: 1\tvalid_0's l2: 0.0569569\tvalid_0's l1: 0.166773\n",
            "[194]\tvalid_0's auc: 1\tvalid_0's l2: 0.0567112\tvalid_0's l1: 0.16635\n",
            "[195]\tvalid_0's auc: 1\tvalid_0's l2: 0.0564662\tvalid_0's l1: 0.16593\n",
            "[196]\tvalid_0's auc: 1\tvalid_0's l2: 0.0562226\tvalid_0's l1: 0.165522\n",
            "[197]\tvalid_0's auc: 1\tvalid_0's l2: 0.0559718\tvalid_0's l1: 0.165077\n",
            "[198]\tvalid_0's auc: 1\tvalid_0's l2: 0.0557277\tvalid_0's l1: 0.164635\n",
            "[199]\tvalid_0's auc: 1\tvalid_0's l2: 0.0554957\tvalid_0's l1: 0.164231\n",
            "[200]\tvalid_0's auc: 1\tvalid_0's l2: 0.0552565\tvalid_0's l1: 0.16382\n",
            "[201]\tvalid_0's auc: 1\tvalid_0's l2: 0.0549966\tvalid_0's l1: 0.163359\n",
            "[202]\tvalid_0's auc: 1\tvalid_0's l2: 0.0547437\tvalid_0's l1: 0.162919\n",
            "[203]\tvalid_0's auc: 1\tvalid_0's l2: 0.0544887\tvalid_0's l1: 0.162458\n",
            "[204]\tvalid_0's auc: 1\tvalid_0's l2: 0.0542413\tvalid_0's l1: 0.162021\n",
            "[205]\tvalid_0's auc: 1\tvalid_0's l2: 0.0539919\tvalid_0's l1: 0.161571\n",
            "[206]\tvalid_0's auc: 1\tvalid_0's l2: 0.0537514\tvalid_0's l1: 0.161109\n",
            "[207]\tvalid_0's auc: 1\tvalid_0's l2: 0.0535064\tvalid_0's l1: 0.160659\n",
            "[208]\tvalid_0's auc: 1\tvalid_0's l2: 0.0532723\tvalid_0's l1: 0.160255\n",
            "[209]\tvalid_0's auc: 1\tvalid_0's l2: 0.053047\tvalid_0's l1: 0.15984\n",
            "[210]\tvalid_0's auc: 1\tvalid_0's l2: 0.0528037\tvalid_0's l1: 0.15939\n",
            "[211]\tvalid_0's auc: 1\tvalid_0's l2: 0.0525719\tvalid_0's l1: 0.15897\n",
            "[212]\tvalid_0's auc: 1\tvalid_0's l2: 0.0523444\tvalid_0's l1: 0.158546\n",
            "[213]\tvalid_0's auc: 1\tvalid_0's l2: 0.052117\tvalid_0's l1: 0.15813\n",
            "[214]\tvalid_0's auc: 1\tvalid_0's l2: 0.0518912\tvalid_0's l1: 0.157709\n",
            "[215]\tvalid_0's auc: 1\tvalid_0's l2: 0.0516722\tvalid_0's l1: 0.157303\n",
            "[216]\tvalid_0's auc: 1\tvalid_0's l2: 0.051452\tvalid_0's l1: 0.156893\n",
            "[217]\tvalid_0's auc: 1\tvalid_0's l2: 0.0512327\tvalid_0's l1: 0.156472\n",
            "[218]\tvalid_0's auc: 1\tvalid_0's l2: 0.051016\tvalid_0's l1: 0.156056\n",
            "[219]\tvalid_0's auc: 1\tvalid_0's l2: 0.0507989\tvalid_0's l1: 0.155649\n",
            "[220]\tvalid_0's auc: 1\tvalid_0's l2: 0.0505742\tvalid_0's l1: 0.155252\n",
            "[221]\tvalid_0's auc: 1\tvalid_0's l2: 0.0503545\tvalid_0's l1: 0.154856\n",
            "[222]\tvalid_0's auc: 1\tvalid_0's l2: 0.0501372\tvalid_0's l1: 0.154464\n",
            "[223]\tvalid_0's auc: 1\tvalid_0's l2: 0.0499214\tvalid_0's l1: 0.154066\n",
            "[224]\tvalid_0's auc: 1\tvalid_0's l2: 0.049711\tvalid_0's l1: 0.153684\n",
            "[225]\tvalid_0's auc: 1\tvalid_0's l2: 0.0494999\tvalid_0's l1: 0.153301\n",
            "[226]\tvalid_0's auc: 1\tvalid_0's l2: 0.0492906\tvalid_0's l1: 0.152911\n",
            "[227]\tvalid_0's auc: 1\tvalid_0's l2: 0.0490802\tvalid_0's l1: 0.152547\n",
            "[228]\tvalid_0's auc: 1\tvalid_0's l2: 0.0488761\tvalid_0's l1: 0.152182\n",
            "[229]\tvalid_0's auc: 1\tvalid_0's l2: 0.0486676\tvalid_0's l1: 0.151804\n",
            "[230]\tvalid_0's auc: 1\tvalid_0's l2: 0.0484773\tvalid_0's l1: 0.151434\n",
            "[231]\tvalid_0's auc: 1\tvalid_0's l2: 0.0482751\tvalid_0's l1: 0.151033\n",
            "[232]\tvalid_0's auc: 1\tvalid_0's l2: 0.0480932\tvalid_0's l1: 0.150685\n",
            "[233]\tvalid_0's auc: 1\tvalid_0's l2: 0.0478947\tvalid_0's l1: 0.150288\n",
            "[234]\tvalid_0's auc: 1\tvalid_0's l2: 0.0476976\tvalid_0's l1: 0.149895\n",
            "[235]\tvalid_0's auc: 1\tvalid_0's l2: 0.0475051\tvalid_0's l1: 0.149509\n",
            "[236]\tvalid_0's auc: 1\tvalid_0's l2: 0.0473135\tvalid_0's l1: 0.149128\n",
            "[237]\tvalid_0's auc: 1\tvalid_0's l2: 0.0471267\tvalid_0's l1: 0.148757\n",
            "[238]\tvalid_0's auc: 1\tvalid_0's l2: 0.0469383\tvalid_0's l1: 0.14838\n",
            "[239]\tvalid_0's auc: 1\tvalid_0's l2: 0.0467691\tvalid_0's l1: 0.148063\n",
            "[240]\tvalid_0's auc: 1\tvalid_0's l2: 0.0465898\tvalid_0's l1: 0.147705\n",
            "[241]\tvalid_0's auc: 1\tvalid_0's l2: 0.0464115\tvalid_0's l1: 0.147356\n",
            "[242]\tvalid_0's auc: 1\tvalid_0's l2: 0.0462324\tvalid_0's l1: 0.147019\n",
            "[243]\tvalid_0's auc: 1\tvalid_0's l2: 0.046055\tvalid_0's l1: 0.146687\n",
            "[244]\tvalid_0's auc: 1\tvalid_0's l2: 0.0458894\tvalid_0's l1: 0.146362\n",
            "[245]\tvalid_0's auc: 1\tvalid_0's l2: 0.0457265\tvalid_0's l1: 0.146037\n",
            "[246]\tvalid_0's auc: 1\tvalid_0's l2: 0.0455668\tvalid_0's l1: 0.145713\n",
            "[247]\tvalid_0's auc: 1\tvalid_0's l2: 0.0454055\tvalid_0's l1: 0.145402\n",
            "[248]\tvalid_0's auc: 1\tvalid_0's l2: 0.0452471\tvalid_0's l1: 0.14509\n",
            "[249]\tvalid_0's auc: 1\tvalid_0's l2: 0.0450879\tvalid_0's l1: 0.144784\n",
            "[250]\tvalid_0's auc: 1\tvalid_0's l2: 0.0449323\tvalid_0's l1: 0.144474\n",
            "[251]\tvalid_0's auc: 1\tvalid_0's l2: 0.0447746\tvalid_0's l1: 0.144168\n",
            "[252]\tvalid_0's auc: 1\tvalid_0's l2: 0.0446183\tvalid_0's l1: 0.143864\n",
            "[253]\tvalid_0's auc: 1\tvalid_0's l2: 0.0444581\tvalid_0's l1: 0.143525\n",
            "[254]\tvalid_0's auc: 1\tvalid_0's l2: 0.0443048\tvalid_0's l1: 0.143225\n",
            "[255]\tvalid_0's auc: 1\tvalid_0's l2: 0.0441528\tvalid_0's l1: 0.142925\n",
            "[256]\tvalid_0's auc: 1\tvalid_0's l2: 0.0440028\tvalid_0's l1: 0.14263\n",
            "[257]\tvalid_0's auc: 1\tvalid_0's l2: 0.0438591\tvalid_0's l1: 0.142335\n",
            "[258]\tvalid_0's auc: 1\tvalid_0's l2: 0.0437114\tvalid_0's l1: 0.142038\n",
            "[259]\tvalid_0's auc: 1\tvalid_0's l2: 0.0435646\tvalid_0's l1: 0.141744\n",
            "[260]\tvalid_0's auc: 1\tvalid_0's l2: 0.0434238\tvalid_0's l1: 0.141459\n",
            "[261]\tvalid_0's auc: 1\tvalid_0's l2: 0.0432963\tvalid_0's l1: 0.141195\n",
            "[262]\tvalid_0's auc: 1\tvalid_0's l2: 0.0431613\tvalid_0's l1: 0.140921\n",
            "[263]\tvalid_0's auc: 1\tvalid_0's l2: 0.0430293\tvalid_0's l1: 0.140658\n",
            "[264]\tvalid_0's auc: 1\tvalid_0's l2: 0.042899\tvalid_0's l1: 0.140389\n",
            "[265]\tvalid_0's auc: 1\tvalid_0's l2: 0.0427647\tvalid_0's l1: 0.140113\n",
            "[266]\tvalid_0's auc: 1\tvalid_0's l2: 0.0426351\tvalid_0's l1: 0.139848\n",
            "[267]\tvalid_0's auc: 1\tvalid_0's l2: 0.0425068\tvalid_0's l1: 0.139585\n",
            "[268]\tvalid_0's auc: 1\tvalid_0's l2: 0.0423822\tvalid_0's l1: 0.139322\n",
            "[269]\tvalid_0's auc: 1\tvalid_0's l2: 0.0422542\tvalid_0's l1: 0.139059\n",
            "[270]\tvalid_0's auc: 1\tvalid_0's l2: 0.0421319\tvalid_0's l1: 0.138805\n",
            "[271]\tvalid_0's auc: 1\tvalid_0's l2: 0.0420036\tvalid_0's l1: 0.138533\n",
            "[272]\tvalid_0's auc: 1\tvalid_0's l2: 0.0418696\tvalid_0's l1: 0.138249\n",
            "[273]\tvalid_0's auc: 1\tvalid_0's l2: 0.0417364\tvalid_0's l1: 0.137968\n",
            "[274]\tvalid_0's auc: 1\tvalid_0's l2: 0.0416077\tvalid_0's l1: 0.137703\n",
            "[275]\tvalid_0's auc: 1\tvalid_0's l2: 0.0414791\tvalid_0's l1: 0.137437\n",
            "[276]\tvalid_0's auc: 1\tvalid_0's l2: 0.0413487\tvalid_0's l1: 0.137161\n",
            "[277]\tvalid_0's auc: 1\tvalid_0's l2: 0.0412231\tvalid_0's l1: 0.136897\n",
            "[278]\tvalid_0's auc: 1\tvalid_0's l2: 0.0410967\tvalid_0's l1: 0.136633\n",
            "[279]\tvalid_0's auc: 1\tvalid_0's l2: 0.0409714\tvalid_0's l1: 0.136374\n",
            "[280]\tvalid_0's auc: 1\tvalid_0's l2: 0.0408481\tvalid_0's l1: 0.136119\n",
            "[281]\tvalid_0's auc: 1\tvalid_0's l2: 0.0407172\tvalid_0's l1: 0.135859\n",
            "[282]\tvalid_0's auc: 1\tvalid_0's l2: 0.0405971\tvalid_0's l1: 0.13561\n",
            "[283]\tvalid_0's auc: 1\tvalid_0's l2: 0.0404784\tvalid_0's l1: 0.135367\n",
            "[284]\tvalid_0's auc: 1\tvalid_0's l2: 0.0403586\tvalid_0's l1: 0.135129\n",
            "[285]\tvalid_0's auc: 1\tvalid_0's l2: 0.0402337\tvalid_0's l1: 0.13489\n",
            "[286]\tvalid_0's auc: 1\tvalid_0's l2: 0.0401183\tvalid_0's l1: 0.134658\n",
            "[287]\tvalid_0's auc: 1\tvalid_0's l2: 0.0400019\tvalid_0's l1: 0.13443\n",
            "[288]\tvalid_0's auc: 1\tvalid_0's l2: 0.0398904\tvalid_0's l1: 0.134207\n",
            "[289]\tvalid_0's auc: 1\tvalid_0's l2: 0.0397713\tvalid_0's l1: 0.133972\n",
            "[290]\tvalid_0's auc: 1\tvalid_0's l2: 0.0396577\tvalid_0's l1: 0.133754\n",
            "[291]\tvalid_0's auc: 1\tvalid_0's l2: 0.0395184\tvalid_0's l1: 0.13347\n",
            "[292]\tvalid_0's auc: 1\tvalid_0's l2: 0.0393804\tvalid_0's l1: 0.133187\n",
            "[293]\tvalid_0's auc: 1\tvalid_0's l2: 0.0392519\tvalid_0's l1: 0.132923\n",
            "[294]\tvalid_0's auc: 1\tvalid_0's l2: 0.0391253\tvalid_0's l1: 0.132665\n",
            "[295]\tvalid_0's auc: 1\tvalid_0's l2: 0.0389917\tvalid_0's l1: 0.132387\n",
            "[296]\tvalid_0's auc: 1\tvalid_0's l2: 0.0388718\tvalid_0's l1: 0.132137\n",
            "[297]\tvalid_0's auc: 1\tvalid_0's l2: 0.0387668\tvalid_0's l1: 0.131918\n",
            "[298]\tvalid_0's auc: 1\tvalid_0's l2: 0.0386495\tvalid_0's l1: 0.131681\n",
            "[299]\tvalid_0's auc: 1\tvalid_0's l2: 0.0385198\tvalid_0's l1: 0.131417\n",
            "[300]\tvalid_0's auc: 1\tvalid_0's l2: 0.0383917\tvalid_0's l1: 0.131157\n",
            "[301]\tvalid_0's auc: 1\tvalid_0's l2: 0.0382686\tvalid_0's l1: 0.130908\n",
            "[302]\tvalid_0's auc: 1\tvalid_0's l2: 0.0381445\tvalid_0's l1: 0.130658\n",
            "[303]\tvalid_0's auc: 1\tvalid_0's l2: 0.0380282\tvalid_0's l1: 0.13042\n",
            "[304]\tvalid_0's auc: 1\tvalid_0's l2: 0.0379106\tvalid_0's l1: 0.130187\n",
            "[305]\tvalid_0's auc: 1\tvalid_0's l2: 0.0377905\tvalid_0's l1: 0.129944\n",
            "[306]\tvalid_0's auc: 1\tvalid_0's l2: 0.0376736\tvalid_0's l1: 0.129705\n",
            "[307]\tvalid_0's auc: 1\tvalid_0's l2: 0.0375589\tvalid_0's l1: 0.129478\n",
            "[308]\tvalid_0's auc: 1\tvalid_0's l2: 0.0374434\tvalid_0's l1: 0.12924\n",
            "[309]\tvalid_0's auc: 1\tvalid_0's l2: 0.0373298\tvalid_0's l1: 0.129004\n",
            "[310]\tvalid_0's auc: 1\tvalid_0's l2: 0.0372145\tvalid_0's l1: 0.128763\n",
            "[311]\tvalid_0's auc: 1\tvalid_0's l2: 0.0371196\tvalid_0's l1: 0.128546\n",
            "[312]\tvalid_0's auc: 1\tvalid_0's l2: 0.0370249\tvalid_0's l1: 0.128332\n",
            "[313]\tvalid_0's auc: 1\tvalid_0's l2: 0.0369271\tvalid_0's l1: 0.128113\n",
            "[314]\tvalid_0's auc: 1\tvalid_0's l2: 0.0368356\tvalid_0's l1: 0.127906\n",
            "[315]\tvalid_0's auc: 1\tvalid_0's l2: 0.0367431\tvalid_0's l1: 0.127697\n",
            "[316]\tvalid_0's auc: 1\tvalid_0's l2: 0.0366439\tvalid_0's l1: 0.127474\n",
            "[317]\tvalid_0's auc: 1\tvalid_0's l2: 0.0365447\tvalid_0's l1: 0.127264\n",
            "[318]\tvalid_0's auc: 1\tvalid_0's l2: 0.0364543\tvalid_0's l1: 0.127065\n",
            "[319]\tvalid_0's auc: 1\tvalid_0's l2: 0.0363552\tvalid_0's l1: 0.126854\n",
            "[320]\tvalid_0's auc: 1\tvalid_0's l2: 0.0362661\tvalid_0's l1: 0.126659\n",
            "[321]\tvalid_0's auc: 1\tvalid_0's l2: 0.0361816\tvalid_0's l1: 0.126488\n",
            "[322]\tvalid_0's auc: 1\tvalid_0's l2: 0.0360945\tvalid_0's l1: 0.126307\n",
            "[323]\tvalid_0's auc: 1\tvalid_0's l2: 0.0360107\tvalid_0's l1: 0.126135\n",
            "[324]\tvalid_0's auc: 1\tvalid_0's l2: 0.0359215\tvalid_0's l1: 0.12594\n",
            "[325]\tvalid_0's auc: 1\tvalid_0's l2: 0.0358369\tvalid_0's l1: 0.125766\n",
            "[326]\tvalid_0's auc: 1\tvalid_0's l2: 0.0357493\tvalid_0's l1: 0.125579\n",
            "[327]\tvalid_0's auc: 1\tvalid_0's l2: 0.035673\tvalid_0's l1: 0.125414\n",
            "[328]\tvalid_0's auc: 1\tvalid_0's l2: 0.0355862\tvalid_0's l1: 0.12523\n",
            "[329]\tvalid_0's auc: 1\tvalid_0's l2: 0.0355081\tvalid_0's l1: 0.125083\n",
            "[330]\tvalid_0's auc: 1\tvalid_0's l2: 0.0354172\tvalid_0's l1: 0.124883\n",
            "[331]\tvalid_0's auc: 1\tvalid_0's l2: 0.0353244\tvalid_0's l1: 0.124677\n",
            "[332]\tvalid_0's auc: 1\tvalid_0's l2: 0.0352325\tvalid_0's l1: 0.124473\n",
            "[333]\tvalid_0's auc: 1\tvalid_0's l2: 0.0351594\tvalid_0's l1: 0.124318\n",
            "[334]\tvalid_0's auc: 1\tvalid_0's l2: 0.035069\tvalid_0's l1: 0.124119\n",
            "[335]\tvalid_0's auc: 1\tvalid_0's l2: 0.0349794\tvalid_0's l1: 0.123924\n",
            "[336]\tvalid_0's auc: 1\tvalid_0's l2: 0.034891\tvalid_0's l1: 0.123698\n",
            "[337]\tvalid_0's auc: 1\tvalid_0's l2: 0.034803\tvalid_0's l1: 0.123505\n",
            "[338]\tvalid_0's auc: 1\tvalid_0's l2: 0.0347174\tvalid_0's l1: 0.123318\n",
            "[339]\tvalid_0's auc: 1\tvalid_0's l2: 0.0346324\tvalid_0's l1: 0.123136\n",
            "[340]\tvalid_0's auc: 1\tvalid_0's l2: 0.0345469\tvalid_0's l1: 0.122955\n",
            "[341]\tvalid_0's auc: 1\tvalid_0's l2: 0.0344551\tvalid_0's l1: 0.122761\n",
            "[342]\tvalid_0's auc: 1\tvalid_0's l2: 0.0343649\tvalid_0's l1: 0.12257\n",
            "[343]\tvalid_0's auc: 1\tvalid_0's l2: 0.0342665\tvalid_0's l1: 0.122363\n",
            "[344]\tvalid_0's auc: 1\tvalid_0's l2: 0.0341745\tvalid_0's l1: 0.122162\n",
            "[345]\tvalid_0's auc: 1\tvalid_0's l2: 0.0340894\tvalid_0's l1: 0.121976\n",
            "[346]\tvalid_0's auc: 1\tvalid_0's l2: 0.0339937\tvalid_0's l1: 0.121779\n",
            "[347]\tvalid_0's auc: 1\tvalid_0's l2: 0.0339069\tvalid_0's l1: 0.121592\n",
            "[348]\tvalid_0's auc: 1\tvalid_0's l2: 0.0338171\tvalid_0's l1: 0.121415\n",
            "[349]\tvalid_0's auc: 1\tvalid_0's l2: 0.0337315\tvalid_0's l1: 0.121224\n",
            "[350]\tvalid_0's auc: 1\tvalid_0's l2: 0.0336427\tvalid_0's l1: 0.121034\n",
            "[351]\tvalid_0's auc: 1\tvalid_0's l2: 0.0335678\tvalid_0's l1: 0.120873\n",
            "[352]\tvalid_0's auc: 1\tvalid_0's l2: 0.0334967\tvalid_0's l1: 0.120722\n",
            "[353]\tvalid_0's auc: 1\tvalid_0's l2: 0.0334235\tvalid_0's l1: 0.120563\n",
            "[354]\tvalid_0's auc: 1\tvalid_0's l2: 0.0333551\tvalid_0's l1: 0.120421\n",
            "[355]\tvalid_0's auc: 1\tvalid_0's l2: 0.0332833\tvalid_0's l1: 0.120264\n",
            "[356]\tvalid_0's auc: 1\tvalid_0's l2: 0.0332163\tvalid_0's l1: 0.120126\n",
            "[357]\tvalid_0's auc: 1\tvalid_0's l2: 0.0331459\tvalid_0's l1: 0.119971\n",
            "[358]\tvalid_0's auc: 1\tvalid_0's l2: 0.0330818\tvalid_0's l1: 0.119839\n",
            "[359]\tvalid_0's auc: 1\tvalid_0's l2: 0.0330141\tvalid_0's l1: 0.1197\n",
            "[360]\tvalid_0's auc: 1\tvalid_0's l2: 0.0329457\tvalid_0's l1: 0.119551\n",
            "[361]\tvalid_0's auc: 1\tvalid_0's l2: 0.0328712\tvalid_0's l1: 0.119395\n",
            "[362]\tvalid_0's auc: 1\tvalid_0's l2: 0.0328041\tvalid_0's l1: 0.119257\n",
            "[363]\tvalid_0's auc: 1\tvalid_0's l2: 0.0327342\tvalid_0's l1: 0.119109\n",
            "[364]\tvalid_0's auc: 1\tvalid_0's l2: 0.0326635\tvalid_0's l1: 0.118961\n",
            "[365]\tvalid_0's auc: 1\tvalid_0's l2: 0.0325914\tvalid_0's l1: 0.118814\n",
            "[366]\tvalid_0's auc: 1\tvalid_0's l2: 0.0325243\tvalid_0's l1: 0.118676\n",
            "[367]\tvalid_0's auc: 1\tvalid_0's l2: 0.0324538\tvalid_0's l1: 0.118533\n",
            "[368]\tvalid_0's auc: 1\tvalid_0's l2: 0.0323852\tvalid_0's l1: 0.118388\n",
            "[369]\tvalid_0's auc: 1\tvalid_0's l2: 0.0323142\tvalid_0's l1: 0.11823\n",
            "[370]\tvalid_0's auc: 1\tvalid_0's l2: 0.0322451\tvalid_0's l1: 0.118094\n",
            "[371]\tvalid_0's auc: 1\tvalid_0's l2: 0.0321807\tvalid_0's l1: 0.117969\n",
            "[372]\tvalid_0's auc: 1\tvalid_0's l2: 0.0321154\tvalid_0's l1: 0.117836\n",
            "[373]\tvalid_0's auc: 1\tvalid_0's l2: 0.0320503\tvalid_0's l1: 0.11771\n",
            "[374]\tvalid_0's auc: 1\tvalid_0's l2: 0.0319815\tvalid_0's l1: 0.117557\n",
            "[375]\tvalid_0's auc: 1\tvalid_0's l2: 0.0319181\tvalid_0's l1: 0.117426\n",
            "[376]\tvalid_0's auc: 1\tvalid_0's l2: 0.03185\tvalid_0's l1: 0.117271\n",
            "[377]\tvalid_0's auc: 1\tvalid_0's l2: 0.0317802\tvalid_0's l1: 0.117113\n",
            "[378]\tvalid_0's auc: 1\tvalid_0's l2: 0.0317139\tvalid_0's l1: 0.116966\n",
            "[379]\tvalid_0's auc: 1\tvalid_0's l2: 0.0316496\tvalid_0's l1: 0.116841\n",
            "[380]\tvalid_0's auc: 1\tvalid_0's l2: 0.0315849\tvalid_0's l1: 0.11669\n",
            "[381]\tvalid_0's auc: 1\tvalid_0's l2: 0.0315182\tvalid_0's l1: 0.116533\n",
            "[382]\tvalid_0's auc: 1\tvalid_0's l2: 0.0314509\tvalid_0's l1: 0.116395\n",
            "[383]\tvalid_0's auc: 1\tvalid_0's l2: 0.0313951\tvalid_0's l1: 0.116285\n",
            "[384]\tvalid_0's auc: 1\tvalid_0's l2: 0.0313384\tvalid_0's l1: 0.116181\n",
            "[385]\tvalid_0's auc: 1\tvalid_0's l2: 0.0312825\tvalid_0's l1: 0.11608\n",
            "[386]\tvalid_0's auc: 1\tvalid_0's l2: 0.0312186\tvalid_0's l1: 0.115933\n",
            "[387]\tvalid_0's auc: 1\tvalid_0's l2: 0.0311553\tvalid_0's l1: 0.115785\n",
            "[388]\tvalid_0's auc: 1\tvalid_0's l2: 0.031091\tvalid_0's l1: 0.115657\n",
            "[389]\tvalid_0's auc: 1\tvalid_0's l2: 0.0310366\tvalid_0's l1: 0.115556\n",
            "[390]\tvalid_0's auc: 1\tvalid_0's l2: 0.0309808\tvalid_0's l1: 0.115452\n",
            "[391]\tvalid_0's auc: 1\tvalid_0's l2: 0.0309249\tvalid_0's l1: 0.115314\n",
            "[392]\tvalid_0's auc: 1\tvalid_0's l2: 0.0308636\tvalid_0's l1: 0.115175\n",
            "[393]\tvalid_0's auc: 1\tvalid_0's l2: 0.0308034\tvalid_0's l1: 0.115043\n",
            "[394]\tvalid_0's auc: 1\tvalid_0's l2: 0.0307441\tvalid_0's l1: 0.114907\n",
            "[395]\tvalid_0's auc: 1\tvalid_0's l2: 0.0306834\tvalid_0's l1: 0.114764\n",
            "[396]\tvalid_0's auc: 1\tvalid_0's l2: 0.0306286\tvalid_0's l1: 0.114625\n",
            "[397]\tvalid_0's auc: 1\tvalid_0's l2: 0.0305695\tvalid_0's l1: 0.114494\n",
            "[398]\tvalid_0's auc: 1\tvalid_0's l2: 0.0305118\tvalid_0's l1: 0.11437\n",
            "[399]\tvalid_0's auc: 1\tvalid_0's l2: 0.0304557\tvalid_0's l1: 0.114243\n",
            "[400]\tvalid_0's auc: 1\tvalid_0's l2: 0.0303959\tvalid_0's l1: 0.114099\n",
            "[401]\tvalid_0's auc: 1\tvalid_0's l2: 0.03034\tvalid_0's l1: 0.113995\n",
            "[402]\tvalid_0's auc: 1\tvalid_0's l2: 0.0302849\tvalid_0's l1: 0.113893\n",
            "[403]\tvalid_0's auc: 1\tvalid_0's l2: 0.0302398\tvalid_0's l1: 0.113792\n",
            "[404]\tvalid_0's auc: 1\tvalid_0's l2: 0.0301957\tvalid_0's l1: 0.113694\n",
            "[405]\tvalid_0's auc: 1\tvalid_0's l2: 0.0301419\tvalid_0's l1: 0.113593\n",
            "[406]\tvalid_0's auc: 1\tvalid_0's l2: 0.0300926\tvalid_0's l1: 0.113476\n",
            "[407]\tvalid_0's auc: 1\tvalid_0's l2: 0.0300397\tvalid_0's l1: 0.11338\n",
            "[408]\tvalid_0's auc: 1\tvalid_0's l2: 0.0299872\tvalid_0's l1: 0.113285\n",
            "[409]\tvalid_0's auc: 1\tvalid_0's l2: 0.0299397\tvalid_0's l1: 0.113176\n",
            "[410]\tvalid_0's auc: 1\tvalid_0's l2: 0.0298918\tvalid_0's l1: 0.11309\n",
            "[411]\tvalid_0's auc: 1\tvalid_0's l2: 0.0298402\tvalid_0's l1: 0.112973\n",
            "[412]\tvalid_0's auc: 1\tvalid_0's l2: 0.0297907\tvalid_0's l1: 0.112862\n",
            "[413]\tvalid_0's auc: 1\tvalid_0's l2: 0.0297395\tvalid_0's l1: 0.112756\n",
            "[414]\tvalid_0's auc: 1\tvalid_0's l2: 0.0296898\tvalid_0's l1: 0.112637\n",
            "[415]\tvalid_0's auc: 1\tvalid_0's l2: 0.0296403\tvalid_0's l1: 0.112521\n",
            "[416]\tvalid_0's auc: 1\tvalid_0's l2: 0.029592\tvalid_0's l1: 0.112409\n",
            "[417]\tvalid_0's auc: 1\tvalid_0's l2: 0.0295455\tvalid_0's l1: 0.112298\n",
            "[418]\tvalid_0's auc: 1\tvalid_0's l2: 0.029495\tvalid_0's l1: 0.112179\n",
            "[419]\tvalid_0's auc: 1\tvalid_0's l2: 0.0294495\tvalid_0's l1: 0.112072\n",
            "[420]\tvalid_0's auc: 1\tvalid_0's l2: 0.029401\tvalid_0's l1: 0.111952\n",
            "[421]\tvalid_0's auc: 1\tvalid_0's l2: 0.0293664\tvalid_0's l1: 0.111861\n",
            "[422]\tvalid_0's auc: 1\tvalid_0's l2: 0.0293319\tvalid_0's l1: 0.111768\n",
            "[423]\tvalid_0's auc: 1\tvalid_0's l2: 0.0292981\tvalid_0's l1: 0.111679\n",
            "[424]\tvalid_0's auc: 1\tvalid_0's l2: 0.0292595\tvalid_0's l1: 0.111582\n",
            "[425]\tvalid_0's auc: 1\tvalid_0's l2: 0.0292241\tvalid_0's l1: 0.111488\n",
            "[426]\tvalid_0's auc: 1\tvalid_0's l2: 0.0291865\tvalid_0's l1: 0.111393\n",
            "[427]\tvalid_0's auc: 1\tvalid_0's l2: 0.0291404\tvalid_0's l1: 0.111298\n",
            "[428]\tvalid_0's auc: 1\tvalid_0's l2: 0.0291006\tvalid_0's l1: 0.11123\n",
            "[429]\tvalid_0's auc: 1\tvalid_0's l2: 0.0290557\tvalid_0's l1: 0.111144\n",
            "[430]\tvalid_0's auc: 1\tvalid_0's l2: 0.0290102\tvalid_0's l1: 0.111059\n",
            "[431]\tvalid_0's auc: 1\tvalid_0's l2: 0.0289573\tvalid_0's l1: 0.110937\n",
            "[432]\tvalid_0's auc: 1\tvalid_0's l2: 0.0289081\tvalid_0's l1: 0.110835\n",
            "[433]\tvalid_0's auc: 1\tvalid_0's l2: 0.0288578\tvalid_0's l1: 0.110715\n",
            "[434]\tvalid_0's auc: 1\tvalid_0's l2: 0.0288033\tvalid_0's l1: 0.110592\n",
            "[435]\tvalid_0's auc: 1\tvalid_0's l2: 0.0287509\tvalid_0's l1: 0.110472\n",
            "[436]\tvalid_0's auc: 1\tvalid_0's l2: 0.0287027\tvalid_0's l1: 0.110362\n",
            "[437]\tvalid_0's auc: 1\tvalid_0's l2: 0.0286512\tvalid_0's l1: 0.110248\n",
            "[438]\tvalid_0's auc: 1\tvalid_0's l2: 0.0286033\tvalid_0's l1: 0.11013\n",
            "[439]\tvalid_0's auc: 1\tvalid_0's l2: 0.0285534\tvalid_0's l1: 0.110019\n",
            "[440]\tvalid_0's auc: 1\tvalid_0's l2: 0.0285067\tvalid_0's l1: 0.109922\n",
            "[441]\tvalid_0's auc: 1\tvalid_0's l2: 0.0284662\tvalid_0's l1: 0.109833\n",
            "[442]\tvalid_0's auc: 1\tvalid_0's l2: 0.0284255\tvalid_0's l1: 0.109745\n",
            "[443]\tvalid_0's auc: 1\tvalid_0's l2: 0.0283858\tvalid_0's l1: 0.109659\n",
            "[444]\tvalid_0's auc: 1\tvalid_0's l2: 0.028348\tvalid_0's l1: 0.109578\n",
            "[445]\tvalid_0's auc: 1\tvalid_0's l2: 0.0283085\tvalid_0's l1: 0.109496\n",
            "[446]\tvalid_0's auc: 1\tvalid_0's l2: 0.0282679\tvalid_0's l1: 0.109412\n",
            "[447]\tvalid_0's auc: 1\tvalid_0's l2: 0.0282264\tvalid_0's l1: 0.109325\n",
            "[448]\tvalid_0's auc: 1\tvalid_0's l2: 0.0281811\tvalid_0's l1: 0.10923\n",
            "[449]\tvalid_0's auc: 1\tvalid_0's l2: 0.0281439\tvalid_0's l1: 0.109154\n",
            "[450]\tvalid_0's auc: 1\tvalid_0's l2: 0.0281063\tvalid_0's l1: 0.109077\n",
            "[451]\tvalid_0's auc: 1\tvalid_0's l2: 0.0280755\tvalid_0's l1: 0.109014\n",
            "[452]\tvalid_0's auc: 1\tvalid_0's l2: 0.0280424\tvalid_0's l1: 0.108941\n",
            "[453]\tvalid_0's auc: 1\tvalid_0's l2: 0.0280104\tvalid_0's l1: 0.108877\n",
            "[454]\tvalid_0's auc: 1\tvalid_0's l2: 0.0279729\tvalid_0's l1: 0.108804\n",
            "[455]\tvalid_0's auc: 1\tvalid_0's l2: 0.0279405\tvalid_0's l1: 0.108736\n",
            "[456]\tvalid_0's auc: 1\tvalid_0's l2: 0.027905\tvalid_0's l1: 0.10866\n",
            "[457]\tvalid_0's auc: 1\tvalid_0's l2: 0.0278697\tvalid_0's l1: 0.108585\n",
            "[458]\tvalid_0's auc: 1\tvalid_0's l2: 0.0278399\tvalid_0's l1: 0.108524\n",
            "[459]\tvalid_0's auc: 1\tvalid_0's l2: 0.027808\tvalid_0's l1: 0.108453\n",
            "[460]\tvalid_0's auc: 1\tvalid_0's l2: 0.0277741\tvalid_0's l1: 0.108378\n",
            "[461]\tvalid_0's auc: 1\tvalid_0's l2: 0.0277372\tvalid_0's l1: 0.108323\n",
            "[462]\tvalid_0's auc: 1\tvalid_0's l2: 0.0277024\tvalid_0's l1: 0.108276\n",
            "[463]\tvalid_0's auc: 1\tvalid_0's l2: 0.0276682\tvalid_0's l1: 0.108228\n",
            "[464]\tvalid_0's auc: 1\tvalid_0's l2: 0.027615\tvalid_0's l1: 0.108094\n",
            "[465]\tvalid_0's auc: 1\tvalid_0's l2: 0.0275851\tvalid_0's l1: 0.108051\n",
            "[466]\tvalid_0's auc: 1\tvalid_0's l2: 0.0275543\tvalid_0's l1: 0.108012\n",
            "[467]\tvalid_0's auc: 1\tvalid_0's l2: 0.0275252\tvalid_0's l1: 0.107981\n",
            "[468]\tvalid_0's auc: 1\tvalid_0's l2: 0.0274974\tvalid_0's l1: 0.107952\n",
            "[469]\tvalid_0's auc: 1\tvalid_0's l2: 0.0274661\tvalid_0's l1: 0.107893\n",
            "[470]\tvalid_0's auc: 1\tvalid_0's l2: 0.0274256\tvalid_0's l1: 0.107817\n",
            "[471]\tvalid_0's auc: 1\tvalid_0's l2: 0.0273941\tvalid_0's l1: 0.107758\n",
            "[472]\tvalid_0's auc: 1\tvalid_0's l2: 0.0273621\tvalid_0's l1: 0.107695\n",
            "[473]\tvalid_0's auc: 1\tvalid_0's l2: 0.0273311\tvalid_0's l1: 0.107636\n",
            "[474]\tvalid_0's auc: 1\tvalid_0's l2: 0.0273025\tvalid_0's l1: 0.107595\n",
            "[475]\tvalid_0's auc: 1\tvalid_0's l2: 0.0272689\tvalid_0's l1: 0.10752\n",
            "[476]\tvalid_0's auc: 1\tvalid_0's l2: 0.0272406\tvalid_0's l1: 0.107471\n",
            "[477]\tvalid_0's auc: 1\tvalid_0's l2: 0.0272126\tvalid_0's l1: 0.107432\n",
            "[478]\tvalid_0's auc: 1\tvalid_0's l2: 0.0271828\tvalid_0's l1: 0.107375\n",
            "[479]\tvalid_0's auc: 1\tvalid_0's l2: 0.0271552\tvalid_0's l1: 0.107331\n",
            "[480]\tvalid_0's auc: 1\tvalid_0's l2: 0.0271237\tvalid_0's l1: 0.107273\n",
            "[481]\tvalid_0's auc: 1\tvalid_0's l2: 0.0270923\tvalid_0's l1: 0.107197\n",
            "[482]\tvalid_0's auc: 1\tvalid_0's l2: 0.0270612\tvalid_0's l1: 0.107113\n",
            "[483]\tvalid_0's auc: 1\tvalid_0's l2: 0.0270269\tvalid_0's l1: 0.107036\n",
            "[484]\tvalid_0's auc: 1\tvalid_0's l2: 0.026996\tvalid_0's l1: 0.106953\n",
            "[485]\tvalid_0's auc: 1\tvalid_0's l2: 0.0269677\tvalid_0's l1: 0.106911\n",
            "[486]\tvalid_0's auc: 1\tvalid_0's l2: 0.0269364\tvalid_0's l1: 0.106843\n",
            "[487]\tvalid_0's auc: 1\tvalid_0's l2: 0.0269059\tvalid_0's l1: 0.106762\n",
            "[488]\tvalid_0's auc: 1\tvalid_0's l2: 0.0268764\tvalid_0's l1: 0.106685\n",
            "[489]\tvalid_0's auc: 1\tvalid_0's l2: 0.0268496\tvalid_0's l1: 0.106628\n",
            "[490]\tvalid_0's auc: 1\tvalid_0's l2: 0.0268172\tvalid_0's l1: 0.106544\n",
            "[491]\tvalid_0's auc: 1\tvalid_0's l2: 0.0267895\tvalid_0's l1: 0.106508\n",
            "[492]\tvalid_0's auc: 1\tvalid_0's l2: 0.0267663\tvalid_0's l1: 0.10648\n",
            "[493]\tvalid_0's auc: 1\tvalid_0's l2: 0.0267388\tvalid_0's l1: 0.106441\n",
            "[494]\tvalid_0's auc: 1\tvalid_0's l2: 0.0267117\tvalid_0's l1: 0.106398\n",
            "[495]\tvalid_0's auc: 1\tvalid_0's l2: 0.0266833\tvalid_0's l1: 0.106347\n",
            "[496]\tvalid_0's auc: 1\tvalid_0's l2: 0.0266566\tvalid_0's l1: 0.106304\n",
            "[497]\tvalid_0's auc: 1\tvalid_0's l2: 0.0266287\tvalid_0's l1: 0.106259\n",
            "[498]\tvalid_0's auc: 1\tvalid_0's l2: 0.026602\tvalid_0's l1: 0.106224\n",
            "[499]\tvalid_0's auc: 1\tvalid_0's l2: 0.0265752\tvalid_0's l1: 0.106181\n",
            "[500]\tvalid_0's auc: 1\tvalid_0's l2: 0.0265483\tvalid_0's l1: 0.106143\n",
            "[501]\tvalid_0's auc: 1\tvalid_0's l2: 0.0265222\tvalid_0's l1: 0.106092\n",
            "[502]\tvalid_0's auc: 1\tvalid_0's l2: 0.0264942\tvalid_0's l1: 0.106032\n",
            "[503]\tvalid_0's auc: 1\tvalid_0's l2: 0.0264749\tvalid_0's l1: 0.105999\n",
            "[504]\tvalid_0's auc: 1\tvalid_0's l2: 0.0264497\tvalid_0's l1: 0.105951\n",
            "[505]\tvalid_0's auc: 1\tvalid_0's l2: 0.0264297\tvalid_0's l1: 0.105905\n",
            "[506]\tvalid_0's auc: 1\tvalid_0's l2: 0.0264054\tvalid_0's l1: 0.105858\n",
            "[507]\tvalid_0's auc: 1\tvalid_0's l2: 0.0263789\tvalid_0's l1: 0.105804\n",
            "[508]\tvalid_0's auc: 1\tvalid_0's l2: 0.0263489\tvalid_0's l1: 0.105739\n",
            "[509]\tvalid_0's auc: 1\tvalid_0's l2: 0.0263306\tvalid_0's l1: 0.105708\n",
            "[510]\tvalid_0's auc: 1\tvalid_0's l2: 0.0263046\tvalid_0's l1: 0.105656\n",
            "[511]\tvalid_0's auc: 1\tvalid_0's l2: 0.0262815\tvalid_0's l1: 0.105625\n",
            "[512]\tvalid_0's auc: 1\tvalid_0's l2: 0.0262549\tvalid_0's l1: 0.105582\n",
            "[513]\tvalid_0's auc: 1\tvalid_0's l2: 0.0262324\tvalid_0's l1: 0.105552\n",
            "[514]\tvalid_0's auc: 1\tvalid_0's l2: 0.026208\tvalid_0's l1: 0.105518\n",
            "[515]\tvalid_0's auc: 1\tvalid_0's l2: 0.0261858\tvalid_0's l1: 0.105491\n",
            "[516]\tvalid_0's auc: 1\tvalid_0's l2: 0.0261599\tvalid_0's l1: 0.10545\n",
            "[517]\tvalid_0's auc: 1\tvalid_0's l2: 0.0261316\tvalid_0's l1: 0.105393\n",
            "[518]\tvalid_0's auc: 1\tvalid_0's l2: 0.0261025\tvalid_0's l1: 0.10534\n",
            "[519]\tvalid_0's auc: 1\tvalid_0's l2: 0.0260682\tvalid_0's l1: 0.10526\n",
            "[520]\tvalid_0's auc: 1\tvalid_0's l2: 0.02604\tvalid_0's l1: 0.105208\n",
            "[521]\tvalid_0's auc: 1\tvalid_0's l2: 0.0260209\tvalid_0's l1: 0.10518\n",
            "[522]\tvalid_0's auc: 1\tvalid_0's l2: 0.0260007\tvalid_0's l1: 0.105147\n",
            "[523]\tvalid_0's auc: 1\tvalid_0's l2: 0.025985\tvalid_0's l1: 0.105123\n",
            "[524]\tvalid_0's auc: 1\tvalid_0's l2: 0.0259668\tvalid_0's l1: 0.105103\n",
            "[525]\tvalid_0's auc: 1\tvalid_0's l2: 0.0259511\tvalid_0's l1: 0.105079\n",
            "[526]\tvalid_0's auc: 1\tvalid_0's l2: 0.0259289\tvalid_0's l1: 0.105031\n",
            "[527]\tvalid_0's auc: 1\tvalid_0's l2: 0.0259069\tvalid_0's l1: 0.104979\n",
            "[528]\tvalid_0's auc: 1\tvalid_0's l2: 0.0258828\tvalid_0's l1: 0.104925\n",
            "[529]\tvalid_0's auc: 1\tvalid_0's l2: 0.0258611\tvalid_0's l1: 0.104882\n",
            "[530]\tvalid_0's auc: 1\tvalid_0's l2: 0.0258435\tvalid_0's l1: 0.104843\n",
            "[531]\tvalid_0's auc: 1\tvalid_0's l2: 0.0258172\tvalid_0's l1: 0.104795\n",
            "[532]\tvalid_0's auc: 1\tvalid_0's l2: 0.0257893\tvalid_0's l1: 0.104745\n",
            "[533]\tvalid_0's auc: 1\tvalid_0's l2: 0.0257616\tvalid_0's l1: 0.104698\n",
            "[534]\tvalid_0's auc: 1\tvalid_0's l2: 0.0257336\tvalid_0's l1: 0.10465\n",
            "[535]\tvalid_0's auc: 1\tvalid_0's l2: 0.0257065\tvalid_0's l1: 0.104607\n",
            "[536]\tvalid_0's auc: 1\tvalid_0's l2: 0.0256782\tvalid_0's l1: 0.104558\n",
            "[537]\tvalid_0's auc: 1\tvalid_0's l2: 0.0256501\tvalid_0's l1: 0.104509\n",
            "[538]\tvalid_0's auc: 1\tvalid_0's l2: 0.0256307\tvalid_0's l1: 0.104467\n",
            "[539]\tvalid_0's auc: 1\tvalid_0's l2: 0.0256045\tvalid_0's l1: 0.104422\n",
            "[540]\tvalid_0's auc: 1\tvalid_0's l2: 0.0255794\tvalid_0's l1: 0.104376\n",
            "[541]\tvalid_0's auc: 1\tvalid_0's l2: 0.0255646\tvalid_0's l1: 0.104361\n",
            "[542]\tvalid_0's auc: 1\tvalid_0's l2: 0.0255496\tvalid_0's l1: 0.104346\n",
            "[543]\tvalid_0's auc: 1\tvalid_0's l2: 0.0255351\tvalid_0's l1: 0.104331\n",
            "[544]\tvalid_0's auc: 1\tvalid_0's l2: 0.0255223\tvalid_0's l1: 0.104326\n",
            "[545]\tvalid_0's auc: 1\tvalid_0's l2: 0.0255054\tvalid_0's l1: 0.104309\n",
            "[546]\tvalid_0's auc: 1\tvalid_0's l2: 0.0254914\tvalid_0's l1: 0.104302\n",
            "[547]\tvalid_0's auc: 1\tvalid_0's l2: 0.0254779\tvalid_0's l1: 0.104301\n",
            "[548]\tvalid_0's auc: 1\tvalid_0's l2: 0.0254644\tvalid_0's l1: 0.104287\n",
            "[549]\tvalid_0's auc: 1\tvalid_0's l2: 0.0254523\tvalid_0's l1: 0.104287\n",
            "[550]\tvalid_0's auc: 1\tvalid_0's l2: 0.025439\tvalid_0's l1: 0.104283\n",
            "[551]\tvalid_0's auc: 1\tvalid_0's l2: 0.0254174\tvalid_0's l1: 0.104237\n",
            "[552]\tvalid_0's auc: 1\tvalid_0's l2: 0.0253969\tvalid_0's l1: 0.104194\n",
            "[553]\tvalid_0's auc: 1\tvalid_0's l2: 0.0253762\tvalid_0's l1: 0.104151\n",
            "[554]\tvalid_0's auc: 1\tvalid_0's l2: 0.0253567\tvalid_0's l1: 0.104111\n",
            "[555]\tvalid_0's auc: 1\tvalid_0's l2: 0.0253364\tvalid_0's l1: 0.104067\n",
            "[556]\tvalid_0's auc: 1\tvalid_0's l2: 0.0253139\tvalid_0's l1: 0.104014\n",
            "[557]\tvalid_0's auc: 1\tvalid_0's l2: 0.025294\tvalid_0's l1: 0.103973\n",
            "[558]\tvalid_0's auc: 1\tvalid_0's l2: 0.0252749\tvalid_0's l1: 0.103933\n",
            "[559]\tvalid_0's auc: 1\tvalid_0's l2: 0.0252489\tvalid_0's l1: 0.103872\n",
            "[560]\tvalid_0's auc: 1\tvalid_0's l2: 0.0252302\tvalid_0's l1: 0.103836\n",
            "[561]\tvalid_0's auc: 1\tvalid_0's l2: 0.0252078\tvalid_0's l1: 0.103794\n",
            "[562]\tvalid_0's auc: 1\tvalid_0's l2: 0.0251874\tvalid_0's l1: 0.103736\n",
            "[563]\tvalid_0's auc: 1\tvalid_0's l2: 0.0251655\tvalid_0's l1: 0.103695\n",
            "[564]\tvalid_0's auc: 1\tvalid_0's l2: 0.0251461\tvalid_0's l1: 0.103661\n",
            "[565]\tvalid_0's auc: 1\tvalid_0's l2: 0.0251237\tvalid_0's l1: 0.103619\n",
            "[566]\tvalid_0's auc: 1\tvalid_0's l2: 0.0251029\tvalid_0's l1: 0.103575\n",
            "[567]\tvalid_0's auc: 1\tvalid_0's l2: 0.0250835\tvalid_0's l1: 0.103531\n",
            "[568]\tvalid_0's auc: 1\tvalid_0's l2: 0.025063\tvalid_0's l1: 0.103475\n",
            "[569]\tvalid_0's auc: 1\tvalid_0's l2: 0.0250431\tvalid_0's l1: 0.103436\n",
            "[570]\tvalid_0's auc: 1\tvalid_0's l2: 0.0250256\tvalid_0's l1: 0.103395\n",
            "[571]\tvalid_0's auc: 1\tvalid_0's l2: 0.0250047\tvalid_0's l1: 0.10333\n",
            "[572]\tvalid_0's auc: 1\tvalid_0's l2: 0.0249859\tvalid_0's l1: 0.103269\n",
            "[573]\tvalid_0's auc: 1\tvalid_0's l2: 0.0249658\tvalid_0's l1: 0.103221\n",
            "[574]\tvalid_0's auc: 1\tvalid_0's l2: 0.0249479\tvalid_0's l1: 0.103165\n",
            "[575]\tvalid_0's auc: 1\tvalid_0's l2: 0.0249272\tvalid_0's l1: 0.103115\n",
            "[576]\tvalid_0's auc: 1\tvalid_0's l2: 0.0249065\tvalid_0's l1: 0.103065\n",
            "[577]\tvalid_0's auc: 1\tvalid_0's l2: 0.0248869\tvalid_0's l1: 0.103005\n",
            "[578]\tvalid_0's auc: 1\tvalid_0's l2: 0.0248686\tvalid_0's l1: 0.102957\n",
            "[579]\tvalid_0's auc: 1\tvalid_0's l2: 0.0248512\tvalid_0's l1: 0.1029\n",
            "[580]\tvalid_0's auc: 1\tvalid_0's l2: 0.024832\tvalid_0's l1: 0.102833\n",
            "[581]\tvalid_0's auc: 1\tvalid_0's l2: 0.0248123\tvalid_0's l1: 0.102784\n",
            "[582]\tvalid_0's auc: 1\tvalid_0's l2: 0.0247909\tvalid_0's l1: 0.102732\n",
            "[583]\tvalid_0's auc: 1\tvalid_0's l2: 0.024768\tvalid_0's l1: 0.102678\n",
            "[584]\tvalid_0's auc: 1\tvalid_0's l2: 0.0247479\tvalid_0's l1: 0.102628\n",
            "[585]\tvalid_0's auc: 1\tvalid_0's l2: 0.0247279\tvalid_0's l1: 0.10258\n",
            "[586]\tvalid_0's auc: 1\tvalid_0's l2: 0.024706\tvalid_0's l1: 0.102525\n",
            "[587]\tvalid_0's auc: 1\tvalid_0's l2: 0.0246865\tvalid_0's l1: 0.102476\n",
            "[588]\tvalid_0's auc: 1\tvalid_0's l2: 0.0246647\tvalid_0's l1: 0.102425\n",
            "[589]\tvalid_0's auc: 1\tvalid_0's l2: 0.0246473\tvalid_0's l1: 0.102403\n",
            "[590]\tvalid_0's auc: 1\tvalid_0's l2: 0.0246281\tvalid_0's l1: 0.102359\n",
            "[591]\tvalid_0's auc: 1\tvalid_0's l2: 0.0246131\tvalid_0's l1: 0.10232\n",
            "[592]\tvalid_0's auc: 1\tvalid_0's l2: 0.0245979\tvalid_0's l1: 0.102279\n",
            "[593]\tvalid_0's auc: 1\tvalid_0's l2: 0.0245857\tvalid_0's l1: 0.102253\n",
            "[594]\tvalid_0's auc: 1\tvalid_0's l2: 0.0245709\tvalid_0's l1: 0.102214\n",
            "[595]\tvalid_0's auc: 1\tvalid_0's l2: 0.0245486\tvalid_0's l1: 0.102171\n",
            "[596]\tvalid_0's auc: 1\tvalid_0's l2: 0.0245338\tvalid_0's l1: 0.102133\n",
            "[597]\tvalid_0's auc: 1\tvalid_0's l2: 0.0245119\tvalid_0's l1: 0.102091\n",
            "[598]\tvalid_0's auc: 1\tvalid_0's l2: 0.0244993\tvalid_0's l1: 0.102066\n",
            "[599]\tvalid_0's auc: 1\tvalid_0's l2: 0.0244779\tvalid_0's l1: 0.102026\n",
            "[600]\tvalid_0's auc: 1\tvalid_0's l2: 0.0244667\tvalid_0's l1: 0.102\n",
            "[601]\tvalid_0's auc: 1\tvalid_0's l2: 0.0244538\tvalid_0's l1: 0.101979\n",
            "[602]\tvalid_0's auc: 1\tvalid_0's l2: 0.0244339\tvalid_0's l1: 0.10194\n",
            "[603]\tvalid_0's auc: 1\tvalid_0's l2: 0.0244113\tvalid_0's l1: 0.101892\n",
            "[604]\tvalid_0's auc: 1\tvalid_0's l2: 0.0243951\tvalid_0's l1: 0.101866\n",
            "[605]\tvalid_0's auc: 1\tvalid_0's l2: 0.0243785\tvalid_0's l1: 0.101834\n",
            "[606]\tvalid_0's auc: 1\tvalid_0's l2: 0.0243621\tvalid_0's l1: 0.101802\n",
            "[607]\tvalid_0's auc: 1\tvalid_0's l2: 0.0243466\tvalid_0's l1: 0.101775\n",
            "[608]\tvalid_0's auc: 1\tvalid_0's l2: 0.0243312\tvalid_0's l1: 0.101749\n",
            "[609]\tvalid_0's auc: 1\tvalid_0's l2: 0.0243194\tvalid_0's l1: 0.101726\n",
            "[610]\tvalid_0's auc: 1\tvalid_0's l2: 0.0243083\tvalid_0's l1: 0.101713\n",
            "[611]\tvalid_0's auc: 1\tvalid_0's l2: 0.0242949\tvalid_0's l1: 0.101671\n",
            "[612]\tvalid_0's auc: 1\tvalid_0's l2: 0.0242785\tvalid_0's l1: 0.101632\n",
            "[613]\tvalid_0's auc: 1\tvalid_0's l2: 0.0242651\tvalid_0's l1: 0.101591\n",
            "[614]\tvalid_0's auc: 1\tvalid_0's l2: 0.0242488\tvalid_0's l1: 0.101549\n",
            "[615]\tvalid_0's auc: 1\tvalid_0's l2: 0.0242329\tvalid_0's l1: 0.101512\n",
            "[616]\tvalid_0's auc: 1\tvalid_0's l2: 0.0242169\tvalid_0's l1: 0.101472\n",
            "[617]\tvalid_0's auc: 1\tvalid_0's l2: 0.0242057\tvalid_0's l1: 0.101447\n",
            "[618]\tvalid_0's auc: 1\tvalid_0's l2: 0.0241939\tvalid_0's l1: 0.101419\n",
            "[619]\tvalid_0's auc: 1\tvalid_0's l2: 0.0241783\tvalid_0's l1: 0.10138\n",
            "[620]\tvalid_0's auc: 1\tvalid_0's l2: 0.0241638\tvalid_0's l1: 0.101342\n",
            "[621]\tvalid_0's auc: 1\tvalid_0's l2: 0.0241497\tvalid_0's l1: 0.101315\n",
            "[622]\tvalid_0's auc: 1\tvalid_0's l2: 0.0241308\tvalid_0's l1: 0.101267\n",
            "[623]\tvalid_0's auc: 1\tvalid_0's l2: 0.0241185\tvalid_0's l1: 0.101246\n",
            "[624]\tvalid_0's auc: 1\tvalid_0's l2: 0.0240998\tvalid_0's l1: 0.101198\n",
            "[625]\tvalid_0's auc: 1\tvalid_0's l2: 0.0240783\tvalid_0's l1: 0.101151\n",
            "[626]\tvalid_0's auc: 1\tvalid_0's l2: 0.024058\tvalid_0's l1: 0.101095\n",
            "[627]\tvalid_0's auc: 1\tvalid_0's l2: 0.0240398\tvalid_0's l1: 0.101051\n",
            "[628]\tvalid_0's auc: 1\tvalid_0's l2: 0.0240208\tvalid_0's l1: 0.101008\n",
            "[629]\tvalid_0's auc: 1\tvalid_0's l2: 0.0239994\tvalid_0's l1: 0.10095\n",
            "[630]\tvalid_0's auc: 1\tvalid_0's l2: 0.0239816\tvalid_0's l1: 0.100908\n",
            "[631]\tvalid_0's auc: 1\tvalid_0's l2: 0.0239703\tvalid_0's l1: 0.100879\n",
            "[632]\tvalid_0's auc: 1\tvalid_0's l2: 0.0239645\tvalid_0's l1: 0.100863\n",
            "[633]\tvalid_0's auc: 1\tvalid_0's l2: 0.0239581\tvalid_0's l1: 0.100842\n",
            "[634]\tvalid_0's auc: 1\tvalid_0's l2: 0.0239477\tvalid_0's l1: 0.100818\n",
            "[635]\tvalid_0's auc: 1\tvalid_0's l2: 0.0239447\tvalid_0's l1: 0.100802\n",
            "[636]\tvalid_0's auc: 1\tvalid_0's l2: 0.0239369\tvalid_0's l1: 0.100774\n",
            "[637]\tvalid_0's auc: 1\tvalid_0's l2: 0.0239292\tvalid_0's l1: 0.100756\n",
            "[638]\tvalid_0's auc: 1\tvalid_0's l2: 0.0239209\tvalid_0's l1: 0.100727\n",
            "[639]\tvalid_0's auc: 1\tvalid_0's l2: 0.0239157\tvalid_0's l1: 0.100711\n",
            "[640]\tvalid_0's auc: 1\tvalid_0's l2: 0.0239072\tvalid_0's l1: 0.100682\n",
            "[641]\tvalid_0's auc: 1\tvalid_0's l2: 0.0238965\tvalid_0's l1: 0.100667\n",
            "[642]\tvalid_0's auc: 1\tvalid_0's l2: 0.0238826\tvalid_0's l1: 0.100642\n",
            "[643]\tvalid_0's auc: 1\tvalid_0's l2: 0.0238703\tvalid_0's l1: 0.100617\n",
            "[644]\tvalid_0's auc: 1\tvalid_0's l2: 0.0238567\tvalid_0's l1: 0.100592\n",
            "[645]\tvalid_0's auc: 1\tvalid_0's l2: 0.0238448\tvalid_0's l1: 0.100567\n",
            "[646]\tvalid_0's auc: 1\tvalid_0's l2: 0.0238343\tvalid_0's l1: 0.100546\n",
            "[647]\tvalid_0's auc: 1\tvalid_0's l2: 0.0238261\tvalid_0's l1: 0.10053\n",
            "[648]\tvalid_0's auc: 1\tvalid_0's l2: 0.0238071\tvalid_0's l1: 0.10049\n",
            "[649]\tvalid_0's auc: 1\tvalid_0's l2: 0.0237956\tvalid_0's l1: 0.100466\n",
            "[650]\tvalid_0's auc: 1\tvalid_0's l2: 0.0237768\tvalid_0's l1: 0.100426\n",
            "[651]\tvalid_0's auc: 1\tvalid_0's l2: 0.0237496\tvalid_0's l1: 0.100379\n",
            "[652]\tvalid_0's auc: 1\tvalid_0's l2: 0.0237285\tvalid_0's l1: 0.100347\n",
            "[653]\tvalid_0's auc: 1\tvalid_0's l2: 0.0237092\tvalid_0's l1: 0.100309\n",
            "[654]\tvalid_0's auc: 1\tvalid_0's l2: 0.0236874\tvalid_0's l1: 0.100268\n",
            "[655]\tvalid_0's auc: 1\tvalid_0's l2: 0.0236649\tvalid_0's l1: 0.100221\n",
            "[656]\tvalid_0's auc: 1\tvalid_0's l2: 0.0236445\tvalid_0's l1: 0.100181\n",
            "[657]\tvalid_0's auc: 1\tvalid_0's l2: 0.0236232\tvalid_0's l1: 0.100147\n",
            "[658]\tvalid_0's auc: 1\tvalid_0's l2: 0.0236006\tvalid_0's l1: 0.100102\n",
            "[659]\tvalid_0's auc: 1\tvalid_0's l2: 0.0235801\tvalid_0's l1: 0.100064\n",
            "[660]\tvalid_0's auc: 1\tvalid_0's l2: 0.0235618\tvalid_0's l1: 0.100023\n",
            "[661]\tvalid_0's auc: 1\tvalid_0's l2: 0.0235473\tvalid_0's l1: 0.100003\n",
            "[662]\tvalid_0's auc: 1\tvalid_0's l2: 0.0235361\tvalid_0's l1: 0.0999912\n",
            "[663]\tvalid_0's auc: 1\tvalid_0's l2: 0.0235219\tvalid_0's l1: 0.0999715\n",
            "[664]\tvalid_0's auc: 1\tvalid_0's l2: 0.0235105\tvalid_0's l1: 0.0999608\n",
            "[665]\tvalid_0's auc: 1\tvalid_0's l2: 0.0235013\tvalid_0's l1: 0.099952\n",
            "[666]\tvalid_0's auc: 1\tvalid_0's l2: 0.0234899\tvalid_0's l1: 0.0999388\n",
            "[667]\tvalid_0's auc: 1\tvalid_0's l2: 0.0234815\tvalid_0's l1: 0.0999329\n",
            "[668]\tvalid_0's auc: 1\tvalid_0's l2: 0.0234705\tvalid_0's l1: 0.0999223\n",
            "[669]\tvalid_0's auc: 1\tvalid_0's l2: 0.0234596\tvalid_0's l1: 0.0999077\n",
            "[670]\tvalid_0's auc: 1\tvalid_0's l2: 0.0234509\tvalid_0's l1: 0.0998992\n",
            "[671]\tvalid_0's auc: 1\tvalid_0's l2: 0.0234328\tvalid_0's l1: 0.0998625\n",
            "[672]\tvalid_0's auc: 1\tvalid_0's l2: 0.0234153\tvalid_0's l1: 0.0998276\n",
            "[673]\tvalid_0's auc: 1\tvalid_0's l2: 0.0234037\tvalid_0's l1: 0.0997994\n",
            "[674]\tvalid_0's auc: 1\tvalid_0's l2: 0.0233859\tvalid_0's l1: 0.0997631\n",
            "[675]\tvalid_0's auc: 1\tvalid_0's l2: 0.0233686\tvalid_0's l1: 0.0997274\n",
            "[676]\tvalid_0's auc: 1\tvalid_0's l2: 0.023357\tvalid_0's l1: 0.0996954\n",
            "[677]\tvalid_0's auc: 1\tvalid_0's l2: 0.0233402\tvalid_0's l1: 0.0996612\n",
            "[678]\tvalid_0's auc: 1\tvalid_0's l2: 0.0233288\tvalid_0's l1: 0.0996295\n",
            "[679]\tvalid_0's auc: 1\tvalid_0's l2: 0.0233112\tvalid_0's l1: 0.0995922\n",
            "[680]\tvalid_0's auc: 1\tvalid_0's l2: 0.0232947\tvalid_0's l1: 0.0995584\n",
            "[681]\tvalid_0's auc: 1\tvalid_0's l2: 0.0232869\tvalid_0's l1: 0.0995376\n",
            "[682]\tvalid_0's auc: 1\tvalid_0's l2: 0.0232808\tvalid_0's l1: 0.0995202\n",
            "[683]\tvalid_0's auc: 1\tvalid_0's l2: 0.0232736\tvalid_0's l1: 0.0994987\n",
            "[684]\tvalid_0's auc: 1\tvalid_0's l2: 0.0232648\tvalid_0's l1: 0.0994741\n",
            "[685]\tvalid_0's auc: 1\tvalid_0's l2: 0.0232561\tvalid_0's l1: 0.0994478\n",
            "[686]\tvalid_0's auc: 1\tvalid_0's l2: 0.0232477\tvalid_0's l1: 0.0994232\n",
            "[687]\tvalid_0's auc: 1\tvalid_0's l2: 0.0232379\tvalid_0's l1: 0.0993912\n",
            "[688]\tvalid_0's auc: 1\tvalid_0's l2: 0.0232272\tvalid_0's l1: 0.0993644\n",
            "[689]\tvalid_0's auc: 1\tvalid_0's l2: 0.0232179\tvalid_0's l1: 0.0993314\n",
            "[690]\tvalid_0's auc: 1\tvalid_0's l2: 0.0232108\tvalid_0's l1: 0.099304\n",
            "[691]\tvalid_0's auc: 1\tvalid_0's l2: 0.0232008\tvalid_0's l1: 0.0992763\n",
            "[692]\tvalid_0's auc: 1\tvalid_0's l2: 0.0231913\tvalid_0's l1: 0.0992469\n",
            "[693]\tvalid_0's auc: 1\tvalid_0's l2: 0.023179\tvalid_0's l1: 0.099225\n",
            "[694]\tvalid_0's auc: 1\tvalid_0's l2: 0.0231687\tvalid_0's l1: 0.099186\n",
            "[695]\tvalid_0's auc: 1\tvalid_0's l2: 0.0231569\tvalid_0's l1: 0.0991581\n",
            "[696]\tvalid_0's auc: 1\tvalid_0's l2: 0.0231446\tvalid_0's l1: 0.099135\n",
            "[697]\tvalid_0's auc: 1\tvalid_0's l2: 0.0231315\tvalid_0's l1: 0.0991029\n",
            "[698]\tvalid_0's auc: 1\tvalid_0's l2: 0.0231224\tvalid_0's l1: 0.0990742\n",
            "[699]\tvalid_0's auc: 1\tvalid_0's l2: 0.0231102\tvalid_0's l1: 0.0990419\n",
            "[700]\tvalid_0's auc: 1\tvalid_0's l2: 0.0230987\tvalid_0's l1: 0.0990206\n",
            "[701]\tvalid_0's auc: 1\tvalid_0's l2: 0.0230889\tvalid_0's l1: 0.0989852\n",
            "[702]\tvalid_0's auc: 1\tvalid_0's l2: 0.0230792\tvalid_0's l1: 0.09895\n",
            "[703]\tvalid_0's auc: 1\tvalid_0's l2: 0.0230696\tvalid_0's l1: 0.0989149\n",
            "[704]\tvalid_0's auc: 1\tvalid_0's l2: 0.02306\tvalid_0's l1: 0.09888\n",
            "[705]\tvalid_0's auc: 1\tvalid_0's l2: 0.0230506\tvalid_0's l1: 0.0988453\n",
            "[706]\tvalid_0's auc: 1\tvalid_0's l2: 0.0230413\tvalid_0's l1: 0.0988114\n",
            "[707]\tvalid_0's auc: 1\tvalid_0's l2: 0.0230319\tvalid_0's l1: 0.0987767\n",
            "[708]\tvalid_0's auc: 1\tvalid_0's l2: 0.0230227\tvalid_0's l1: 0.0987421\n",
            "[709]\tvalid_0's auc: 1\tvalid_0's l2: 0.0230156\tvalid_0's l1: 0.0987184\n",
            "[710]\tvalid_0's auc: 1\tvalid_0's l2: 0.0230066\tvalid_0's l1: 0.0986841\n",
            "[711]\tvalid_0's auc: 1\tvalid_0's l2: 0.0229987\tvalid_0's l1: 0.0986649\n",
            "[712]\tvalid_0's auc: 1\tvalid_0's l2: 0.0229949\tvalid_0's l1: 0.0986482\n",
            "[713]\tvalid_0's auc: 1\tvalid_0's l2: 0.0229871\tvalid_0's l1: 0.0986291\n",
            "[714]\tvalid_0's auc: 1\tvalid_0's l2: 0.0229822\tvalid_0's l1: 0.0986055\n",
            "[715]\tvalid_0's auc: 1\tvalid_0's l2: 0.0229765\tvalid_0's l1: 0.0985906\n",
            "[716]\tvalid_0's auc: 1\tvalid_0's l2: 0.0229721\tvalid_0's l1: 0.0985694\n",
            "[717]\tvalid_0's auc: 1\tvalid_0's l2: 0.0229649\tvalid_0's l1: 0.0985504\n",
            "[718]\tvalid_0's auc: 1\tvalid_0's l2: 0.0229607\tvalid_0's l1: 0.0985293\n",
            "[719]\tvalid_0's auc: 1\tvalid_0's l2: 0.0229565\tvalid_0's l1: 0.0985167\n",
            "[720]\tvalid_0's auc: 1\tvalid_0's l2: 0.022952\tvalid_0's l1: 0.0984936\n",
            "[721]\tvalid_0's auc: 1\tvalid_0's l2: 0.022937\tvalid_0's l1: 0.0984607\n",
            "[722]\tvalid_0's auc: 1\tvalid_0's l2: 0.0229219\tvalid_0's l1: 0.098426\n",
            "[723]\tvalid_0's auc: 1\tvalid_0's l2: 0.022905\tvalid_0's l1: 0.0983918\n",
            "[724]\tvalid_0's auc: 1\tvalid_0's l2: 0.0228902\tvalid_0's l1: 0.0983573\n",
            "[725]\tvalid_0's auc: 1\tvalid_0's l2: 0.0228755\tvalid_0's l1: 0.0983231\n",
            "[726]\tvalid_0's auc: 1\tvalid_0's l2: 0.0228609\tvalid_0's l1: 0.0982891\n",
            "[727]\tvalid_0's auc: 1\tvalid_0's l2: 0.0228473\tvalid_0's l1: 0.0982582\n",
            "[728]\tvalid_0's auc: 1\tvalid_0's l2: 0.022833\tvalid_0's l1: 0.0982269\n",
            "[729]\tvalid_0's auc: 1\tvalid_0's l2: 0.0228203\tvalid_0's l1: 0.0982044\n",
            "[730]\tvalid_0's auc: 1\tvalid_0's l2: 0.022805\tvalid_0's l1: 0.0981693\n",
            "[731]\tvalid_0's auc: 1\tvalid_0's l2: 0.0227934\tvalid_0's l1: 0.0981444\n",
            "[732]\tvalid_0's auc: 1\tvalid_0's l2: 0.0227817\tvalid_0's l1: 0.0981178\n",
            "[733]\tvalid_0's auc: 1\tvalid_0's l2: 0.0227684\tvalid_0's l1: 0.0980792\n",
            "[734]\tvalid_0's auc: 1\tvalid_0's l2: 0.0227563\tvalid_0's l1: 0.0980425\n",
            "[735]\tvalid_0's auc: 1\tvalid_0's l2: 0.0227447\tvalid_0's l1: 0.0980062\n",
            "[736]\tvalid_0's auc: 1\tvalid_0's l2: 0.0227334\tvalid_0's l1: 0.0979741\n",
            "[737]\tvalid_0's auc: 1\tvalid_0's l2: 0.0227224\tvalid_0's l1: 0.0979508\n",
            "[738]\tvalid_0's auc: 1\tvalid_0's l2: 0.0227093\tvalid_0's l1: 0.0979098\n",
            "[739]\tvalid_0's auc: 1\tvalid_0's l2: 0.0226947\tvalid_0's l1: 0.0978775\n",
            "[740]\tvalid_0's auc: 1\tvalid_0's l2: 0.0226843\tvalid_0's l1: 0.0978487\n",
            "[741]\tvalid_0's auc: 1\tvalid_0's l2: 0.0226781\tvalid_0's l1: 0.0978312\n",
            "[742]\tvalid_0's auc: 1\tvalid_0's l2: 0.0226715\tvalid_0's l1: 0.0978144\n",
            "[743]\tvalid_0's auc: 1\tvalid_0's l2: 0.022665\tvalid_0's l1: 0.0977977\n",
            "[744]\tvalid_0's auc: 1\tvalid_0's l2: 0.0226587\tvalid_0's l1: 0.0977814\n",
            "[745]\tvalid_0's auc: 1\tvalid_0's l2: 0.0226449\tvalid_0's l1: 0.0977406\n",
            "[746]\tvalid_0's auc: 1\tvalid_0's l2: 0.0226396\tvalid_0's l1: 0.0977344\n",
            "[747]\tvalid_0's auc: 1\tvalid_0's l2: 0.0226268\tvalid_0's l1: 0.0976966\n",
            "[748]\tvalid_0's auc: 1\tvalid_0's l2: 0.0226216\tvalid_0's l1: 0.0976915\n",
            "[749]\tvalid_0's auc: 1\tvalid_0's l2: 0.0226165\tvalid_0's l1: 0.0976863\n",
            "[750]\tvalid_0's auc: 1\tvalid_0's l2: 0.0226084\tvalid_0's l1: 0.0976636\n",
            "[751]\tvalid_0's auc: 1\tvalid_0's l2: 0.0225997\tvalid_0's l1: 0.0976447\n",
            "[752]\tvalid_0's auc: 1\tvalid_0's l2: 0.0225922\tvalid_0's l1: 0.0976182\n",
            "[753]\tvalid_0's auc: 1\tvalid_0's l2: 0.0225837\tvalid_0's l1: 0.097601\n",
            "[754]\tvalid_0's auc: 1\tvalid_0's l2: 0.0225776\tvalid_0's l1: 0.0975764\n",
            "[755]\tvalid_0's auc: 1\tvalid_0's l2: 0.0225689\tvalid_0's l1: 0.0975582\n",
            "[756]\tvalid_0's auc: 1\tvalid_0's l2: 0.0225598\tvalid_0's l1: 0.0975375\n",
            "[757]\tvalid_0's auc: 1\tvalid_0's l2: 0.0225498\tvalid_0's l1: 0.0975018\n",
            "[758]\tvalid_0's auc: 1\tvalid_0's l2: 0.0225401\tvalid_0's l1: 0.0974669\n",
            "[759]\tvalid_0's auc: 1\tvalid_0's l2: 0.0225303\tvalid_0's l1: 0.0974444\n",
            "[760]\tvalid_0's auc: 1\tvalid_0's l2: 0.0225208\tvalid_0's l1: 0.0974146\n",
            "[761]\tvalid_0's auc: 1\tvalid_0's l2: 0.0225132\tvalid_0's l1: 0.0974051\n",
            "[762]\tvalid_0's auc: 1\tvalid_0's l2: 0.0225061\tvalid_0's l1: 0.0973947\n",
            "[763]\tvalid_0's auc: 1\tvalid_0's l2: 0.022499\tvalid_0's l1: 0.0973844\n",
            "[764]\tvalid_0's auc: 1\tvalid_0's l2: 0.022494\tvalid_0's l1: 0.0973771\n",
            "[765]\tvalid_0's auc: 1\tvalid_0's l2: 0.022484\tvalid_0's l1: 0.0973524\n",
            "[766]\tvalid_0's auc: 1\tvalid_0's l2: 0.0224732\tvalid_0's l1: 0.0973276\n",
            "[767]\tvalid_0's auc: 1\tvalid_0's l2: 0.0224637\tvalid_0's l1: 0.0973083\n",
            "[768]\tvalid_0's auc: 1\tvalid_0's l2: 0.0224541\tvalid_0's l1: 0.097281\n",
            "[769]\tvalid_0's auc: 1\tvalid_0's l2: 0.0224444\tvalid_0's l1: 0.0972567\n",
            "[770]\tvalid_0's auc: 1\tvalid_0's l2: 0.0224366\tvalid_0's l1: 0.0972399\n",
            "[771]\tvalid_0's auc: 1\tvalid_0's l2: 0.0224263\tvalid_0's l1: 0.0972207\n",
            "[772]\tvalid_0's auc: 1\tvalid_0's l2: 0.022418\tvalid_0's l1: 0.0971895\n",
            "[773]\tvalid_0's auc: 1\tvalid_0's l2: 0.0224063\tvalid_0's l1: 0.0971574\n",
            "[774]\tvalid_0's auc: 1\tvalid_0's l2: 0.0223958\tvalid_0's l1: 0.0971424\n",
            "[775]\tvalid_0's auc: 1\tvalid_0's l2: 0.0223882\tvalid_0's l1: 0.0971224\n",
            "[776]\tvalid_0's auc: 1\tvalid_0's l2: 0.0223802\tvalid_0's l1: 0.0970918\n",
            "[777]\tvalid_0's auc: 1\tvalid_0's l2: 0.0223704\tvalid_0's l1: 0.0970753\n",
            "[778]\tvalid_0's auc: 1\tvalid_0's l2: 0.0223601\tvalid_0's l1: 0.0970537\n",
            "[779]\tvalid_0's auc: 1\tvalid_0's l2: 0.02235\tvalid_0's l1: 0.0970323\n",
            "[780]\tvalid_0's auc: 1\tvalid_0's l2: 0.0223414\tvalid_0's l1: 0.0970051\n",
            "[781]\tvalid_0's auc: 1\tvalid_0's l2: 0.0223384\tvalid_0's l1: 0.0969951\n",
            "[782]\tvalid_0's auc: 1\tvalid_0's l2: 0.0223332\tvalid_0's l1: 0.0969833\n",
            "[783]\tvalid_0's auc: 1\tvalid_0's l2: 0.0223262\tvalid_0's l1: 0.0969727\n",
            "[784]\tvalid_0's auc: 1\tvalid_0's l2: 0.0223201\tvalid_0's l1: 0.0969605\n",
            "[785]\tvalid_0's auc: 1\tvalid_0's l2: 0.0223153\tvalid_0's l1: 0.0969519\n",
            "[786]\tvalid_0's auc: 1\tvalid_0's l2: 0.0223109\tvalid_0's l1: 0.0969407\n",
            "[787]\tvalid_0's auc: 1\tvalid_0's l2: 0.0223081\tvalid_0's l1: 0.0969331\n",
            "[788]\tvalid_0's auc: 1\tvalid_0's l2: 0.022304\tvalid_0's l1: 0.0969301\n",
            "[789]\tvalid_0's auc: 1\tvalid_0's l2: 0.0222982\tvalid_0's l1: 0.0969181\n",
            "[790]\tvalid_0's auc: 1\tvalid_0's l2: 0.0222935\tvalid_0's l1: 0.0969089\n",
            "[791]\tvalid_0's auc: 1\tvalid_0's l2: 0.0222837\tvalid_0's l1: 0.0968848\n",
            "[792]\tvalid_0's auc: 1\tvalid_0's l2: 0.0222739\tvalid_0's l1: 0.0968608\n",
            "[793]\tvalid_0's auc: 1\tvalid_0's l2: 0.0222642\tvalid_0's l1: 0.0968371\n",
            "[794]\tvalid_0's auc: 1\tvalid_0's l2: 0.0222546\tvalid_0's l1: 0.0968134\n",
            "[795]\tvalid_0's auc: 1\tvalid_0's l2: 0.0222451\tvalid_0's l1: 0.0967898\n",
            "[796]\tvalid_0's auc: 1\tvalid_0's l2: 0.0222387\tvalid_0's l1: 0.0967684\n",
            "[797]\tvalid_0's auc: 1\tvalid_0's l2: 0.0222324\tvalid_0's l1: 0.0967472\n",
            "[798]\tvalid_0's auc: 1\tvalid_0's l2: 0.0222231\tvalid_0's l1: 0.0967239\n",
            "[799]\tvalid_0's auc: 1\tvalid_0's l2: 0.0222138\tvalid_0's l1: 0.0967008\n",
            "[800]\tvalid_0's auc: 1\tvalid_0's l2: 0.0222063\tvalid_0's l1: 0.0966756\n",
            "[801]\tvalid_0's auc: 1\tvalid_0's l2: 0.0221971\tvalid_0's l1: 0.0966478\n",
            "[802]\tvalid_0's auc: 1\tvalid_0's l2: 0.0221886\tvalid_0's l1: 0.0966255\n",
            "[803]\tvalid_0's auc: 1\tvalid_0's l2: 0.022179\tvalid_0's l1: 0.096596\n",
            "[804]\tvalid_0's auc: 1\tvalid_0's l2: 0.0221706\tvalid_0's l1: 0.0965685\n",
            "[805]\tvalid_0's auc: 1\tvalid_0's l2: 0.0221618\tvalid_0's l1: 0.0965427\n",
            "[806]\tvalid_0's auc: 1\tvalid_0's l2: 0.0221533\tvalid_0's l1: 0.0965132\n",
            "[807]\tvalid_0's auc: 1\tvalid_0's l2: 0.0221446\tvalid_0's l1: 0.0964876\n",
            "[808]\tvalid_0's auc: 1\tvalid_0's l2: 0.0221386\tvalid_0's l1: 0.096478\n",
            "[809]\tvalid_0's auc: 1\tvalid_0's l2: 0.0221304\tvalid_0's l1: 0.0964489\n",
            "[810]\tvalid_0's auc: 1\tvalid_0's l2: 0.022122\tvalid_0's l1: 0.0964236\n",
            "[811]\tvalid_0's auc: 1\tvalid_0's l2: 0.0221208\tvalid_0's l1: 0.0964123\n",
            "[812]\tvalid_0's auc: 1\tvalid_0's l2: 0.0221161\tvalid_0's l1: 0.0963978\n",
            "[813]\tvalid_0's auc: 1\tvalid_0's l2: 0.0221132\tvalid_0's l1: 0.0963786\n",
            "[814]\tvalid_0's auc: 1\tvalid_0's l2: 0.0221086\tvalid_0's l1: 0.0963637\n",
            "[815]\tvalid_0's auc: 1\tvalid_0's l2: 0.0221005\tvalid_0's l1: 0.0963456\n",
            "[816]\tvalid_0's auc: 1\tvalid_0's l2: 0.0220979\tvalid_0's l1: 0.0963342\n",
            "[817]\tvalid_0's auc: 1\tvalid_0's l2: 0.0220911\tvalid_0's l1: 0.0963238\n",
            "[818]\tvalid_0's auc: 1\tvalid_0's l2: 0.0220879\tvalid_0's l1: 0.096312\n",
            "[819]\tvalid_0's auc: 1\tvalid_0's l2: 0.0220859\tvalid_0's l1: 0.0963068\n",
            "[820]\tvalid_0's auc: 1\tvalid_0's l2: 0.0220829\tvalid_0's l1: 0.0962956\n",
            "[821]\tvalid_0's auc: 1\tvalid_0's l2: 0.0220741\tvalid_0's l1: 0.0962741\n",
            "[822]\tvalid_0's auc: 1\tvalid_0's l2: 0.0220654\tvalid_0's l1: 0.0962528\n",
            "[823]\tvalid_0's auc: 1\tvalid_0's l2: 0.0220588\tvalid_0's l1: 0.0962515\n",
            "[824]\tvalid_0's auc: 1\tvalid_0's l2: 0.0220525\tvalid_0's l1: 0.0962525\n",
            "[825]\tvalid_0's auc: 1\tvalid_0's l2: 0.0220424\tvalid_0's l1: 0.0962356\n",
            "[826]\tvalid_0's auc: 1\tvalid_0's l2: 0.022034\tvalid_0's l1: 0.0962172\n",
            "[827]\tvalid_0's auc: 1\tvalid_0's l2: 0.0220279\tvalid_0's l1: 0.096222\n",
            "[828]\tvalid_0's auc: 1\tvalid_0's l2: 0.0220189\tvalid_0's l1: 0.0962004\n",
            "[829]\tvalid_0's auc: 1\tvalid_0's l2: 0.022012\tvalid_0's l1: 0.096196\n",
            "[830]\tvalid_0's auc: 1\tvalid_0's l2: 0.022004\tvalid_0's l1: 0.0961717\n",
            "[831]\tvalid_0's auc: 1\tvalid_0's l2: 0.0219961\tvalid_0's l1: 0.0961542\n",
            "[832]\tvalid_0's auc: 1\tvalid_0's l2: 0.0219861\tvalid_0's l1: 0.0961421\n",
            "[833]\tvalid_0's auc: 1\tvalid_0's l2: 0.021972\tvalid_0's l1: 0.0961109\n",
            "[834]\tvalid_0's auc: 1\tvalid_0's l2: 0.0219589\tvalid_0's l1: 0.096079\n",
            "[835]\tvalid_0's auc: 1\tvalid_0's l2: 0.0219498\tvalid_0's l1: 0.0960718\n",
            "[836]\tvalid_0's auc: 1\tvalid_0's l2: 0.0219365\tvalid_0's l1: 0.0960432\n",
            "[837]\tvalid_0's auc: 1\tvalid_0's l2: 0.0219233\tvalid_0's l1: 0.0960125\n",
            "[838]\tvalid_0's auc: 1\tvalid_0's l2: 0.0219132\tvalid_0's l1: 0.0959934\n",
            "[839]\tvalid_0's auc: 1\tvalid_0's l2: 0.0219\tvalid_0's l1: 0.0959653\n",
            "[840]\tvalid_0's auc: 1\tvalid_0's l2: 0.0218868\tvalid_0's l1: 0.0959355\n",
            "[841]\tvalid_0's auc: 1\tvalid_0's l2: 0.0218778\tvalid_0's l1: 0.0959191\n",
            "[842]\tvalid_0's auc: 1\tvalid_0's l2: 0.0218743\tvalid_0's l1: 0.0959123\n",
            "[843]\tvalid_0's auc: 1\tvalid_0's l2: 0.0218697\tvalid_0's l1: 0.0958955\n",
            "[844]\tvalid_0's auc: 1\tvalid_0's l2: 0.0218609\tvalid_0's l1: 0.0958779\n",
            "[845]\tvalid_0's auc: 1\tvalid_0's l2: 0.0218545\tvalid_0's l1: 0.0958651\n",
            "[846]\tvalid_0's auc: 1\tvalid_0's l2: 0.0218468\tvalid_0's l1: 0.0958416\n",
            "[847]\tvalid_0's auc: 1\tvalid_0's l2: 0.0218406\tvalid_0's l1: 0.0958305\n",
            "[848]\tvalid_0's auc: 1\tvalid_0's l2: 0.0218338\tvalid_0's l1: 0.0958176\n",
            "[849]\tvalid_0's auc: 1\tvalid_0's l2: 0.0218253\tvalid_0's l1: 0.0958012\n",
            "[850]\tvalid_0's auc: 1\tvalid_0's l2: 0.0218203\tvalid_0's l1: 0.0957847\n",
            "[851]\tvalid_0's auc: 1\tvalid_0's l2: 0.0218155\tvalid_0's l1: 0.0957683\n",
            "[852]\tvalid_0's auc: 1\tvalid_0's l2: 0.0218112\tvalid_0's l1: 0.0957595\n",
            "[853]\tvalid_0's auc: 1\tvalid_0's l2: 0.0218053\tvalid_0's l1: 0.0957341\n",
            "[854]\tvalid_0's auc: 1\tvalid_0's l2: 0.0218006\tvalid_0's l1: 0.0957151\n",
            "[855]\tvalid_0's auc: 1\tvalid_0's l2: 0.0217959\tvalid_0's l1: 0.0956991\n",
            "[856]\tvalid_0's auc: 1\tvalid_0's l2: 0.0217913\tvalid_0's l1: 0.0956802\n",
            "[857]\tvalid_0's auc: 1\tvalid_0's l2: 0.0217868\tvalid_0's l1: 0.0956616\n",
            "[858]\tvalid_0's auc: 1\tvalid_0's l2: 0.0217827\tvalid_0's l1: 0.095653\n",
            "[859]\tvalid_0's auc: 1\tvalid_0's l2: 0.0217782\tvalid_0's l1: 0.0956345\n",
            "[860]\tvalid_0's auc: 1\tvalid_0's l2: 0.0217757\tvalid_0's l1: 0.0956214\n",
            "[861]\tvalid_0's auc: 1\tvalid_0's l2: 0.0217758\tvalid_0's l1: 0.0956172\n",
            "[862]\tvalid_0's auc: 1\tvalid_0's l2: 0.021776\tvalid_0's l1: 0.095613\n",
            "[863]\tvalid_0's auc: 1\tvalid_0's l2: 0.0217766\tvalid_0's l1: 0.0956132\n",
            "[864]\tvalid_0's auc: 1\tvalid_0's l2: 0.0217761\tvalid_0's l1: 0.0956074\n",
            "[865]\tvalid_0's auc: 1\tvalid_0's l2: 0.0217778\tvalid_0's l1: 0.0956134\n",
            "[866]\tvalid_0's auc: 1\tvalid_0's l2: 0.0217731\tvalid_0's l1: 0.0956003\n",
            "[867]\tvalid_0's auc: 1\tvalid_0's l2: 0.0217735\tvalid_0's l1: 0.0955962\n",
            "[868]\tvalid_0's auc: 1\tvalid_0's l2: 0.0217755\tvalid_0's l1: 0.0956031\n",
            "[869]\tvalid_0's auc: 1\tvalid_0's l2: 0.0217706\tvalid_0's l1: 0.0955895\n",
            "[870]\tvalid_0's auc: 1\tvalid_0's l2: 0.0217665\tvalid_0's l1: 0.0955803\n",
            "[871]\tvalid_0's auc: 1\tvalid_0's l2: 0.0217603\tvalid_0's l1: 0.0955734\n",
            "[872]\tvalid_0's auc: 1\tvalid_0's l2: 0.0217543\tvalid_0's l1: 0.0955664\n",
            "[873]\tvalid_0's auc: 1\tvalid_0's l2: 0.0217499\tvalid_0's l1: 0.0955617\n",
            "[874]\tvalid_0's auc: 1\tvalid_0's l2: 0.0217457\tvalid_0's l1: 0.0955578\n",
            "[875]\tvalid_0's auc: 1\tvalid_0's l2: 0.0217404\tvalid_0's l1: 0.0955538\n",
            "[876]\tvalid_0's auc: 1\tvalid_0's l2: 0.0217347\tvalid_0's l1: 0.0955437\n",
            "[877]\tvalid_0's auc: 1\tvalid_0's l2: 0.0217311\tvalid_0's l1: 0.0955405\n",
            "[878]\tvalid_0's auc: 1\tvalid_0's l2: 0.0217261\tvalid_0's l1: 0.0955335\n",
            "[879]\tvalid_0's auc: 1\tvalid_0's l2: 0.0217213\tvalid_0's l1: 0.0955257\n",
            "[880]\tvalid_0's auc: 1\tvalid_0's l2: 0.0217166\tvalid_0's l1: 0.0955212\n",
            "[881]\tvalid_0's auc: 1\tvalid_0's l2: 0.0217121\tvalid_0's l1: 0.0955048\n",
            "[882]\tvalid_0's auc: 1\tvalid_0's l2: 0.0217076\tvalid_0's l1: 0.0954896\n",
            "[883]\tvalid_0's auc: 1\tvalid_0's l2: 0.0217032\tvalid_0's l1: 0.0954743\n",
            "[884]\tvalid_0's auc: 1\tvalid_0's l2: 0.021699\tvalid_0's l1: 0.0954599\n",
            "[885]\tvalid_0's auc: 1\tvalid_0's l2: 0.0216943\tvalid_0's l1: 0.0954454\n",
            "[886]\tvalid_0's auc: 1\tvalid_0's l2: 0.0216901\tvalid_0's l1: 0.0954309\n",
            "[887]\tvalid_0's auc: 1\tvalid_0's l2: 0.0216874\tvalid_0's l1: 0.0954254\n",
            "[888]\tvalid_0's auc: 1\tvalid_0's l2: 0.0216833\tvalid_0's l1: 0.0954124\n",
            "[889]\tvalid_0's auc: 1\tvalid_0's l2: 0.0216808\tvalid_0's l1: 0.0954074\n",
            "[890]\tvalid_0's auc: 1\tvalid_0's l2: 0.0216762\tvalid_0's l1: 0.0953944\n",
            "[891]\tvalid_0's auc: 1\tvalid_0's l2: 0.021674\tvalid_0's l1: 0.0953879\n",
            "[892]\tvalid_0's auc: 1\tvalid_0's l2: 0.0216718\tvalid_0's l1: 0.0953971\n",
            "[893]\tvalid_0's auc: 1\tvalid_0's l2: 0.0216697\tvalid_0's l1: 0.0954063\n",
            "[894]\tvalid_0's auc: 1\tvalid_0's l2: 0.0216676\tvalid_0's l1: 0.0953998\n",
            "[895]\tvalid_0's auc: 1\tvalid_0's l2: 0.0216657\tvalid_0's l1: 0.0953943\n",
            "[896]\tvalid_0's auc: 1\tvalid_0's l2: 0.0216637\tvalid_0's l1: 0.095388\n",
            "[897]\tvalid_0's auc: 1\tvalid_0's l2: 0.0216625\tvalid_0's l1: 0.0953811\n",
            "[898]\tvalid_0's auc: 1\tvalid_0's l2: 0.0216582\tvalid_0's l1: 0.0953762\n",
            "[899]\tvalid_0's auc: 1\tvalid_0's l2: 0.0216563\tvalid_0's l1: 0.0953853\n",
            "[900]\tvalid_0's auc: 1\tvalid_0's l2: 0.0216543\tvalid_0's l1: 0.0953944\n",
            "[901]\tvalid_0's auc: 1\tvalid_0's l2: 0.0216508\tvalid_0's l1: 0.0953832\n",
            "[902]\tvalid_0's auc: 1\tvalid_0's l2: 0.0216472\tvalid_0's l1: 0.0953722\n",
            "[903]\tvalid_0's auc: 1\tvalid_0's l2: 0.0216436\tvalid_0's l1: 0.0953581\n",
            "[904]\tvalid_0's auc: 1\tvalid_0's l2: 0.0216399\tvalid_0's l1: 0.095346\n",
            "[905]\tvalid_0's auc: 1\tvalid_0's l2: 0.0216363\tvalid_0's l1: 0.095334\n",
            "[906]\tvalid_0's auc: 1\tvalid_0's l2: 0.0216329\tvalid_0's l1: 0.0953232\n",
            "[907]\tvalid_0's auc: 1\tvalid_0's l2: 0.0216296\tvalid_0's l1: 0.0953124\n",
            "[908]\tvalid_0's auc: 1\tvalid_0's l2: 0.0216264\tvalid_0's l1: 0.0952978\n",
            "[909]\tvalid_0's auc: 1\tvalid_0's l2: 0.0216236\tvalid_0's l1: 0.0952797\n",
            "[910]\tvalid_0's auc: 1\tvalid_0's l2: 0.0216213\tvalid_0's l1: 0.0952627\n",
            "[911]\tvalid_0's auc: 1\tvalid_0's l2: 0.0216203\tvalid_0's l1: 0.095264\n",
            "[912]\tvalid_0's auc: 1\tvalid_0's l2: 0.0216161\tvalid_0's l1: 0.0952543\n",
            "[913]\tvalid_0's auc: 1\tvalid_0's l2: 0.0216138\tvalid_0's l1: 0.0952484\n",
            "[914]\tvalid_0's auc: 1\tvalid_0's l2: 0.021612\tvalid_0's l1: 0.0952529\n",
            "[915]\tvalid_0's auc: 1\tvalid_0's l2: 0.0216097\tvalid_0's l1: 0.0952471\n",
            "[916]\tvalid_0's auc: 1\tvalid_0's l2: 0.0216103\tvalid_0's l1: 0.0952511\n",
            "[917]\tvalid_0's auc: 1\tvalid_0's l2: 0.0216123\tvalid_0's l1: 0.0952514\n",
            "[918]\tvalid_0's auc: 1\tvalid_0's l2: 0.0216101\tvalid_0's l1: 0.0952488\n",
            "[919]\tvalid_0's auc: 1\tvalid_0's l2: 0.021608\tvalid_0's l1: 0.095245\n",
            "[920]\tvalid_0's auc: 1\tvalid_0's l2: 0.0216105\tvalid_0's l1: 0.095244\n",
            "[921]\tvalid_0's auc: 1\tvalid_0's l2: 0.0216093\tvalid_0's l1: 0.0952384\n",
            "[922]\tvalid_0's auc: 1\tvalid_0's l2: 0.0216084\tvalid_0's l1: 0.0952334\n",
            "[923]\tvalid_0's auc: 1\tvalid_0's l2: 0.0216075\tvalid_0's l1: 0.0952284\n",
            "[924]\tvalid_0's auc: 1\tvalid_0's l2: 0.0216046\tvalid_0's l1: 0.0952233\n",
            "[925]\tvalid_0's auc: 1\tvalid_0's l2: 0.0216036\tvalid_0's l1: 0.0952169\n",
            "[926]\tvalid_0's auc: 1\tvalid_0's l2: 0.0216027\tvalid_0's l1: 0.0952114\n",
            "[927]\tvalid_0's auc: 1\tvalid_0's l2: 0.021602\tvalid_0's l1: 0.0952056\n",
            "[928]\tvalid_0's auc: 1\tvalid_0's l2: 0.0216022\tvalid_0's l1: 0.0952036\n",
            "[929]\tvalid_0's auc: 1\tvalid_0's l2: 0.0216014\tvalid_0's l1: 0.0951974\n",
            "[930]\tvalid_0's auc: 1\tvalid_0's l2: 0.0216006\tvalid_0's l1: 0.0951952\n",
            "[931]\tvalid_0's auc: 1\tvalid_0's l2: 0.0215927\tvalid_0's l1: 0.095176\n",
            "[932]\tvalid_0's auc: 1\tvalid_0's l2: 0.0215876\tvalid_0's l1: 0.095162\n",
            "[933]\tvalid_0's auc: 1\tvalid_0's l2: 0.0215826\tvalid_0's l1: 0.0951482\n",
            "[934]\tvalid_0's auc: 1\tvalid_0's l2: 0.0215792\tvalid_0's l1: 0.095138\n",
            "[935]\tvalid_0's auc: 1\tvalid_0's l2: 0.021575\tvalid_0's l1: 0.0951276\n",
            "[936]\tvalid_0's auc: 1\tvalid_0's l2: 0.0215707\tvalid_0's l1: 0.0951146\n",
            "[937]\tvalid_0's auc: 1\tvalid_0's l2: 0.0215676\tvalid_0's l1: 0.0951014\n",
            "[938]\tvalid_0's auc: 1\tvalid_0's l2: 0.0215645\tvalid_0's l1: 0.0950883\n",
            "[939]\tvalid_0's auc: 1\tvalid_0's l2: 0.0215591\tvalid_0's l1: 0.0950738\n",
            "[940]\tvalid_0's auc: 1\tvalid_0's l2: 0.0215512\tvalid_0's l1: 0.0950574\n",
            "[941]\tvalid_0's auc: 1\tvalid_0's l2: 0.0215492\tvalid_0's l1: 0.0950499\n",
            "[942]\tvalid_0's auc: 1\tvalid_0's l2: 0.0215483\tvalid_0's l1: 0.0950443\n",
            "[943]\tvalid_0's auc: 1\tvalid_0's l2: 0.0215458\tvalid_0's l1: 0.0950366\n",
            "[944]\tvalid_0's auc: 1\tvalid_0's l2: 0.0215447\tvalid_0's l1: 0.0950289\n",
            "[945]\tvalid_0's auc: 1\tvalid_0's l2: 0.0215431\tvalid_0's l1: 0.0950208\n",
            "[946]\tvalid_0's auc: 1\tvalid_0's l2: 0.0215423\tvalid_0's l1: 0.0950153\n",
            "[947]\tvalid_0's auc: 1\tvalid_0's l2: 0.021539\tvalid_0's l1: 0.0950026\n",
            "[948]\tvalid_0's auc: 1\tvalid_0's l2: 0.0215387\tvalid_0's l1: 0.0950085\n",
            "[949]\tvalid_0's auc: 1\tvalid_0's l2: 0.0215365\tvalid_0's l1: 0.0949978\n",
            "[950]\tvalid_0's auc: 1\tvalid_0's l2: 0.0215342\tvalid_0's l1: 0.0949931\n",
            "[951]\tvalid_0's auc: 1\tvalid_0's l2: 0.0215284\tvalid_0's l1: 0.0949666\n",
            "[952]\tvalid_0's auc: 1\tvalid_0's l2: 0.0215249\tvalid_0's l1: 0.0949666\n",
            "[953]\tvalid_0's auc: 1\tvalid_0's l2: 0.0215199\tvalid_0's l1: 0.0949568\n",
            "[954]\tvalid_0's auc: 1\tvalid_0's l2: 0.0215169\tvalid_0's l1: 0.094948\n",
            "[955]\tvalid_0's auc: 1\tvalid_0's l2: 0.0215135\tvalid_0's l1: 0.0949359\n",
            "[956]\tvalid_0's auc: 1\tvalid_0's l2: 0.0215101\tvalid_0's l1: 0.094924\n",
            "[957]\tvalid_0's auc: 1\tvalid_0's l2: 0.0215057\tvalid_0's l1: 0.0949054\n",
            "[958]\tvalid_0's auc: 1\tvalid_0's l2: 0.0215015\tvalid_0's l1: 0.0948918\n",
            "[959]\tvalid_0's auc: 1\tvalid_0's l2: 0.0214997\tvalid_0's l1: 0.0948854\n",
            "[960]\tvalid_0's auc: 1\tvalid_0's l2: 0.0214963\tvalid_0's l1: 0.0948828\n",
            "[961]\tvalid_0's auc: 1\tvalid_0's l2: 0.0214917\tvalid_0's l1: 0.0948735\n",
            "[962]\tvalid_0's auc: 1\tvalid_0's l2: 0.0214872\tvalid_0's l1: 0.0948642\n",
            "[963]\tvalid_0's auc: 1\tvalid_0's l2: 0.0214842\tvalid_0's l1: 0.0948591\n",
            "[964]\tvalid_0's auc: 1\tvalid_0's l2: 0.0214812\tvalid_0's l1: 0.0948541\n",
            "[965]\tvalid_0's auc: 1\tvalid_0's l2: 0.0214782\tvalid_0's l1: 0.094849\n",
            "[966]\tvalid_0's auc: 1\tvalid_0's l2: 0.0214739\tvalid_0's l1: 0.0948412\n",
            "[967]\tvalid_0's auc: 1\tvalid_0's l2: 0.021471\tvalid_0's l1: 0.0948362\n",
            "[968]\tvalid_0's auc: 1\tvalid_0's l2: 0.0214666\tvalid_0's l1: 0.0948244\n",
            "[969]\tvalid_0's auc: 1\tvalid_0's l2: 0.0214638\tvalid_0's l1: 0.0948168\n",
            "[970]\tvalid_0's auc: 1\tvalid_0's l2: 0.0214599\tvalid_0's l1: 0.0948095\n",
            "[971]\tvalid_0's auc: 1\tvalid_0's l2: 0.0214528\tvalid_0's l1: 0.0947797\n",
            "[972]\tvalid_0's auc: 1\tvalid_0's l2: 0.0214489\tvalid_0's l1: 0.094766\n",
            "[973]\tvalid_0's auc: 1\tvalid_0's l2: 0.0214419\tvalid_0's l1: 0.0947365\n",
            "[974]\tvalid_0's auc: 1\tvalid_0's l2: 0.021435\tvalid_0's l1: 0.0947072\n",
            "[975]\tvalid_0's auc: 1\tvalid_0's l2: 0.0214294\tvalid_0's l1: 0.0946843\n",
            "[976]\tvalid_0's auc: 1\tvalid_0's l2: 0.0214247\tvalid_0's l1: 0.0946609\n",
            "[977]\tvalid_0's auc: 1\tvalid_0's l2: 0.0214187\tvalid_0's l1: 0.0946332\n",
            "[978]\tvalid_0's auc: 1\tvalid_0's l2: 0.021415\tvalid_0's l1: 0.0946203\n",
            "[979]\tvalid_0's auc: 1\tvalid_0's l2: 0.0214092\tvalid_0's l1: 0.0945929\n",
            "[980]\tvalid_0's auc: 1\tvalid_0's l2: 0.0214051\tvalid_0's l1: 0.0945779\n",
            "[981]\tvalid_0's auc: 1\tvalid_0's l2: 0.0213996\tvalid_0's l1: 0.0945566\n",
            "[982]\tvalid_0's auc: 1\tvalid_0's l2: 0.0213943\tvalid_0's l1: 0.094536\n",
            "[983]\tvalid_0's auc: 1\tvalid_0's l2: 0.021389\tvalid_0's l1: 0.0945155\n",
            "[984]\tvalid_0's auc: 1\tvalid_0's l2: 0.0213826\tvalid_0's l1: 0.0944898\n",
            "[985]\tvalid_0's auc: 1\tvalid_0's l2: 0.0213774\tvalid_0's l1: 0.0944695\n",
            "[986]\tvalid_0's auc: 1\tvalid_0's l2: 0.0213729\tvalid_0's l1: 0.0944511\n",
            "[987]\tvalid_0's auc: 1\tvalid_0's l2: 0.0213678\tvalid_0's l1: 0.094431\n",
            "[988]\tvalid_0's auc: 1\tvalid_0's l2: 0.0213628\tvalid_0's l1: 0.094411\n",
            "[989]\tvalid_0's auc: 1\tvalid_0's l2: 0.0213552\tvalid_0's l1: 0.0943813\n",
            "[990]\tvalid_0's auc: 1\tvalid_0's l2: 0.0213514\tvalid_0's l1: 0.0943639\n",
            "[991]\tvalid_0's auc: 1\tvalid_0's l2: 0.0213482\tvalid_0's l1: 0.0943535\n",
            "[992]\tvalid_0's auc: 1\tvalid_0's l2: 0.021345\tvalid_0's l1: 0.0943431\n",
            "[993]\tvalid_0's auc: 1\tvalid_0's l2: 0.0213433\tvalid_0's l1: 0.0943348\n",
            "[994]\tvalid_0's auc: 1\tvalid_0's l2: 0.0213402\tvalid_0's l1: 0.0943245\n",
            "[995]\tvalid_0's auc: 1\tvalid_0's l2: 0.0213399\tvalid_0's l1: 0.0943205\n",
            "[996]\tvalid_0's auc: 1\tvalid_0's l2: 0.0213357\tvalid_0's l1: 0.094309\n",
            "[997]\tvalid_0's auc: 1\tvalid_0's l2: 0.0213327\tvalid_0's l1: 0.0943004\n",
            "[998]\tvalid_0's auc: 1\tvalid_0's l2: 0.0213286\tvalid_0's l1: 0.0942891\n",
            "[999]\tvalid_0's auc: 1\tvalid_0's l2: 0.0213272\tvalid_0's l1: 0.0942772\n",
            "[1000]\tvalid_0's auc: 1\tvalid_0's l2: 0.0213249\tvalid_0's l1: 0.0942678\n",
            "[1001]\tvalid_0's auc: 1\tvalid_0's l2: 0.0213222\tvalid_0's l1: 0.0942632\n",
            "Early stopping, best iteration is:\n",
            "[1]\tvalid_0's auc: 1\tvalid_0's l2: 0.186476\tvalid_0's l1: 0.333035\n"
          ],
          "name": "stdout"
        },
        {
          "output_type": "execute_result",
          "data": {
            "text/plain": [
              "LGBMRegressor(bagging_fraction=0.7, bagging_freq=10, boosting_type='gbdt',\n",
              "              class_weight=None, colsample_bytree=1.0, feature_fraction=0.9,\n",
              "              importance_type='split', learning_rate=0.005, max_bin=512,\n",
              "              max_depth=8, metric=['l2', 'auc'], min_child_samples=20,\n",
              "              min_child_weight=0.001, min_split_gain=0.0, n_estimators=1000,\n",
              "              n_jobs=-1, num_iterations=100000, num_leaves=128,\n",
              "              objective='regression', random_state=None, reg_alpha=0.0,\n",
              "              reg_lambda=0.0, silent=True, subsample=1.0,\n",
              "              subsample_for_bin=200000, subsample_freq=0, task='train',\n",
              "              verbose=0)"
            ]
          },
          "metadata": {
            "tags": []
          },
          "execution_count": 251
        }
      ]
    },
    {
      "cell_type": "markdown",
      "metadata": {
        "id": "XC-VBJEEvTD-",
        "colab_type": "text"
      },
      "source": [
        "### (6) 모델 평가\n",
        "- 모델을 평가한다. (RMSE)"
      ]
    },
    {
      "cell_type": "code",
      "metadata": {
        "id": "v2SU-3WAvV83",
        "colab_type": "code",
        "colab": {
          "base_uri": "https://localhost:8080/",
          "height": 35
        },
        "outputId": "f6dd4557-d3d1-439e-de30-403401b7d72f"
      },
      "source": [
        "y_pred = gbm.predict(X_train, num_iteration=gbm.best_iteration_)\n",
        "print('The rmse of prediction is:', round(mean_squared_log_error(y_pred, y_train) ** 0.5, 5))"
      ],
      "execution_count": 252,
      "outputs": [
        {
          "output_type": "stream",
          "text": [
            "The rmse of prediction is: 0.02951\n"
          ],
          "name": "stdout"
        }
      ]
    },
    {
      "cell_type": "markdown",
      "metadata": {
        "id": "4ASOQIOwvZxO",
        "colab_type": "text"
      },
      "source": [
        "### (7) 결과 제출\n",
        "- 이제 결과를 제출한다. "
      ]
    },
    {
      "cell_type": "code",
      "metadata": {
        "id": "OQus6E9jvbPP",
        "colab_type": "code",
        "colab": {
          "base_uri": "https://localhost:8080/",
          "height": 352
        },
        "outputId": "cb251234-82c2-4e30-ba2c-69174cc33dd3"
      },
      "source": [
        "test_pred = np.expm1(gbm.predict(df_test, num_iteration=gbm.best_iteration_))\n",
        "df_test[\"SalePrice\"] = test_pred\n",
        "df_test.to_csv(\"new.csv\", columns=[\"Id\", \"SalePrice\"], index=False)"
      ],
      "execution_count": 254,
      "outputs": [
        {
          "output_type": "error",
          "ename": "ValueError",
          "evalue": "ignored",
          "traceback": [
            "\u001b[0;31m---------------------------------------------------------------------------\u001b[0m",
            "\u001b[0;31mValueError\u001b[0m                                Traceback (most recent call last)",
            "\u001b[0;32m<ipython-input-254-09ac438b680f>\u001b[0m in \u001b[0;36m<module>\u001b[0;34m()\u001b[0m\n\u001b[0;32m----> 1\u001b[0;31m \u001b[0mtest_pred\u001b[0m \u001b[0;34m=\u001b[0m \u001b[0mnp\u001b[0m\u001b[0;34m.\u001b[0m\u001b[0mexpm1\u001b[0m\u001b[0;34m(\u001b[0m\u001b[0mgbm\u001b[0m\u001b[0;34m.\u001b[0m\u001b[0mpredict\u001b[0m\u001b[0;34m(\u001b[0m\u001b[0mdf_test\u001b[0m\u001b[0;34m,\u001b[0m \u001b[0mnum_iteration\u001b[0m\u001b[0;34m=\u001b[0m\u001b[0mgbm\u001b[0m\u001b[0;34m.\u001b[0m\u001b[0mbest_iteration_\u001b[0m\u001b[0;34m)\u001b[0m\u001b[0;34m)\u001b[0m\u001b[0;34m\u001b[0m\u001b[0;34m\u001b[0m\u001b[0m\n\u001b[0m\u001b[1;32m      2\u001b[0m \u001b[0mdf_test\u001b[0m\u001b[0;34m[\u001b[0m\u001b[0;34m\"SalePrice\"\u001b[0m\u001b[0;34m]\u001b[0m \u001b[0;34m=\u001b[0m \u001b[0mtest_pred\u001b[0m\u001b[0;34m\u001b[0m\u001b[0;34m\u001b[0m\u001b[0m\n\u001b[1;32m      3\u001b[0m \u001b[0mdf_test\u001b[0m\u001b[0;34m.\u001b[0m\u001b[0mto_csv\u001b[0m\u001b[0;34m(\u001b[0m\u001b[0;34m\"new.csv\"\u001b[0m\u001b[0;34m,\u001b[0m \u001b[0mcolumns\u001b[0m\u001b[0;34m=\u001b[0m\u001b[0;34m[\u001b[0m\u001b[0;34m\"Id\"\u001b[0m\u001b[0;34m,\u001b[0m \u001b[0;34m\"SalePrice\"\u001b[0m\u001b[0;34m]\u001b[0m\u001b[0;34m,\u001b[0m \u001b[0mindex\u001b[0m\u001b[0;34m=\u001b[0m\u001b[0;32mFalse\u001b[0m\u001b[0;34m)\u001b[0m\u001b[0;34m\u001b[0m\u001b[0;34m\u001b[0m\u001b[0m\n",
            "\u001b[0;32m/usr/local/lib/python3.6/dist-packages/lightgbm/sklearn.py\u001b[0m in \u001b[0;36mpredict\u001b[0;34m(self, X, raw_score, num_iteration, pred_leaf, pred_contrib, **kwargs)\u001b[0m\n\u001b[1;32m    603\u001b[0m                              \u001b[0;34m\"match the input. Model n_features_ is %s and \"\u001b[0m\u001b[0;34m\u001b[0m\u001b[0;34m\u001b[0m\u001b[0m\n\u001b[1;32m    604\u001b[0m                              \u001b[0;34m\"input n_features is %s \"\u001b[0m\u001b[0;34m\u001b[0m\u001b[0;34m\u001b[0m\u001b[0m\n\u001b[0;32m--> 605\u001b[0;31m                              % (self._n_features, n_features))\n\u001b[0m\u001b[1;32m    606\u001b[0m         return self.booster_.predict(X, raw_score=raw_score, num_iteration=num_iteration,\n\u001b[1;32m    607\u001b[0m                                      pred_leaf=pred_leaf, pred_contrib=pred_contrib, **kwargs)\n",
            "\u001b[0;31mValueError\u001b[0m: Number of features of the model must match the input. Model n_features_ is 332 and input n_features is 333 "
          ]
        }
      ]
    }
  ]
}